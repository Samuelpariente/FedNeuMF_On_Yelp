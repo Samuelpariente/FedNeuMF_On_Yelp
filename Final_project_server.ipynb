{
 "cells": [
  {
   "cell_type": "code",
   "execution_count": 1,
   "metadata": {},
   "outputs": [],
   "source": [
    "import torch\n",
    "\n",
    "DEVICE = torch.device('cuda' if torch.cuda.is_available() else 'cpu')\n",
    "\n",
    "MODEL_PARAMETERS = {\n",
    "    'default_model': {\n",
    "        'mf_dim': 8,\n",
    "        'layers': [64, 32, 16, 8],\n",
    "        'reg_layers': [0, 0, 0, 0],\n",
    "        'reg_mf': 0\n",
    "    },\n",
    "    'FedNCF': {\n",
    "        'mf_dim': 16,\n",
    "        'layers': [64, 32, 16, 8],\n",
    "        'reg_layers': [0, 0, 0, 0],\n",
    "        'reg_mf': 0\n",
    "    },\n",
    "}\n",
    "\n",
    "BATCH_SIZE = 64\n",
    "NUM_NEGATIVES = 4\n"
   ]
  },
  {
   "cell_type": "markdown",
   "metadata": {},
   "source": [
    "### fask API Experiment"
   ]
  },
  {
   "cell_type": "code",
   "execution_count": 3,
   "metadata": {},
   "outputs": [
    {
     "name": "stdout",
     "output_type": "stream",
     "text": [
      "Loaded `yelp` dataset: \n",
      "Number of users - 1325847, Number of items - 174566\n",
      " * Serving Flask app '__main__'\n",
      " * Debug mode: off\n"
     ]
    },
    {
     "name": "stderr",
     "output_type": "stream",
     "text": [
      "\u001b[31m\u001b[1mWARNING: This is a development server. Do not use it in a production deployment. Use a production WSGI server instead.\u001b[0m\n",
      " * Running on all addresses (0.0.0.0)\n",
      " * Running on http://127.0.0.1:8080\n",
      " * Running on http://10.152.122.5:8080\n",
      "\u001b[33mPress CTRL+C to quit\u001b[0m\n",
      "127.0.0.1 - - [25/Jan/2024 22:01:22] \"POST /train HTTP/1.1\" 200 -\n",
      "127.0.0.1 - - [25/Jan/2024 22:01:22] \"POST /train HTTP/1.1\" 200 -\n",
      "127.0.0.1 - - [25/Jan/2024 22:01:23] \"POST /train HTTP/1.1\" 200 -\n",
      "127.0.0.1 - - [25/Jan/2024 22:01:24] \"POST /train HTTP/1.1\" 200 -\n",
      "127.0.0.1 - - [25/Jan/2024 22:01:24] \"POST /train HTTP/1.1\" 200 -\n",
      "127.0.0.1 - - [25/Jan/2024 22:01:25] \"GET /get_weights HTTP/1.1\" 200 -\n"
     ]
    },
    {
     "name": "stdout",
     "output_type": "stream",
     "text": [
      "----------Performe fed avg----------\n"
     ]
    },
    {
     "name": "stderr",
     "output_type": "stream",
     "text": [
      "127.0.0.1 - - [25/Jan/2024 22:01:25] \"POST /train HTTP/1.1\" 200 -\n",
      "127.0.0.1 - - [25/Jan/2024 22:01:26] \"POST /train HTTP/1.1\" 200 -\n",
      "127.0.0.1 - - [25/Jan/2024 22:01:27] \"POST /train HTTP/1.1\" 200 -\n",
      "127.0.0.1 - - [25/Jan/2024 22:01:27] \"POST /train HTTP/1.1\" 200 -\n",
      "127.0.0.1 - - [25/Jan/2024 22:01:28] \"POST /train HTTP/1.1\" 200 -\n",
      "127.0.0.1 - - [25/Jan/2024 22:01:28] \"GET /get_weights HTTP/1.1\" 200 -\n"
     ]
    },
    {
     "name": "stdout",
     "output_type": "stream",
     "text": [
      "----------Performe fed avg----------\n"
     ]
    },
    {
     "name": "stderr",
     "output_type": "stream",
     "text": [
      "127.0.0.1 - - [25/Jan/2024 22:01:30] \"POST /train HTTP/1.1\" 200 -\n",
      "127.0.0.1 - - [25/Jan/2024 22:01:30] \"POST /train HTTP/1.1\" 200 -\n",
      "127.0.0.1 - - [25/Jan/2024 22:01:31] \"POST /train HTTP/1.1\" 200 -\n",
      "127.0.0.1 - - [25/Jan/2024 22:01:32] \"POST /train HTTP/1.1\" 200 -\n",
      "127.0.0.1 - - [25/Jan/2024 22:01:32] \"POST /train HTTP/1.1\" 200 -\n",
      "127.0.0.1 - - [25/Jan/2024 22:01:33] \"GET /get_weights HTTP/1.1\" 200 -\n"
     ]
    },
    {
     "name": "stdout",
     "output_type": "stream",
     "text": [
      "----------Performe fed avg----------\n"
     ]
    },
    {
     "name": "stderr",
     "output_type": "stream",
     "text": [
      "127.0.0.1 - - [25/Jan/2024 22:01:33] \"POST /train HTTP/1.1\" 200 -\n",
      "127.0.0.1 - - [25/Jan/2024 22:01:34] \"POST /train HTTP/1.1\" 200 -\n",
      "127.0.0.1 - - [25/Jan/2024 22:01:35] \"POST /train HTTP/1.1\" 200 -\n",
      "127.0.0.1 - - [25/Jan/2024 22:01:35] \"POST /train HTTP/1.1\" 200 -\n",
      "127.0.0.1 - - [25/Jan/2024 22:01:36] \"POST /train HTTP/1.1\" 200 -\n",
      "127.0.0.1 - - [25/Jan/2024 22:01:36] \"GET /get_weights HTTP/1.1\" 200 -\n"
     ]
    },
    {
     "name": "stdout",
     "output_type": "stream",
     "text": [
      "----------Performe fed avg----------\n"
     ]
    },
    {
     "name": "stderr",
     "output_type": "stream",
     "text": [
      "127.0.0.1 - - [25/Jan/2024 22:01:37] \"POST /train HTTP/1.1\" 200 -\n",
      "127.0.0.1 - - [25/Jan/2024 22:01:38] \"POST /train HTTP/1.1\" 200 -\n",
      "127.0.0.1 - - [25/Jan/2024 22:01:38] \"POST /train HTTP/1.1\" 200 -\n",
      "127.0.0.1 - - [25/Jan/2024 22:01:39] \"POST /train HTTP/1.1\" 200 -\n",
      "127.0.0.1 - - [25/Jan/2024 22:01:40] \"POST /train HTTP/1.1\" 200 -\n",
      "127.0.0.1 - - [25/Jan/2024 22:01:40] \"GET /get_weights HTTP/1.1\" 200 -\n"
     ]
    },
    {
     "name": "stdout",
     "output_type": "stream",
     "text": [
      "----------Performe fed avg----------\n"
     ]
    },
    {
     "name": "stderr",
     "output_type": "stream",
     "text": [
      "127.0.0.1 - - [25/Jan/2024 22:01:41] \"POST /train HTTP/1.1\" 200 -\n",
      "127.0.0.1 - - [25/Jan/2024 22:01:42] \"POST /train HTTP/1.1\" 200 -\n",
      "127.0.0.1 - - [25/Jan/2024 22:01:42] \"POST /train HTTP/1.1\" 200 -\n",
      "127.0.0.1 - - [25/Jan/2024 22:01:43] \"POST /train HTTP/1.1\" 200 -\n",
      "127.0.0.1 - - [25/Jan/2024 22:01:44] \"POST /train HTTP/1.1\" 200 -\n",
      "127.0.0.1 - - [25/Jan/2024 22:01:44] \"GET /get_weights HTTP/1.1\" 200 -\n"
     ]
    },
    {
     "name": "stdout",
     "output_type": "stream",
     "text": [
      "----------Performe fed avg----------\n"
     ]
    },
    {
     "name": "stderr",
     "output_type": "stream",
     "text": [
      "127.0.0.1 - - [25/Jan/2024 22:01:45] \"POST /train HTTP/1.1\" 200 -\n",
      "127.0.0.1 - - [25/Jan/2024 22:01:46] \"POST /train HTTP/1.1\" 200 -\n",
      "127.0.0.1 - - [25/Jan/2024 22:01:47] \"POST /train HTTP/1.1\" 200 -\n",
      "127.0.0.1 - - [25/Jan/2024 22:01:48] \"POST /train HTTP/1.1\" 200 -\n",
      "127.0.0.1 - - [25/Jan/2024 22:01:49] \"POST /train HTTP/1.1\" 200 -\n",
      "127.0.0.1 - - [25/Jan/2024 22:01:49] \"GET /get_weights HTTP/1.1\" 200 -\n"
     ]
    },
    {
     "name": "stdout",
     "output_type": "stream",
     "text": [
      "----------Performe fed avg----------\n"
     ]
    },
    {
     "name": "stderr",
     "output_type": "stream",
     "text": [
      "127.0.0.1 - - [25/Jan/2024 22:01:50] \"POST /train HTTP/1.1\" 200 -\n",
      "127.0.0.1 - - [25/Jan/2024 22:01:51] \"POST /train HTTP/1.1\" 200 -\n",
      "127.0.0.1 - - [25/Jan/2024 22:01:52] \"POST /train HTTP/1.1\" 200 -\n",
      "127.0.0.1 - - [25/Jan/2024 22:01:52] \"POST /train HTTP/1.1\" 200 -\n",
      "127.0.0.1 - - [25/Jan/2024 22:01:53] \"POST /train HTTP/1.1\" 200 -\n",
      "127.0.0.1 - - [25/Jan/2024 22:01:53] \"GET /get_weights HTTP/1.1\" 200 -\n"
     ]
    },
    {
     "name": "stdout",
     "output_type": "stream",
     "text": [
      "----------Performe fed avg----------\n"
     ]
    },
    {
     "name": "stderr",
     "output_type": "stream",
     "text": [
      "127.0.0.1 - - [25/Jan/2024 22:01:54] \"POST /train HTTP/1.1\" 200 -\n",
      "127.0.0.1 - - [25/Jan/2024 22:01:55] \"POST /train HTTP/1.1\" 200 -\n",
      "127.0.0.1 - - [25/Jan/2024 22:01:56] \"POST /train HTTP/1.1\" 200 -\n",
      "127.0.0.1 - - [25/Jan/2024 22:01:56] \"POST /train HTTP/1.1\" 200 -\n",
      "127.0.0.1 - - [25/Jan/2024 22:01:58] \"POST /train HTTP/1.1\" 200 -\n",
      "127.0.0.1 - - [25/Jan/2024 22:01:58] \"GET /get_weights HTTP/1.1\" 200 -\n"
     ]
    },
    {
     "name": "stdout",
     "output_type": "stream",
     "text": [
      "----------Performe fed avg----------\n"
     ]
    },
    {
     "name": "stderr",
     "output_type": "stream",
     "text": [
      "127.0.0.1 - - [25/Jan/2024 22:01:59] \"POST /train HTTP/1.1\" 200 -\n",
      "127.0.0.1 - - [25/Jan/2024 22:01:59] \"POST /train HTTP/1.1\" 200 -\n",
      "127.0.0.1 - - [25/Jan/2024 22:02:00] \"POST /train HTTP/1.1\" 200 -\n",
      "127.0.0.1 - - [25/Jan/2024 22:02:01] \"POST /train HTTP/1.1\" 200 -\n",
      "127.0.0.1 - - [25/Jan/2024 22:02:02] \"POST /train HTTP/1.1\" 200 -\n",
      "127.0.0.1 - - [25/Jan/2024 22:02:02] \"GET /get_weights HTTP/1.1\" 200 -\n"
     ]
    },
    {
     "name": "stdout",
     "output_type": "stream",
     "text": [
      "----------Performe fed avg----------\n"
     ]
    },
    {
     "name": "stderr",
     "output_type": "stream",
     "text": [
      "127.0.0.1 - - [25/Jan/2024 22:02:03] \"POST /train HTTP/1.1\" 200 -\n",
      "127.0.0.1 - - [25/Jan/2024 22:02:04] \"POST /train HTTP/1.1\" 200 -\n",
      "127.0.0.1 - - [25/Jan/2024 22:02:05] \"POST /train HTTP/1.1\" 200 -\n",
      "127.0.0.1 - - [25/Jan/2024 22:02:06] \"POST /train HTTP/1.1\" 200 -\n",
      "127.0.0.1 - - [25/Jan/2024 22:02:07] \"POST /train HTTP/1.1\" 200 -\n",
      "127.0.0.1 - - [25/Jan/2024 22:02:07] \"GET /get_weights HTTP/1.1\" 200 -\n"
     ]
    },
    {
     "name": "stdout",
     "output_type": "stream",
     "text": [
      "----------Performe fed avg----------\n"
     ]
    },
    {
     "name": "stderr",
     "output_type": "stream",
     "text": [
      "127.0.0.1 - - [25/Jan/2024 22:02:08] \"POST /train HTTP/1.1\" 200 -\n",
      "127.0.0.1 - - [25/Jan/2024 22:02:09] \"POST /train HTTP/1.1\" 200 -\n",
      "127.0.0.1 - - [25/Jan/2024 22:02:10] \"POST /train HTTP/1.1\" 200 -\n",
      "127.0.0.1 - - [25/Jan/2024 22:02:13] \"POST /train HTTP/1.1\" 200 -\n",
      "127.0.0.1 - - [25/Jan/2024 22:02:14] \"POST /train HTTP/1.1\" 200 -\n",
      "127.0.0.1 - - [25/Jan/2024 22:02:14] \"GET /get_weights HTTP/1.1\" 200 -\n"
     ]
    },
    {
     "name": "stdout",
     "output_type": "stream",
     "text": [
      "----------Performe fed avg----------\n"
     ]
    },
    {
     "name": "stderr",
     "output_type": "stream",
     "text": [
      "127.0.0.1 - - [25/Jan/2024 22:02:15] \"POST /train HTTP/1.1\" 200 -\n",
      "127.0.0.1 - - [25/Jan/2024 22:02:19] \"POST /train HTTP/1.1\" 200 -\n",
      "127.0.0.1 - - [25/Jan/2024 22:02:20] \"POST /train HTTP/1.1\" 200 -\n",
      "127.0.0.1 - - [25/Jan/2024 22:02:21] \"POST /train HTTP/1.1\" 200 -\n",
      "127.0.0.1 - - [25/Jan/2024 22:02:22] \"POST /train HTTP/1.1\" 200 -\n",
      "127.0.0.1 - - [25/Jan/2024 22:02:22] \"GET /get_weights HTTP/1.1\" 200 -\n"
     ]
    },
    {
     "name": "stdout",
     "output_type": "stream",
     "text": [
      "----------Performe fed avg----------\n"
     ]
    },
    {
     "name": "stderr",
     "output_type": "stream",
     "text": [
      "127.0.0.1 - - [25/Jan/2024 22:02:23] \"POST /train HTTP/1.1\" 200 -\n",
      "127.0.0.1 - - [25/Jan/2024 22:02:23] \"POST /train HTTP/1.1\" 200 -\n",
      "127.0.0.1 - - [25/Jan/2024 22:02:24] \"POST /train HTTP/1.1\" 200 -\n",
      "127.0.0.1 - - [25/Jan/2024 22:02:25] \"POST /train HTTP/1.1\" 200 -\n",
      "127.0.0.1 - - [25/Jan/2024 22:02:25] \"POST /train HTTP/1.1\" 200 -\n",
      "127.0.0.1 - - [25/Jan/2024 22:02:26] \"GET /get_weights HTTP/1.1\" 200 -\n"
     ]
    },
    {
     "name": "stdout",
     "output_type": "stream",
     "text": [
      "----------Performe fed avg----------\n"
     ]
    },
    {
     "name": "stderr",
     "output_type": "stream",
     "text": [
      "127.0.0.1 - - [25/Jan/2024 22:02:27] \"POST /train HTTP/1.1\" 200 -\n",
      "127.0.0.1 - - [25/Jan/2024 22:02:27] \"POST /train HTTP/1.1\" 200 -\n",
      "127.0.0.1 - - [25/Jan/2024 22:02:28] \"POST /train HTTP/1.1\" 200 -\n",
      "127.0.0.1 - - [25/Jan/2024 22:02:29] \"POST /train HTTP/1.1\" 200 -\n",
      "127.0.0.1 - - [25/Jan/2024 22:02:30] \"POST /train HTTP/1.1\" 200 -\n",
      "127.0.0.1 - - [25/Jan/2024 22:02:30] \"GET /get_weights HTTP/1.1\" 200 -\n"
     ]
    },
    {
     "name": "stdout",
     "output_type": "stream",
     "text": [
      "----------Performe fed avg----------\n"
     ]
    },
    {
     "name": "stderr",
     "output_type": "stream",
     "text": [
      "127.0.0.1 - - [25/Jan/2024 22:02:31] \"POST /train HTTP/1.1\" 200 -\n",
      "127.0.0.1 - - [25/Jan/2024 22:02:32] \"POST /train HTTP/1.1\" 200 -\n",
      "127.0.0.1 - - [25/Jan/2024 22:02:32] \"POST /train HTTP/1.1\" 200 -\n",
      "127.0.0.1 - - [25/Jan/2024 22:02:34] \"POST /train HTTP/1.1\" 200 -\n",
      "127.0.0.1 - - [25/Jan/2024 22:02:34] \"POST /train HTTP/1.1\" 200 -\n",
      "127.0.0.1 - - [25/Jan/2024 22:02:34] \"GET /get_weights HTTP/1.1\" 200 -\n"
     ]
    },
    {
     "name": "stdout",
     "output_type": "stream",
     "text": [
      "----------Performe fed avg----------\n"
     ]
    },
    {
     "name": "stderr",
     "output_type": "stream",
     "text": [
      "127.0.0.1 - - [25/Jan/2024 22:02:35] \"POST /train HTTP/1.1\" 200 -\n",
      "127.0.0.1 - - [25/Jan/2024 22:02:36] \"POST /train HTTP/1.1\" 200 -\n",
      "127.0.0.1 - - [25/Jan/2024 22:02:37] \"POST /train HTTP/1.1\" 200 -\n",
      "127.0.0.1 - - [25/Jan/2024 22:02:37] \"POST /train HTTP/1.1\" 200 -\n",
      "127.0.0.1 - - [25/Jan/2024 22:02:38] \"POST /train HTTP/1.1\" 200 -\n",
      "127.0.0.1 - - [25/Jan/2024 22:02:38] \"GET /get_weights HTTP/1.1\" 200 -\n"
     ]
    },
    {
     "name": "stdout",
     "output_type": "stream",
     "text": [
      "----------Performe fed avg----------\n"
     ]
    },
    {
     "name": "stderr",
     "output_type": "stream",
     "text": [
      "127.0.0.1 - - [25/Jan/2024 22:02:39] \"POST /train HTTP/1.1\" 200 -\n",
      "127.0.0.1 - - [25/Jan/2024 22:02:40] \"POST /train HTTP/1.1\" 200 -\n",
      "127.0.0.1 - - [25/Jan/2024 22:02:40] \"POST /train HTTP/1.1\" 200 -\n",
      "127.0.0.1 - - [25/Jan/2024 22:02:41] \"POST /train HTTP/1.1\" 200 -\n",
      "127.0.0.1 - - [25/Jan/2024 22:02:42] \"POST /train HTTP/1.1\" 200 -\n",
      "127.0.0.1 - - [25/Jan/2024 22:02:42] \"GET /get_weights HTTP/1.1\" 200 -\n"
     ]
    },
    {
     "name": "stdout",
     "output_type": "stream",
     "text": [
      "----------Performe fed avg----------\n"
     ]
    },
    {
     "name": "stderr",
     "output_type": "stream",
     "text": [
      "127.0.0.1 - - [25/Jan/2024 22:02:43] \"POST /train HTTP/1.1\" 200 -\n",
      "127.0.0.1 - - [25/Jan/2024 22:02:44] \"POST /train HTTP/1.1\" 200 -\n",
      "127.0.0.1 - - [25/Jan/2024 22:02:44] \"POST /train HTTP/1.1\" 200 -\n",
      "127.0.0.1 - - [25/Jan/2024 22:02:45] \"POST /train HTTP/1.1\" 200 -\n",
      "127.0.0.1 - - [25/Jan/2024 22:02:45] \"POST /train HTTP/1.1\" 200 -\n",
      "127.0.0.1 - - [25/Jan/2024 22:02:46] \"GET /get_weights HTTP/1.1\" 200 -\n"
     ]
    },
    {
     "name": "stdout",
     "output_type": "stream",
     "text": [
      "----------Performe fed avg----------\n"
     ]
    },
    {
     "name": "stderr",
     "output_type": "stream",
     "text": [
      "127.0.0.1 - - [25/Jan/2024 22:02:47] \"POST /train HTTP/1.1\" 200 -\n",
      "127.0.0.1 - - [25/Jan/2024 22:02:47] \"POST /train HTTP/1.1\" 200 -\n",
      "127.0.0.1 - - [25/Jan/2024 22:02:48] \"POST /train HTTP/1.1\" 200 -\n",
      "127.0.0.1 - - [25/Jan/2024 22:02:49] \"POST /train HTTP/1.1\" 200 -\n",
      "127.0.0.1 - - [25/Jan/2024 22:02:50] \"POST /train HTTP/1.1\" 200 -\n",
      "127.0.0.1 - - [25/Jan/2024 22:02:50] \"GET /get_weights HTTP/1.1\" 200 -\n"
     ]
    },
    {
     "name": "stdout",
     "output_type": "stream",
     "text": [
      "----------Performe fed avg----------\n"
     ]
    },
    {
     "name": "stderr",
     "output_type": "stream",
     "text": [
      "127.0.0.1 - - [25/Jan/2024 22:02:51] \"POST /train HTTP/1.1\" 200 -\n",
      "127.0.0.1 - - [25/Jan/2024 22:02:55] \"POST /train HTTP/1.1\" 200 -\n",
      "127.0.0.1 - - [25/Jan/2024 22:02:55] \"POST /train HTTP/1.1\" 200 -\n",
      "127.0.0.1 - - [25/Jan/2024 22:02:56] \"POST /train HTTP/1.1\" 200 -\n",
      "127.0.0.1 - - [25/Jan/2024 22:02:57] \"POST /train HTTP/1.1\" 200 -\n",
      "127.0.0.1 - - [25/Jan/2024 22:02:57] \"GET /get_weights HTTP/1.1\" 200 -\n"
     ]
    },
    {
     "name": "stdout",
     "output_type": "stream",
     "text": [
      "----------Performe fed avg----------\n"
     ]
    },
    {
     "name": "stderr",
     "output_type": "stream",
     "text": [
      "127.0.0.1 - - [25/Jan/2024 22:02:58] \"POST /train HTTP/1.1\" 200 -\n",
      "127.0.0.1 - - [25/Jan/2024 22:02:58] \"POST /train HTTP/1.1\" 200 -\n",
      "127.0.0.1 - - [25/Jan/2024 22:02:59] \"POST /train HTTP/1.1\" 200 -\n",
      "127.0.0.1 - - [25/Jan/2024 22:03:00] \"POST /train HTTP/1.1\" 200 -\n",
      "127.0.0.1 - - [25/Jan/2024 22:03:00] \"POST /train HTTP/1.1\" 200 -\n",
      "127.0.0.1 - - [25/Jan/2024 22:03:00] \"GET /get_weights HTTP/1.1\" 200 -\n"
     ]
    },
    {
     "name": "stdout",
     "output_type": "stream",
     "text": [
      "----------Performe fed avg----------\n"
     ]
    },
    {
     "name": "stderr",
     "output_type": "stream",
     "text": [
      "127.0.0.1 - - [25/Jan/2024 22:03:02] \"POST /train HTTP/1.1\" 200 -\n",
      "127.0.0.1 - - [25/Jan/2024 22:03:02] \"POST /train HTTP/1.1\" 200 -\n",
      "127.0.0.1 - - [25/Jan/2024 22:03:03] \"POST /train HTTP/1.1\" 200 -\n",
      "127.0.0.1 - - [25/Jan/2024 22:03:04] \"POST /train HTTP/1.1\" 200 -\n",
      "127.0.0.1 - - [25/Jan/2024 22:03:04] \"POST /train HTTP/1.1\" 200 -\n",
      "127.0.0.1 - - [25/Jan/2024 22:03:04] \"GET /get_weights HTTP/1.1\" 200 -\n"
     ]
    },
    {
     "name": "stdout",
     "output_type": "stream",
     "text": [
      "----------Performe fed avg----------\n"
     ]
    },
    {
     "name": "stderr",
     "output_type": "stream",
     "text": [
      "127.0.0.1 - - [25/Jan/2024 22:03:05] \"POST /train HTTP/1.1\" 200 -\n",
      "127.0.0.1 - - [25/Jan/2024 22:03:06] \"POST /train HTTP/1.1\" 200 -\n",
      "127.0.0.1 - - [25/Jan/2024 22:03:07] \"POST /train HTTP/1.1\" 200 -\n",
      "127.0.0.1 - - [25/Jan/2024 22:03:07] \"POST /train HTTP/1.1\" 200 -\n",
      "127.0.0.1 - - [25/Jan/2024 22:03:08] \"POST /train HTTP/1.1\" 200 -\n",
      "127.0.0.1 - - [25/Jan/2024 22:03:09] \"GET /get_weights HTTP/1.1\" 200 -\n"
     ]
    },
    {
     "name": "stdout",
     "output_type": "stream",
     "text": [
      "----------Performe fed avg----------\n"
     ]
    },
    {
     "name": "stderr",
     "output_type": "stream",
     "text": [
      "127.0.0.1 - - [25/Jan/2024 22:03:10] \"POST /train HTTP/1.1\" 200 -\n",
      "127.0.0.1 - - [25/Jan/2024 22:03:10] \"POST /train HTTP/1.1\" 200 -\n",
      "127.0.0.1 - - [25/Jan/2024 22:03:11] \"POST /train HTTP/1.1\" 200 -\n",
      "127.0.0.1 - - [25/Jan/2024 22:03:12] \"POST /train HTTP/1.1\" 200 -\n",
      "127.0.0.1 - - [25/Jan/2024 22:03:12] \"POST /train HTTP/1.1\" 200 -\n",
      "127.0.0.1 - - [25/Jan/2024 22:03:13] \"GET /get_weights HTTP/1.1\" 200 -\n"
     ]
    },
    {
     "name": "stdout",
     "output_type": "stream",
     "text": [
      "----------Performe fed avg----------\n"
     ]
    },
    {
     "name": "stderr",
     "output_type": "stream",
     "text": [
      "127.0.0.1 - - [25/Jan/2024 22:03:14] \"POST /train HTTP/1.1\" 200 -\n",
      "127.0.0.1 - - [25/Jan/2024 22:03:15] \"POST /train HTTP/1.1\" 200 -\n",
      "127.0.0.1 - - [25/Jan/2024 22:03:16] \"POST /train HTTP/1.1\" 200 -\n",
      "127.0.0.1 - - [25/Jan/2024 22:03:16] \"POST /train HTTP/1.1\" 200 -\n",
      "127.0.0.1 - - [25/Jan/2024 22:03:17] \"POST /train HTTP/1.1\" 200 -\n",
      "127.0.0.1 - - [25/Jan/2024 22:03:17] \"GET /get_weights HTTP/1.1\" 200 -\n"
     ]
    },
    {
     "name": "stdout",
     "output_type": "stream",
     "text": [
      "----------Performe fed avg----------\n"
     ]
    },
    {
     "name": "stderr",
     "output_type": "stream",
     "text": [
      "127.0.0.1 - - [25/Jan/2024 22:03:18] \"POST /train HTTP/1.1\" 200 -\n",
      "127.0.0.1 - - [25/Jan/2024 22:03:19] \"POST /train HTTP/1.1\" 200 -\n",
      "127.0.0.1 - - [25/Jan/2024 22:03:19] \"POST /train HTTP/1.1\" 200 -\n",
      "127.0.0.1 - - [25/Jan/2024 22:03:20] \"POST /train HTTP/1.1\" 200 -\n",
      "127.0.0.1 - - [25/Jan/2024 22:03:21] \"POST /train HTTP/1.1\" 200 -\n",
      "127.0.0.1 - - [25/Jan/2024 22:03:21] \"GET /get_weights HTTP/1.1\" 200 -\n"
     ]
    },
    {
     "name": "stdout",
     "output_type": "stream",
     "text": [
      "----------Performe fed avg----------\n"
     ]
    },
    {
     "name": "stderr",
     "output_type": "stream",
     "text": [
      "127.0.0.1 - - [25/Jan/2024 22:03:22] \"POST /train HTTP/1.1\" 200 -\n",
      "127.0.0.1 - - [25/Jan/2024 22:03:23] \"POST /train HTTP/1.1\" 200 -\n",
      "127.0.0.1 - - [25/Jan/2024 22:03:24] \"POST /train HTTP/1.1\" 200 -\n",
      "127.0.0.1 - - [25/Jan/2024 22:03:24] \"POST /train HTTP/1.1\" 200 -\n",
      "127.0.0.1 - - [25/Jan/2024 22:03:25] \"POST /train HTTP/1.1\" 200 -\n",
      "127.0.0.1 - - [25/Jan/2024 22:03:25] \"GET /get_weights HTTP/1.1\" 200 -\n"
     ]
    },
    {
     "name": "stdout",
     "output_type": "stream",
     "text": [
      "----------Performe fed avg----------\n"
     ]
    },
    {
     "name": "stderr",
     "output_type": "stream",
     "text": [
      "127.0.0.1 - - [25/Jan/2024 22:03:26] \"POST /train HTTP/1.1\" 200 -\n",
      "127.0.0.1 - - [25/Jan/2024 22:03:27] \"POST /train HTTP/1.1\" 200 -\n",
      "127.0.0.1 - - [25/Jan/2024 22:03:28] \"POST /train HTTP/1.1\" 200 -\n",
      "127.0.0.1 - - [25/Jan/2024 22:03:29] \"POST /train HTTP/1.1\" 200 -\n",
      "127.0.0.1 - - [25/Jan/2024 22:03:30] \"POST /train HTTP/1.1\" 200 -\n",
      "127.0.0.1 - - [25/Jan/2024 22:03:30] \"GET /get_weights HTTP/1.1\" 200 -\n"
     ]
    },
    {
     "name": "stdout",
     "output_type": "stream",
     "text": [
      "----------Performe fed avg----------\n"
     ]
    },
    {
     "name": "stderr",
     "output_type": "stream",
     "text": [
      "127.0.0.1 - - [25/Jan/2024 22:03:31] \"POST /train HTTP/1.1\" 200 -\n",
      "127.0.0.1 - - [25/Jan/2024 22:03:32] \"POST /train HTTP/1.1\" 200 -\n",
      "127.0.0.1 - - [25/Jan/2024 22:03:32] \"POST /train HTTP/1.1\" 200 -\n",
      "127.0.0.1 - - [25/Jan/2024 22:03:33] \"POST /train HTTP/1.1\" 200 -\n",
      "127.0.0.1 - - [25/Jan/2024 22:03:34] \"POST /train HTTP/1.1\" 200 -\n",
      "127.0.0.1 - - [25/Jan/2024 22:03:34] \"GET /get_weights HTTP/1.1\" 200 -\n"
     ]
    },
    {
     "name": "stdout",
     "output_type": "stream",
     "text": [
      "----------Performe fed avg----------\n"
     ]
    },
    {
     "name": "stderr",
     "output_type": "stream",
     "text": [
      "127.0.0.1 - - [25/Jan/2024 22:03:35] \"POST /train HTTP/1.1\" 200 -\n",
      "127.0.0.1 - - [25/Jan/2024 22:03:35] \"POST /train HTTP/1.1\" 200 -\n",
      "127.0.0.1 - - [25/Jan/2024 22:03:36] \"POST /train HTTP/1.1\" 200 -\n",
      "127.0.0.1 - - [25/Jan/2024 22:03:37] \"POST /train HTTP/1.1\" 200 -\n",
      "127.0.0.1 - - [25/Jan/2024 22:03:37] \"POST /train HTTP/1.1\" 200 -\n",
      "127.0.0.1 - - [25/Jan/2024 22:03:38] \"GET /get_weights HTTP/1.1\" 200 -\n"
     ]
    },
    {
     "name": "stdout",
     "output_type": "stream",
     "text": [
      "----------Performe fed avg----------\n"
     ]
    },
    {
     "name": "stderr",
     "output_type": "stream",
     "text": [
      "127.0.0.1 - - [25/Jan/2024 22:03:39] \"POST /train HTTP/1.1\" 200 -\n",
      "127.0.0.1 - - [25/Jan/2024 22:03:39] \"POST /train HTTP/1.1\" 200 -\n",
      "127.0.0.1 - - [25/Jan/2024 22:03:40] \"POST /train HTTP/1.1\" 200 -\n",
      "127.0.0.1 - - [25/Jan/2024 22:03:40] \"POST /train HTTP/1.1\" 200 -\n",
      "127.0.0.1 - - [25/Jan/2024 22:03:41] \"POST /train HTTP/1.1\" 200 -\n",
      "127.0.0.1 - - [25/Jan/2024 22:03:41] \"GET /get_weights HTTP/1.1\" 200 -\n"
     ]
    },
    {
     "name": "stdout",
     "output_type": "stream",
     "text": [
      "----------Performe fed avg----------\n"
     ]
    },
    {
     "name": "stderr",
     "output_type": "stream",
     "text": [
      "127.0.0.1 - - [25/Jan/2024 22:03:42] \"POST /train HTTP/1.1\" 200 -\n",
      "127.0.0.1 - - [25/Jan/2024 22:03:43] \"POST /train HTTP/1.1\" 200 -\n",
      "127.0.0.1 - - [25/Jan/2024 22:03:44] \"POST /train HTTP/1.1\" 200 -\n",
      "127.0.0.1 - - [25/Jan/2024 22:03:44] \"POST /train HTTP/1.1\" 200 -\n",
      "127.0.0.1 - - [25/Jan/2024 22:03:45] \"POST /train HTTP/1.1\" 200 -\n",
      "127.0.0.1 - - [25/Jan/2024 22:03:45] \"GET /get_weights HTTP/1.1\" 200 -\n"
     ]
    },
    {
     "name": "stdout",
     "output_type": "stream",
     "text": [
      "----------Performe fed avg----------\n"
     ]
    },
    {
     "name": "stderr",
     "output_type": "stream",
     "text": [
      "127.0.0.1 - - [25/Jan/2024 22:03:46] \"POST /train HTTP/1.1\" 200 -\n",
      "127.0.0.1 - - [25/Jan/2024 22:03:47] \"POST /train HTTP/1.1\" 200 -\n",
      "127.0.0.1 - - [25/Jan/2024 22:03:48] \"POST /train HTTP/1.1\" 200 -\n",
      "127.0.0.1 - - [25/Jan/2024 22:03:52] \"POST /train HTTP/1.1\" 200 -\n",
      "127.0.0.1 - - [25/Jan/2024 22:03:52] \"POST /train HTTP/1.1\" 200 -\n",
      "127.0.0.1 - - [25/Jan/2024 22:03:53] \"GET /get_weights HTTP/1.1\" 200 -\n"
     ]
    },
    {
     "name": "stdout",
     "output_type": "stream",
     "text": [
      "----------Performe fed avg----------\n"
     ]
    },
    {
     "name": "stderr",
     "output_type": "stream",
     "text": [
      "127.0.0.1 - - [25/Jan/2024 22:03:54] \"POST /train HTTP/1.1\" 200 -\n",
      "127.0.0.1 - - [25/Jan/2024 22:03:58] \"POST /train HTTP/1.1\" 200 -\n",
      "127.0.0.1 - - [25/Jan/2024 22:03:58] \"POST /train HTTP/1.1\" 200 -\n",
      "127.0.0.1 - - [25/Jan/2024 22:03:59] \"POST /train HTTP/1.1\" 200 -\n",
      "127.0.0.1 - - [25/Jan/2024 22:04:00] \"POST /train HTTP/1.1\" 200 -\n",
      "127.0.0.1 - - [25/Jan/2024 22:04:00] \"GET /get_weights HTTP/1.1\" 200 -\n"
     ]
    },
    {
     "name": "stdout",
     "output_type": "stream",
     "text": [
      "----------Performe fed avg----------\n"
     ]
    },
    {
     "name": "stderr",
     "output_type": "stream",
     "text": [
      "127.0.0.1 - - [25/Jan/2024 22:04:01] \"POST /train HTTP/1.1\" 200 -\n",
      "127.0.0.1 - - [25/Jan/2024 22:04:01] \"POST /train HTTP/1.1\" 200 -\n",
      "127.0.0.1 - - [25/Jan/2024 22:04:02] \"POST /train HTTP/1.1\" 200 -\n",
      "127.0.0.1 - - [25/Jan/2024 22:04:03] \"POST /train HTTP/1.1\" 200 -\n",
      "127.0.0.1 - - [25/Jan/2024 22:04:03] \"POST /train HTTP/1.1\" 200 -\n",
      "127.0.0.1 - - [25/Jan/2024 22:04:03] \"GET /get_weights HTTP/1.1\" 200 -\n"
     ]
    },
    {
     "name": "stdout",
     "output_type": "stream",
     "text": [
      "----------Performe fed avg----------\n"
     ]
    },
    {
     "name": "stderr",
     "output_type": "stream",
     "text": [
      "127.0.0.1 - - [25/Jan/2024 22:04:04] \"POST /train HTTP/1.1\" 200 -\n",
      "127.0.0.1 - - [25/Jan/2024 22:04:05] \"POST /train HTTP/1.1\" 200 -\n",
      "127.0.0.1 - - [25/Jan/2024 22:04:06] \"POST /train HTTP/1.1\" 200 -\n",
      "127.0.0.1 - - [25/Jan/2024 22:04:06] \"POST /train HTTP/1.1\" 200 -\n",
      "127.0.0.1 - - [25/Jan/2024 22:04:07] \"POST /train HTTP/1.1\" 200 -\n",
      "127.0.0.1 - - [25/Jan/2024 22:04:07] \"GET /get_weights HTTP/1.1\" 200 -\n"
     ]
    },
    {
     "name": "stdout",
     "output_type": "stream",
     "text": [
      "----------Performe fed avg----------\n"
     ]
    },
    {
     "name": "stderr",
     "output_type": "stream",
     "text": [
      "127.0.0.1 - - [25/Jan/2024 22:04:08] \"POST /train HTTP/1.1\" 200 -\n",
      "127.0.0.1 - - [25/Jan/2024 22:04:09] \"POST /train HTTP/1.1\" 200 -\n",
      "127.0.0.1 - - [25/Jan/2024 22:04:09] \"POST /train HTTP/1.1\" 200 -\n",
      "127.0.0.1 - - [25/Jan/2024 22:04:10] \"POST /train HTTP/1.1\" 200 -\n",
      "127.0.0.1 - - [25/Jan/2024 22:04:11] \"POST /train HTTP/1.1\" 200 -\n",
      "127.0.0.1 - - [25/Jan/2024 22:04:11] \"GET /get_weights HTTP/1.1\" 200 -\n"
     ]
    },
    {
     "name": "stdout",
     "output_type": "stream",
     "text": [
      "----------Performe fed avg----------\n"
     ]
    },
    {
     "name": "stderr",
     "output_type": "stream",
     "text": [
      "127.0.0.1 - - [25/Jan/2024 22:04:12] \"POST /train HTTP/1.1\" 200 -\n",
      "127.0.0.1 - - [25/Jan/2024 22:04:13] \"POST /train HTTP/1.1\" 200 -\n",
      "127.0.0.1 - - [25/Jan/2024 22:04:14] \"POST /train HTTP/1.1\" 200 -\n",
      "127.0.0.1 - - [25/Jan/2024 22:04:14] \"POST /train HTTP/1.1\" 200 -\n",
      "127.0.0.1 - - [25/Jan/2024 22:04:15] \"POST /train HTTP/1.1\" 200 -\n",
      "127.0.0.1 - - [25/Jan/2024 22:04:15] \"GET /get_weights HTTP/1.1\" 200 -\n"
     ]
    },
    {
     "name": "stdout",
     "output_type": "stream",
     "text": [
      "----------Performe fed avg----------\n"
     ]
    },
    {
     "name": "stderr",
     "output_type": "stream",
     "text": [
      "127.0.0.1 - - [25/Jan/2024 22:04:16] \"POST /train HTTP/1.1\" 200 -\n",
      "127.0.0.1 - - [25/Jan/2024 22:04:17] \"POST /train HTTP/1.1\" 200 -\n",
      "127.0.0.1 - - [25/Jan/2024 22:04:18] \"POST /train HTTP/1.1\" 200 -\n",
      "127.0.0.1 - - [25/Jan/2024 22:04:18] \"POST /train HTTP/1.1\" 200 -\n",
      "127.0.0.1 - - [25/Jan/2024 22:04:19] \"POST /train HTTP/1.1\" 200 -\n",
      "127.0.0.1 - - [25/Jan/2024 22:04:19] \"GET /get_weights HTTP/1.1\" 200 -\n"
     ]
    },
    {
     "name": "stdout",
     "output_type": "stream",
     "text": [
      "----------Performe fed avg----------\n"
     ]
    },
    {
     "name": "stderr",
     "output_type": "stream",
     "text": [
      "127.0.0.1 - - [25/Jan/2024 22:04:20] \"POST /train HTTP/1.1\" 200 -\n",
      "127.0.0.1 - - [25/Jan/2024 22:04:21] \"POST /train HTTP/1.1\" 200 -\n",
      "127.0.0.1 - - [25/Jan/2024 22:04:21] \"POST /train HTTP/1.1\" 200 -\n",
      "127.0.0.1 - - [25/Jan/2024 22:04:22] \"POST /train HTTP/1.1\" 200 -\n",
      "127.0.0.1 - - [25/Jan/2024 22:04:23] \"POST /train HTTP/1.1\" 200 -\n",
      "127.0.0.1 - - [25/Jan/2024 22:04:23] \"GET /get_weights HTTP/1.1\" 200 -\n"
     ]
    },
    {
     "name": "stdout",
     "output_type": "stream",
     "text": [
      "----------Performe fed avg----------\n"
     ]
    },
    {
     "name": "stderr",
     "output_type": "stream",
     "text": [
      "127.0.0.1 - - [25/Jan/2024 22:04:24] \"POST /train HTTP/1.1\" 200 -\n",
      "127.0.0.1 - - [25/Jan/2024 22:04:24] \"POST /train HTTP/1.1\" 200 -\n",
      "127.0.0.1 - - [25/Jan/2024 22:04:25] \"POST /train HTTP/1.1\" 200 -\n",
      "127.0.0.1 - - [25/Jan/2024 22:04:26] \"POST /train HTTP/1.1\" 200 -\n",
      "127.0.0.1 - - [25/Jan/2024 22:04:27] \"POST /train HTTP/1.1\" 200 -\n",
      "127.0.0.1 - - [25/Jan/2024 22:04:27] \"GET /get_weights HTTP/1.1\" 200 -\n"
     ]
    },
    {
     "name": "stdout",
     "output_type": "stream",
     "text": [
      "----------Performe fed avg----------\n"
     ]
    },
    {
     "name": "stderr",
     "output_type": "stream",
     "text": [
      "127.0.0.1 - - [25/Jan/2024 22:04:28] \"POST /train HTTP/1.1\" 200 -\n",
      "127.0.0.1 - - [25/Jan/2024 22:04:28] \"POST /train HTTP/1.1\" 200 -\n",
      "127.0.0.1 - - [25/Jan/2024 22:04:30] \"POST /train HTTP/1.1\" 200 -\n",
      "127.0.0.1 - - [25/Jan/2024 22:04:30] \"POST /train HTTP/1.1\" 200 -\n",
      "127.0.0.1 - - [25/Jan/2024 22:04:31] \"POST /train HTTP/1.1\" 200 -\n",
      "127.0.0.1 - - [25/Jan/2024 22:04:31] \"GET /get_weights HTTP/1.1\" 200 -\n"
     ]
    },
    {
     "name": "stdout",
     "output_type": "stream",
     "text": [
      "----------Performe fed avg----------\n"
     ]
    },
    {
     "name": "stderr",
     "output_type": "stream",
     "text": [
      "127.0.0.1 - - [25/Jan/2024 22:04:35] \"POST /train HTTP/1.1\" 200 -\n",
      "127.0.0.1 - - [25/Jan/2024 22:04:36] \"POST /train HTTP/1.1\" 200 -\n",
      "127.0.0.1 - - [25/Jan/2024 22:04:36] \"POST /train HTTP/1.1\" 200 -\n",
      "127.0.0.1 - - [25/Jan/2024 22:04:37] \"POST /train HTTP/1.1\" 200 -\n",
      "127.0.0.1 - - [25/Jan/2024 22:04:38] \"POST /train HTTP/1.1\" 200 -\n",
      "127.0.0.1 - - [25/Jan/2024 22:04:38] \"GET /get_weights HTTP/1.1\" 200 -\n"
     ]
    },
    {
     "name": "stdout",
     "output_type": "stream",
     "text": [
      "----------Performe fed avg----------\n"
     ]
    },
    {
     "name": "stderr",
     "output_type": "stream",
     "text": [
      "127.0.0.1 - - [25/Jan/2024 22:04:39] \"POST /train HTTP/1.1\" 200 -\n",
      "127.0.0.1 - - [25/Jan/2024 22:04:40] \"POST /train HTTP/1.1\" 200 -\n",
      "127.0.0.1 - - [25/Jan/2024 22:04:40] \"POST /train HTTP/1.1\" 200 -\n",
      "127.0.0.1 - - [25/Jan/2024 22:04:41] \"POST /train HTTP/1.1\" 200 -\n",
      "127.0.0.1 - - [25/Jan/2024 22:04:42] \"POST /train HTTP/1.1\" 200 -\n",
      "127.0.0.1 - - [25/Jan/2024 22:04:42] \"GET /get_weights HTTP/1.1\" 200 -\n"
     ]
    },
    {
     "name": "stdout",
     "output_type": "stream",
     "text": [
      "----------Performe fed avg----------\n"
     ]
    },
    {
     "name": "stderr",
     "output_type": "stream",
     "text": [
      "127.0.0.1 - - [25/Jan/2024 22:04:43] \"POST /train HTTP/1.1\" 200 -\n",
      "127.0.0.1 - - [25/Jan/2024 22:04:44] \"POST /train HTTP/1.1\" 200 -\n",
      "127.0.0.1 - - [25/Jan/2024 22:04:45] \"POST /train HTTP/1.1\" 200 -\n",
      "127.0.0.1 - - [25/Jan/2024 22:04:45] \"POST /train HTTP/1.1\" 200 -\n",
      "127.0.0.1 - - [25/Jan/2024 22:04:46] \"POST /train HTTP/1.1\" 200 -\n",
      "127.0.0.1 - - [25/Jan/2024 22:04:46] \"GET /get_weights HTTP/1.1\" 200 -\n"
     ]
    },
    {
     "name": "stdout",
     "output_type": "stream",
     "text": [
      "----------Performe fed avg----------\n"
     ]
    },
    {
     "name": "stderr",
     "output_type": "stream",
     "text": [
      "127.0.0.1 - - [25/Jan/2024 22:04:47] \"POST /train HTTP/1.1\" 200 -\n",
      "127.0.0.1 - - [25/Jan/2024 22:04:48] \"POST /train HTTP/1.1\" 200 -\n",
      "127.0.0.1 - - [25/Jan/2024 22:04:49] \"POST /train HTTP/1.1\" 200 -\n",
      "127.0.0.1 - - [25/Jan/2024 22:04:49] \"POST /train HTTP/1.1\" 200 -\n",
      "127.0.0.1 - - [25/Jan/2024 22:04:50] \"POST /train HTTP/1.1\" 200 -\n",
      "127.0.0.1 - - [25/Jan/2024 22:04:50] \"GET /get_weights HTTP/1.1\" 200 -\n"
     ]
    },
    {
     "name": "stdout",
     "output_type": "stream",
     "text": [
      "----------Performe fed avg----------\n"
     ]
    },
    {
     "name": "stderr",
     "output_type": "stream",
     "text": [
      "127.0.0.1 - - [25/Jan/2024 22:04:51] \"POST /train HTTP/1.1\" 200 -\n",
      "127.0.0.1 - - [25/Jan/2024 22:04:52] \"POST /train HTTP/1.1\" 200 -\n",
      "127.0.0.1 - - [25/Jan/2024 22:04:52] \"POST /train HTTP/1.1\" 200 -\n",
      "127.0.0.1 - - [25/Jan/2024 22:04:53] \"POST /train HTTP/1.1\" 200 -\n",
      "127.0.0.1 - - [25/Jan/2024 22:04:54] \"POST /train HTTP/1.1\" 200 -\n",
      "127.0.0.1 - - [25/Jan/2024 22:04:54] \"GET /get_weights HTTP/1.1\" 200 -\n"
     ]
    },
    {
     "name": "stdout",
     "output_type": "stream",
     "text": [
      "----------Performe fed avg----------\n"
     ]
    },
    {
     "name": "stderr",
     "output_type": "stream",
     "text": [
      "127.0.0.1 - - [25/Jan/2024 22:04:55] \"POST /train HTTP/1.1\" 200 -\n",
      "127.0.0.1 - - [25/Jan/2024 22:04:56] \"POST /train HTTP/1.1\" 200 -\n",
      "127.0.0.1 - - [25/Jan/2024 22:04:56] \"POST /train HTTP/1.1\" 200 -\n",
      "127.0.0.1 - - [25/Jan/2024 22:04:57] \"POST /train HTTP/1.1\" 200 -\n",
      "127.0.0.1 - - [25/Jan/2024 22:04:58] \"POST /train HTTP/1.1\" 200 -\n",
      "127.0.0.1 - - [25/Jan/2024 22:04:58] \"GET /get_weights HTTP/1.1\" 200 -\n"
     ]
    },
    {
     "name": "stdout",
     "output_type": "stream",
     "text": [
      "----------Performe fed avg----------\n"
     ]
    },
    {
     "name": "stderr",
     "output_type": "stream",
     "text": [
      "127.0.0.1 - - [25/Jan/2024 22:04:59] \"POST /train HTTP/1.1\" 200 -\n",
      "127.0.0.1 - - [25/Jan/2024 22:05:00] \"POST /train HTTP/1.1\" 200 -\n",
      "127.0.0.1 - - [25/Jan/2024 22:05:00] \"POST /train HTTP/1.1\" 200 -\n",
      "127.0.0.1 - - [25/Jan/2024 22:05:01] \"POST /train HTTP/1.1\" 200 -\n",
      "127.0.0.1 - - [25/Jan/2024 22:05:02] \"POST /train HTTP/1.1\" 200 -\n",
      "127.0.0.1 - - [25/Jan/2024 22:05:02] \"GET /get_weights HTTP/1.1\" 200 -\n"
     ]
    },
    {
     "name": "stdout",
     "output_type": "stream",
     "text": [
      "----------Performe fed avg----------\n"
     ]
    },
    {
     "name": "stderr",
     "output_type": "stream",
     "text": [
      "127.0.0.1 - - [25/Jan/2024 22:05:03] \"POST /train HTTP/1.1\" 200 -\n",
      "127.0.0.1 - - [25/Jan/2024 22:05:03] \"POST /train HTTP/1.1\" 200 -\n",
      "127.0.0.1 - - [25/Jan/2024 22:05:04] \"POST /train HTTP/1.1\" 200 -\n",
      "127.0.0.1 - - [25/Jan/2024 22:05:05] \"POST /train HTTP/1.1\" 200 -\n",
      "127.0.0.1 - - [25/Jan/2024 22:05:05] \"POST /train HTTP/1.1\" 200 -\n",
      "127.0.0.1 - - [25/Jan/2024 22:05:05] \"GET /get_weights HTTP/1.1\" 200 -\n"
     ]
    },
    {
     "name": "stdout",
     "output_type": "stream",
     "text": [
      "----------Performe fed avg----------\n"
     ]
    },
    {
     "name": "stderr",
     "output_type": "stream",
     "text": [
      "127.0.0.1 - - [25/Jan/2024 22:05:06] \"POST /train HTTP/1.1\" 200 -\n",
      "127.0.0.1 - - [25/Jan/2024 22:05:07] \"POST /train HTTP/1.1\" 200 -\n",
      "127.0.0.1 - - [25/Jan/2024 22:05:08] \"POST /train HTTP/1.1\" 200 -\n",
      "127.0.0.1 - - [25/Jan/2024 22:05:08] \"POST /train HTTP/1.1\" 200 -\n",
      "127.0.0.1 - - [25/Jan/2024 22:05:09] \"POST /train HTTP/1.1\" 200 -\n",
      "127.0.0.1 - - [25/Jan/2024 22:05:09] \"GET /get_weights HTTP/1.1\" 200 -\n"
     ]
    },
    {
     "name": "stdout",
     "output_type": "stream",
     "text": [
      "----------Performe fed avg----------\n"
     ]
    },
    {
     "name": "stderr",
     "output_type": "stream",
     "text": [
      "127.0.0.1 - - [25/Jan/2024 22:05:10] \"POST /train HTTP/1.1\" 200 -\n",
      "127.0.0.1 - - [25/Jan/2024 22:05:11] \"POST /train HTTP/1.1\" 200 -\n",
      "127.0.0.1 - - [25/Jan/2024 22:05:12] \"POST /train HTTP/1.1\" 200 -\n",
      "127.0.0.1 - - [25/Jan/2024 22:05:12] \"POST /train HTTP/1.1\" 200 -\n",
      "127.0.0.1 - - [25/Jan/2024 22:05:13] \"POST /train HTTP/1.1\" 200 -\n",
      "127.0.0.1 - - [25/Jan/2024 22:05:13] \"GET /get_weights HTTP/1.1\" 200 -\n"
     ]
    },
    {
     "name": "stdout",
     "output_type": "stream",
     "text": [
      "----------Performe fed avg----------\n"
     ]
    },
    {
     "name": "stderr",
     "output_type": "stream",
     "text": [
      "127.0.0.1 - - [25/Jan/2024 22:05:14] \"POST /train HTTP/1.1\" 200 -\n",
      "127.0.0.1 - - [25/Jan/2024 22:05:15] \"POST /train HTTP/1.1\" 200 -\n",
      "127.0.0.1 - - [25/Jan/2024 22:05:15] \"POST /train HTTP/1.1\" 200 -\n",
      "127.0.0.1 - - [25/Jan/2024 22:05:16] \"POST /train HTTP/1.1\" 200 -\n",
      "127.0.0.1 - - [25/Jan/2024 22:05:17] \"POST /train HTTP/1.1\" 200 -\n",
      "127.0.0.1 - - [25/Jan/2024 22:05:17] \"GET /get_weights HTTP/1.1\" 200 -\n"
     ]
    },
    {
     "name": "stdout",
     "output_type": "stream",
     "text": [
      "----------Performe fed avg----------\n"
     ]
    },
    {
     "name": "stderr",
     "output_type": "stream",
     "text": [
      "127.0.0.1 - - [25/Jan/2024 22:05:18] \"POST /train HTTP/1.1\" 200 -\n",
      "127.0.0.1 - - [25/Jan/2024 22:05:19] \"POST /train HTTP/1.1\" 200 -\n",
      "127.0.0.1 - - [25/Jan/2024 22:05:19] \"POST /train HTTP/1.1\" 200 -\n",
      "127.0.0.1 - - [25/Jan/2024 22:05:20] \"POST /train HTTP/1.1\" 200 -\n",
      "127.0.0.1 - - [25/Jan/2024 22:05:21] \"POST /train HTTP/1.1\" 200 -\n",
      "127.0.0.1 - - [25/Jan/2024 22:05:21] \"GET /get_weights HTTP/1.1\" 200 -\n"
     ]
    },
    {
     "name": "stdout",
     "output_type": "stream",
     "text": [
      "----------Performe fed avg----------\n"
     ]
    },
    {
     "name": "stderr",
     "output_type": "stream",
     "text": [
      "127.0.0.1 - - [25/Jan/2024 22:05:22] \"POST /train HTTP/1.1\" 200 -\n",
      "127.0.0.1 - - [25/Jan/2024 22:05:22] \"POST /train HTTP/1.1\" 200 -\n",
      "127.0.0.1 - - [25/Jan/2024 22:05:23] \"POST /train HTTP/1.1\" 200 -\n",
      "127.0.0.1 - - [25/Jan/2024 22:05:24] \"POST /train HTTP/1.1\" 200 -\n",
      "127.0.0.1 - - [25/Jan/2024 22:05:25] \"POST /train HTTP/1.1\" 200 -\n",
      "127.0.0.1 - - [25/Jan/2024 22:05:25] \"GET /get_weights HTTP/1.1\" 200 -\n"
     ]
    },
    {
     "name": "stdout",
     "output_type": "stream",
     "text": [
      "----------Performe fed avg----------\n"
     ]
    },
    {
     "name": "stderr",
     "output_type": "stream",
     "text": [
      "127.0.0.1 - - [25/Jan/2024 22:05:26] \"POST /train HTTP/1.1\" 200 -\n",
      "127.0.0.1 - - [25/Jan/2024 22:05:27] \"POST /train HTTP/1.1\" 200 -\n",
      "127.0.0.1 - - [25/Jan/2024 22:05:27] \"POST /train HTTP/1.1\" 200 -\n",
      "127.0.0.1 - - [25/Jan/2024 22:05:28] \"POST /train HTTP/1.1\" 200 -\n",
      "127.0.0.1 - - [25/Jan/2024 22:05:29] \"POST /train HTTP/1.1\" 200 -\n",
      "127.0.0.1 - - [25/Jan/2024 22:05:29] \"GET /get_weights HTTP/1.1\" 200 -\n"
     ]
    },
    {
     "name": "stdout",
     "output_type": "stream",
     "text": [
      "----------Performe fed avg----------\n"
     ]
    },
    {
     "name": "stderr",
     "output_type": "stream",
     "text": [
      "127.0.0.1 - - [25/Jan/2024 22:05:30] \"POST /train HTTP/1.1\" 200 -\n",
      "127.0.0.1 - - [25/Jan/2024 22:05:31] \"POST /train HTTP/1.1\" 200 -\n",
      "127.0.0.1 - - [25/Jan/2024 22:05:31] \"POST /train HTTP/1.1\" 200 -\n",
      "127.0.0.1 - - [25/Jan/2024 22:05:32] \"POST /train HTTP/1.1\" 200 -\n",
      "127.0.0.1 - - [25/Jan/2024 22:05:33] \"POST /train HTTP/1.1\" 200 -\n",
      "127.0.0.1 - - [25/Jan/2024 22:05:33] \"GET /get_weights HTTP/1.1\" 200 -\n"
     ]
    },
    {
     "name": "stdout",
     "output_type": "stream",
     "text": [
      "----------Performe fed avg----------\n"
     ]
    },
    {
     "name": "stderr",
     "output_type": "stream",
     "text": [
      "127.0.0.1 - - [25/Jan/2024 22:05:35] \"POST /train HTTP/1.1\" 200 -\n",
      "127.0.0.1 - - [25/Jan/2024 22:05:36] \"POST /train HTTP/1.1\" 200 -\n",
      "127.0.0.1 - - [25/Jan/2024 22:05:36] \"POST /train HTTP/1.1\" 200 -\n",
      "127.0.0.1 - - [25/Jan/2024 22:05:37] \"POST /train HTTP/1.1\" 200 -\n",
      "127.0.0.1 - - [25/Jan/2024 22:05:39] \"POST /train HTTP/1.1\" 200 -\n",
      "127.0.0.1 - - [25/Jan/2024 22:05:39] \"GET /get_weights HTTP/1.1\" 200 -\n"
     ]
    },
    {
     "name": "stdout",
     "output_type": "stream",
     "text": [
      "----------Performe fed avg----------\n"
     ]
    },
    {
     "name": "stderr",
     "output_type": "stream",
     "text": [
      "127.0.0.1 - - [25/Jan/2024 22:05:40] \"POST /train HTTP/1.1\" 200 -\n",
      "127.0.0.1 - - [25/Jan/2024 22:05:40] \"POST /train HTTP/1.1\" 200 -\n",
      "127.0.0.1 - - [25/Jan/2024 22:05:42] \"POST /train HTTP/1.1\" 200 -\n",
      "127.0.0.1 - - [25/Jan/2024 22:05:42] \"POST /train HTTP/1.1\" 200 -\n",
      "127.0.0.1 - - [25/Jan/2024 22:05:43] \"POST /train HTTP/1.1\" 200 -\n",
      "127.0.0.1 - - [25/Jan/2024 22:05:43] \"GET /get_weights HTTP/1.1\" 200 -\n"
     ]
    },
    {
     "name": "stdout",
     "output_type": "stream",
     "text": [
      "----------Performe fed avg----------\n"
     ]
    },
    {
     "name": "stderr",
     "output_type": "stream",
     "text": [
      "127.0.0.1 - - [25/Jan/2024 22:05:44] \"POST /train HTTP/1.1\" 200 -\n",
      "127.0.0.1 - - [25/Jan/2024 22:05:45] \"POST /train HTTP/1.1\" 200 -\n",
      "127.0.0.1 - - [25/Jan/2024 22:05:46] \"POST /train HTTP/1.1\" 200 -\n",
      "127.0.0.1 - - [25/Jan/2024 22:05:47] \"POST /train HTTP/1.1\" 200 -\n",
      "127.0.0.1 - - [25/Jan/2024 22:05:48] \"POST /train HTTP/1.1\" 200 -\n",
      "127.0.0.1 - - [25/Jan/2024 22:05:48] \"GET /get_weights HTTP/1.1\" 200 -\n"
     ]
    },
    {
     "name": "stdout",
     "output_type": "stream",
     "text": [
      "----------Performe fed avg----------\n"
     ]
    },
    {
     "name": "stderr",
     "output_type": "stream",
     "text": [
      "127.0.0.1 - - [25/Jan/2024 22:05:49] \"POST /train HTTP/1.1\" 200 -\n",
      "127.0.0.1 - - [25/Jan/2024 22:05:50] \"POST /train HTTP/1.1\" 200 -\n",
      "127.0.0.1 - - [25/Jan/2024 22:05:51] \"POST /train HTTP/1.1\" 200 -\n",
      "127.0.0.1 - - [25/Jan/2024 22:05:52] \"POST /train HTTP/1.1\" 200 -\n",
      "127.0.0.1 - - [25/Jan/2024 22:05:52] \"POST /train HTTP/1.1\" 200 -\n",
      "127.0.0.1 - - [25/Jan/2024 22:05:52] \"GET /get_weights HTTP/1.1\" 200 -\n"
     ]
    },
    {
     "name": "stdout",
     "output_type": "stream",
     "text": [
      "----------Performe fed avg----------\n"
     ]
    },
    {
     "name": "stderr",
     "output_type": "stream",
     "text": [
      "127.0.0.1 - - [25/Jan/2024 22:05:54] \"POST /train HTTP/1.1\" 200 -\n",
      "127.0.0.1 - - [25/Jan/2024 22:05:54] \"POST /train HTTP/1.1\" 200 -\n",
      "127.0.0.1 - - [25/Jan/2024 22:05:55] \"POST /train HTTP/1.1\" 200 -\n",
      "127.0.0.1 - - [25/Jan/2024 22:05:56] \"POST /train HTTP/1.1\" 200 -\n",
      "127.0.0.1 - - [25/Jan/2024 22:05:57] \"POST /train HTTP/1.1\" 200 -\n",
      "127.0.0.1 - - [25/Jan/2024 22:05:57] \"GET /get_weights HTTP/1.1\" 200 -\n"
     ]
    },
    {
     "name": "stdout",
     "output_type": "stream",
     "text": [
      "----------Performe fed avg----------\n"
     ]
    },
    {
     "name": "stderr",
     "output_type": "stream",
     "text": [
      "127.0.0.1 - - [25/Jan/2024 22:05:58] \"POST /train HTTP/1.1\" 200 -\n",
      "127.0.0.1 - - [25/Jan/2024 22:05:59] \"POST /train HTTP/1.1\" 200 -\n",
      "127.0.0.1 - - [25/Jan/2024 22:05:59] \"POST /train HTTP/1.1\" 200 -\n",
      "127.0.0.1 - - [25/Jan/2024 22:06:00] \"POST /train HTTP/1.1\" 200 -\n",
      "127.0.0.1 - - [25/Jan/2024 22:06:01] \"POST /train HTTP/1.1\" 200 -\n",
      "127.0.0.1 - - [25/Jan/2024 22:06:01] \"GET /get_weights HTTP/1.1\" 200 -\n"
     ]
    },
    {
     "name": "stdout",
     "output_type": "stream",
     "text": [
      "----------Performe fed avg----------\n"
     ]
    },
    {
     "name": "stderr",
     "output_type": "stream",
     "text": [
      "127.0.0.1 - - [25/Jan/2024 22:06:02] \"POST /train HTTP/1.1\" 200 -\n",
      "127.0.0.1 - - [25/Jan/2024 22:06:03] \"POST /train HTTP/1.1\" 200 -\n",
      "127.0.0.1 - - [25/Jan/2024 22:06:03] \"POST /train HTTP/1.1\" 200 -\n",
      "127.0.0.1 - - [25/Jan/2024 22:06:04] \"POST /train HTTP/1.1\" 200 -\n",
      "127.0.0.1 - - [25/Jan/2024 22:06:05] \"POST /train HTTP/1.1\" 200 -\n",
      "127.0.0.1 - - [25/Jan/2024 22:06:05] \"GET /get_weights HTTP/1.1\" 200 -\n"
     ]
    },
    {
     "name": "stdout",
     "output_type": "stream",
     "text": [
      "----------Performe fed avg----------\n"
     ]
    },
    {
     "name": "stderr",
     "output_type": "stream",
     "text": [
      "127.0.0.1 - - [25/Jan/2024 22:06:06] \"POST /train HTTP/1.1\" 200 -\n",
      "127.0.0.1 - - [25/Jan/2024 22:06:07] \"POST /train HTTP/1.1\" 200 -\n",
      "127.0.0.1 - - [25/Jan/2024 22:06:08] \"POST /train HTTP/1.1\" 200 -\n",
      "127.0.0.1 - - [25/Jan/2024 22:06:09] \"POST /train HTTP/1.1\" 200 -\n",
      "127.0.0.1 - - [25/Jan/2024 22:06:09] \"POST /train HTTP/1.1\" 200 -\n",
      "127.0.0.1 - - [25/Jan/2024 22:06:09] \"GET /get_weights HTTP/1.1\" 200 -\n"
     ]
    },
    {
     "name": "stdout",
     "output_type": "stream",
     "text": [
      "----------Performe fed avg----------\n"
     ]
    },
    {
     "name": "stderr",
     "output_type": "stream",
     "text": [
      "127.0.0.1 - - [25/Jan/2024 22:06:11] \"POST /train HTTP/1.1\" 200 -\n",
      "127.0.0.1 - - [25/Jan/2024 22:06:11] \"POST /train HTTP/1.1\" 200 -\n",
      "127.0.0.1 - - [25/Jan/2024 22:06:12] \"POST /train HTTP/1.1\" 200 -\n",
      "127.0.0.1 - - [25/Jan/2024 22:06:13] \"POST /train HTTP/1.1\" 200 -\n",
      "127.0.0.1 - - [25/Jan/2024 22:06:14] \"POST /train HTTP/1.1\" 200 -\n",
      "127.0.0.1 - - [25/Jan/2024 22:06:14] \"GET /get_weights HTTP/1.1\" 200 -\n"
     ]
    },
    {
     "name": "stdout",
     "output_type": "stream",
     "text": [
      "----------Performe fed avg----------\n"
     ]
    },
    {
     "name": "stderr",
     "output_type": "stream",
     "text": [
      "127.0.0.1 - - [25/Jan/2024 22:06:15] \"POST /train HTTP/1.1\" 200 -\n",
      "127.0.0.1 - - [25/Jan/2024 22:06:16] \"POST /train HTTP/1.1\" 200 -\n",
      "127.0.0.1 - - [25/Jan/2024 22:06:17] \"POST /train HTTP/1.1\" 200 -\n",
      "127.0.0.1 - - [25/Jan/2024 22:06:18] \"POST /train HTTP/1.1\" 200 -\n",
      "127.0.0.1 - - [25/Jan/2024 22:06:18] \"POST /train HTTP/1.1\" 200 -\n",
      "127.0.0.1 - - [25/Jan/2024 22:06:18] \"GET /get_weights HTTP/1.1\" 200 -\n"
     ]
    },
    {
     "name": "stdout",
     "output_type": "stream",
     "text": [
      "----------Performe fed avg----------\n"
     ]
    },
    {
     "name": "stderr",
     "output_type": "stream",
     "text": [
      "127.0.0.1 - - [25/Jan/2024 22:06:20] \"POST /train HTTP/1.1\" 200 -\n",
      "127.0.0.1 - - [25/Jan/2024 22:06:21] \"POST /train HTTP/1.1\" 200 -\n",
      "127.0.0.1 - - [25/Jan/2024 22:06:21] \"POST /train HTTP/1.1\" 200 -\n",
      "127.0.0.1 - - [25/Jan/2024 22:06:22] \"POST /train HTTP/1.1\" 200 -\n",
      "127.0.0.1 - - [25/Jan/2024 22:06:23] \"POST /train HTTP/1.1\" 200 -\n",
      "127.0.0.1 - - [25/Jan/2024 22:06:23] \"GET /get_weights HTTP/1.1\" 200 -\n"
     ]
    },
    {
     "name": "stdout",
     "output_type": "stream",
     "text": [
      "----------Performe fed avg----------\n"
     ]
    },
    {
     "name": "stderr",
     "output_type": "stream",
     "text": [
      "127.0.0.1 - - [25/Jan/2024 22:06:24] \"POST /train HTTP/1.1\" 200 -\n",
      "127.0.0.1 - - [25/Jan/2024 22:06:24] \"POST /train HTTP/1.1\" 200 -\n",
      "127.0.0.1 - - [25/Jan/2024 22:06:25] \"POST /train HTTP/1.1\" 200 -\n",
      "127.0.0.1 - - [25/Jan/2024 22:06:26] \"POST /train HTTP/1.1\" 200 -\n",
      "127.0.0.1 - - [25/Jan/2024 22:06:27] \"POST /train HTTP/1.1\" 200 -\n",
      "127.0.0.1 - - [25/Jan/2024 22:06:27] \"GET /get_weights HTTP/1.1\" 200 -\n"
     ]
    },
    {
     "name": "stdout",
     "output_type": "stream",
     "text": [
      "----------Performe fed avg----------\n"
     ]
    },
    {
     "name": "stderr",
     "output_type": "stream",
     "text": [
      "127.0.0.1 - - [25/Jan/2024 22:06:28] \"POST /train HTTP/1.1\" 200 -\n",
      "127.0.0.1 - - [25/Jan/2024 22:06:29] \"POST /train HTTP/1.1\" 200 -\n",
      "127.0.0.1 - - [25/Jan/2024 22:06:29] \"POST /train HTTP/1.1\" 200 -\n",
      "127.0.0.1 - - [25/Jan/2024 22:06:30] \"POST /train HTTP/1.1\" 200 -\n",
      "127.0.0.1 - - [25/Jan/2024 22:06:31] \"POST /train HTTP/1.1\" 200 -\n",
      "127.0.0.1 - - [25/Jan/2024 22:06:31] \"GET /get_weights HTTP/1.1\" 200 -\n"
     ]
    },
    {
     "name": "stdout",
     "output_type": "stream",
     "text": [
      "----------Performe fed avg----------\n"
     ]
    },
    {
     "name": "stderr",
     "output_type": "stream",
     "text": [
      "127.0.0.1 - - [25/Jan/2024 22:06:32] \"POST /train HTTP/1.1\" 200 -\n",
      "127.0.0.1 - - [25/Jan/2024 22:06:33] \"POST /train HTTP/1.1\" 200 -\n",
      "127.0.0.1 - - [25/Jan/2024 22:06:34] \"POST /train HTTP/1.1\" 200 -\n",
      "127.0.0.1 - - [25/Jan/2024 22:06:34] \"POST /train HTTP/1.1\" 200 -\n",
      "127.0.0.1 - - [25/Jan/2024 22:06:35] \"POST /train HTTP/1.1\" 200 -\n",
      "127.0.0.1 - - [25/Jan/2024 22:06:35] \"GET /get_weights HTTP/1.1\" 200 -\n"
     ]
    },
    {
     "name": "stdout",
     "output_type": "stream",
     "text": [
      "----------Performe fed avg----------\n"
     ]
    },
    {
     "name": "stderr",
     "output_type": "stream",
     "text": [
      "127.0.0.1 - - [25/Jan/2024 22:06:36] \"POST /train HTTP/1.1\" 200 -\n",
      "127.0.0.1 - - [25/Jan/2024 22:06:37] \"POST /train HTTP/1.1\" 200 -\n",
      "127.0.0.1 - - [25/Jan/2024 22:06:38] \"POST /train HTTP/1.1\" 200 -\n",
      "127.0.0.1 - - [25/Jan/2024 22:06:39] \"POST /train HTTP/1.1\" 200 -\n",
      "127.0.0.1 - - [25/Jan/2024 22:06:39] \"POST /train HTTP/1.1\" 200 -\n",
      "127.0.0.1 - - [25/Jan/2024 22:06:39] \"GET /get_weights HTTP/1.1\" 200 -\n"
     ]
    },
    {
     "name": "stdout",
     "output_type": "stream",
     "text": [
      "----------Performe fed avg----------\n"
     ]
    },
    {
     "name": "stderr",
     "output_type": "stream",
     "text": [
      "127.0.0.1 - - [25/Jan/2024 22:06:40] \"POST /train HTTP/1.1\" 200 -\n",
      "127.0.0.1 - - [25/Jan/2024 22:06:41] \"POST /train HTTP/1.1\" 200 -\n",
      "127.0.0.1 - - [25/Jan/2024 22:06:42] \"POST /train HTTP/1.1\" 200 -\n",
      "127.0.0.1 - - [25/Jan/2024 22:06:43] \"POST /train HTTP/1.1\" 200 -\n",
      "127.0.0.1 - - [25/Jan/2024 22:06:43] \"POST /train HTTP/1.1\" 200 -\n",
      "127.0.0.1 - - [25/Jan/2024 22:06:43] \"GET /get_weights HTTP/1.1\" 200 -\n"
     ]
    },
    {
     "name": "stdout",
     "output_type": "stream",
     "text": [
      "----------Performe fed avg----------\n"
     ]
    },
    {
     "name": "stderr",
     "output_type": "stream",
     "text": [
      "127.0.0.1 - - [25/Jan/2024 22:06:44] \"POST /train HTTP/1.1\" 200 -\n",
      "127.0.0.1 - - [25/Jan/2024 22:06:45] \"POST /train HTTP/1.1\" 200 -\n",
      "127.0.0.1 - - [25/Jan/2024 22:06:47] \"POST /train HTTP/1.1\" 200 -\n",
      "127.0.0.1 - - [25/Jan/2024 22:06:47] \"POST /train HTTP/1.1\" 200 -\n",
      "127.0.0.1 - - [25/Jan/2024 22:06:48] \"POST /train HTTP/1.1\" 200 -\n",
      "127.0.0.1 - - [25/Jan/2024 22:06:48] \"GET /get_weights HTTP/1.1\" 200 -\n"
     ]
    },
    {
     "name": "stdout",
     "output_type": "stream",
     "text": [
      "----------Performe fed avg----------\n"
     ]
    },
    {
     "name": "stderr",
     "output_type": "stream",
     "text": [
      "127.0.0.1 - - [25/Jan/2024 22:06:49] \"POST /train HTTP/1.1\" 200 -\n",
      "127.0.0.1 - - [25/Jan/2024 22:06:51] \"POST /train HTTP/1.1\" 200 -\n",
      "127.0.0.1 - - [25/Jan/2024 22:06:52] \"POST /train HTTP/1.1\" 200 -\n",
      "127.0.0.1 - - [25/Jan/2024 22:06:52] \"POST /train HTTP/1.1\" 200 -\n",
      "127.0.0.1 - - [25/Jan/2024 22:06:53] \"POST /train HTTP/1.1\" 200 -\n",
      "127.0.0.1 - - [25/Jan/2024 22:06:53] \"GET /get_weights HTTP/1.1\" 200 -\n"
     ]
    },
    {
     "name": "stdout",
     "output_type": "stream",
     "text": [
      "----------Performe fed avg----------\n"
     ]
    },
    {
     "name": "stderr",
     "output_type": "stream",
     "text": [
      "127.0.0.1 - - [25/Jan/2024 22:06:54] \"POST /train HTTP/1.1\" 200 -\n",
      "127.0.0.1 - - [25/Jan/2024 22:06:55] \"POST /train HTTP/1.1\" 200 -\n",
      "127.0.0.1 - - [25/Jan/2024 22:06:56] \"POST /train HTTP/1.1\" 200 -\n",
      "127.0.0.1 - - [25/Jan/2024 22:06:57] \"POST /train HTTP/1.1\" 200 -\n",
      "127.0.0.1 - - [25/Jan/2024 22:06:57] \"POST /train HTTP/1.1\" 200 -\n",
      "127.0.0.1 - - [25/Jan/2024 22:06:57] \"GET /get_weights HTTP/1.1\" 200 -\n"
     ]
    },
    {
     "name": "stdout",
     "output_type": "stream",
     "text": [
      "----------Performe fed avg----------\n"
     ]
    },
    {
     "name": "stderr",
     "output_type": "stream",
     "text": [
      "127.0.0.1 - - [25/Jan/2024 22:06:58] \"POST /train HTTP/1.1\" 200 -\n",
      "127.0.0.1 - - [25/Jan/2024 22:06:59] \"POST /train HTTP/1.1\" 200 -\n",
      "127.0.0.1 - - [25/Jan/2024 22:07:00] \"POST /train HTTP/1.1\" 200 -\n",
      "127.0.0.1 - - [25/Jan/2024 22:07:01] \"POST /train HTTP/1.1\" 200 -\n",
      "127.0.0.1 - - [25/Jan/2024 22:07:01] \"POST /train HTTP/1.1\" 200 -\n",
      "127.0.0.1 - - [25/Jan/2024 22:07:02] \"GET /get_weights HTTP/1.1\" 200 -\n"
     ]
    },
    {
     "name": "stdout",
     "output_type": "stream",
     "text": [
      "----------Performe fed avg----------\n"
     ]
    },
    {
     "name": "stderr",
     "output_type": "stream",
     "text": [
      "127.0.0.1 - - [25/Jan/2024 22:07:03] \"POST /train HTTP/1.1\" 200 -\n",
      "127.0.0.1 - - [25/Jan/2024 22:07:03] \"POST /train HTTP/1.1\" 200 -\n",
      "127.0.0.1 - - [25/Jan/2024 22:07:05] \"POST /train HTTP/1.1\" 200 -\n",
      "127.0.0.1 - - [25/Jan/2024 22:07:06] \"POST /train HTTP/1.1\" 200 -\n",
      "127.0.0.1 - - [25/Jan/2024 22:07:06] \"POST /train HTTP/1.1\" 200 -\n",
      "127.0.0.1 - - [25/Jan/2024 22:07:06] \"GET /get_weights HTTP/1.1\" 200 -\n"
     ]
    },
    {
     "name": "stdout",
     "output_type": "stream",
     "text": [
      "----------Performe fed avg----------\n"
     ]
    },
    {
     "name": "stderr",
     "output_type": "stream",
     "text": [
      "127.0.0.1 - - [25/Jan/2024 22:07:07] \"POST /train HTTP/1.1\" 200 -\n",
      "127.0.0.1 - - [25/Jan/2024 22:07:08] \"POST /train HTTP/1.1\" 200 -\n",
      "127.0.0.1 - - [25/Jan/2024 22:07:09] \"POST /train HTTP/1.1\" 200 -\n",
      "127.0.0.1 - - [25/Jan/2024 22:07:10] \"POST /train HTTP/1.1\" 200 -\n",
      "127.0.0.1 - - [25/Jan/2024 22:07:11] \"POST /train HTTP/1.1\" 200 -\n",
      "127.0.0.1 - - [25/Jan/2024 22:07:11] \"GET /get_weights HTTP/1.1\" 200 -\n"
     ]
    },
    {
     "name": "stdout",
     "output_type": "stream",
     "text": [
      "----------Performe fed avg----------\n"
     ]
    },
    {
     "name": "stderr",
     "output_type": "stream",
     "text": [
      "127.0.0.1 - - [25/Jan/2024 22:07:12] \"POST /train HTTP/1.1\" 200 -\n",
      "127.0.0.1 - - [25/Jan/2024 22:07:13] \"POST /train HTTP/1.1\" 200 -\n",
      "127.0.0.1 - - [25/Jan/2024 22:07:14] \"POST /train HTTP/1.1\" 200 -\n",
      "127.0.0.1 - - [25/Jan/2024 22:07:14] \"POST /train HTTP/1.1\" 200 -\n",
      "127.0.0.1 - - [25/Jan/2024 22:07:15] \"POST /train HTTP/1.1\" 200 -\n",
      "127.0.0.1 - - [25/Jan/2024 22:07:16] \"GET /get_weights HTTP/1.1\" 200 -\n"
     ]
    },
    {
     "name": "stdout",
     "output_type": "stream",
     "text": [
      "----------Performe fed avg----------\n"
     ]
    },
    {
     "name": "stderr",
     "output_type": "stream",
     "text": [
      "127.0.0.1 - - [25/Jan/2024 22:07:17] \"POST /train HTTP/1.1\" 200 -\n",
      "127.0.0.1 - - [25/Jan/2024 22:07:17] \"POST /train HTTP/1.1\" 200 -\n",
      "127.0.0.1 - - [25/Jan/2024 22:07:18] \"POST /train HTTP/1.1\" 200 -\n",
      "127.0.0.1 - - [25/Jan/2024 22:07:19] \"POST /train HTTP/1.1\" 200 -\n",
      "127.0.0.1 - - [25/Jan/2024 22:07:19] \"POST /train HTTP/1.1\" 200 -\n",
      "127.0.0.1 - - [25/Jan/2024 22:07:19] \"GET /get_weights HTTP/1.1\" 200 -\n"
     ]
    },
    {
     "name": "stdout",
     "output_type": "stream",
     "text": [
      "----------Performe fed avg----------\n"
     ]
    },
    {
     "name": "stderr",
     "output_type": "stream",
     "text": [
      "127.0.0.1 - - [25/Jan/2024 22:07:20] \"POST /train HTTP/1.1\" 200 -\n",
      "127.0.0.1 - - [25/Jan/2024 22:07:21] \"POST /train HTTP/1.1\" 200 -\n",
      "127.0.0.1 - - [25/Jan/2024 22:07:24] \"POST /train HTTP/1.1\" 200 -\n",
      "127.0.0.1 - - [25/Jan/2024 22:07:25] \"POST /train HTTP/1.1\" 200 -\n",
      "127.0.0.1 - - [25/Jan/2024 22:07:25] \"POST /train HTTP/1.1\" 200 -\n",
      "127.0.0.1 - - [25/Jan/2024 22:07:25] \"GET /get_weights HTTP/1.1\" 200 -\n"
     ]
    },
    {
     "name": "stdout",
     "output_type": "stream",
     "text": [
      "----------Performe fed avg----------\n"
     ]
    },
    {
     "name": "stderr",
     "output_type": "stream",
     "text": [
      "127.0.0.1 - - [25/Jan/2024 22:07:26] \"POST /train HTTP/1.1\" 200 -\n",
      "127.0.0.1 - - [25/Jan/2024 22:07:27] \"POST /train HTTP/1.1\" 200 -\n",
      "127.0.0.1 - - [25/Jan/2024 22:07:28] \"POST /train HTTP/1.1\" 200 -\n",
      "127.0.0.1 - - [25/Jan/2024 22:07:28] \"POST /train HTTP/1.1\" 200 -\n",
      "127.0.0.1 - - [25/Jan/2024 22:07:30] \"POST /train HTTP/1.1\" 200 -\n",
      "127.0.0.1 - - [25/Jan/2024 22:07:30] \"GET /get_weights HTTP/1.1\" 200 -\n"
     ]
    },
    {
     "name": "stdout",
     "output_type": "stream",
     "text": [
      "----------Performe fed avg----------\n"
     ]
    },
    {
     "name": "stderr",
     "output_type": "stream",
     "text": [
      "127.0.0.1 - - [25/Jan/2024 22:07:31] \"POST /train HTTP/1.1\" 200 -\n",
      "127.0.0.1 - - [25/Jan/2024 22:07:32] \"POST /train HTTP/1.1\" 200 -\n",
      "127.0.0.1 - - [25/Jan/2024 22:07:33] \"POST /train HTTP/1.1\" 200 -\n",
      "127.0.0.1 - - [25/Jan/2024 22:07:34] \"POST /train HTTP/1.1\" 200 -\n",
      "127.0.0.1 - - [25/Jan/2024 22:07:34] \"POST /train HTTP/1.1\" 200 -\n",
      "127.0.0.1 - - [25/Jan/2024 22:07:34] \"GET /get_weights HTTP/1.1\" 200 -\n"
     ]
    },
    {
     "name": "stdout",
     "output_type": "stream",
     "text": [
      "----------Performe fed avg----------\n"
     ]
    },
    {
     "name": "stderr",
     "output_type": "stream",
     "text": [
      "127.0.0.1 - - [25/Jan/2024 22:07:35] \"POST /train HTTP/1.1\" 200 -\n",
      "127.0.0.1 - - [25/Jan/2024 22:07:36] \"POST /train HTTP/1.1\" 200 -\n",
      "127.0.0.1 - - [25/Jan/2024 22:07:37] \"POST /train HTTP/1.1\" 200 -\n",
      "127.0.0.1 - - [25/Jan/2024 22:07:38] \"POST /train HTTP/1.1\" 200 -\n",
      "127.0.0.1 - - [25/Jan/2024 22:07:38] \"POST /train HTTP/1.1\" 200 -\n",
      "127.0.0.1 - - [25/Jan/2024 22:07:38] \"GET /get_weights HTTP/1.1\" 200 -\n"
     ]
    },
    {
     "name": "stdout",
     "output_type": "stream",
     "text": [
      "----------Performe fed avg----------\n"
     ]
    },
    {
     "name": "stderr",
     "output_type": "stream",
     "text": [
      "127.0.0.1 - - [25/Jan/2024 22:07:39] \"POST /train HTTP/1.1\" 200 -\n",
      "127.0.0.1 - - [25/Jan/2024 22:07:40] \"POST /train HTTP/1.1\" 200 -\n",
      "127.0.0.1 - - [25/Jan/2024 22:07:41] \"POST /train HTTP/1.1\" 200 -\n",
      "127.0.0.1 - - [25/Jan/2024 22:07:41] \"POST /train HTTP/1.1\" 200 -\n",
      "127.0.0.1 - - [25/Jan/2024 22:07:42] \"POST /train HTTP/1.1\" 200 -\n",
      "127.0.0.1 - - [25/Jan/2024 22:07:42] \"GET /get_weights HTTP/1.1\" 200 -\n"
     ]
    },
    {
     "name": "stdout",
     "output_type": "stream",
     "text": [
      "----------Performe fed avg----------\n"
     ]
    },
    {
     "name": "stderr",
     "output_type": "stream",
     "text": [
      "127.0.0.1 - - [25/Jan/2024 22:07:43] \"POST /train HTTP/1.1\" 200 -\n",
      "127.0.0.1 - - [25/Jan/2024 22:07:44] \"POST /train HTTP/1.1\" 200 -\n",
      "127.0.0.1 - - [25/Jan/2024 22:07:45] \"POST /train HTTP/1.1\" 200 -\n",
      "127.0.0.1 - - [25/Jan/2024 22:07:46] \"POST /train HTTP/1.1\" 200 -\n",
      "127.0.0.1 - - [25/Jan/2024 22:07:46] \"POST /train HTTP/1.1\" 200 -\n",
      "127.0.0.1 - - [25/Jan/2024 22:07:46] \"GET /get_weights HTTP/1.1\" 200 -\n"
     ]
    },
    {
     "name": "stdout",
     "output_type": "stream",
     "text": [
      "----------Performe fed avg----------\n"
     ]
    },
    {
     "name": "stderr",
     "output_type": "stream",
     "text": [
      "127.0.0.1 - - [25/Jan/2024 22:07:47] \"POST /train HTTP/1.1\" 200 -\n",
      "127.0.0.1 - - [25/Jan/2024 22:07:48] \"POST /train HTTP/1.1\" 200 -\n",
      "127.0.0.1 - - [25/Jan/2024 22:07:49] \"POST /train HTTP/1.1\" 200 -\n",
      "127.0.0.1 - - [25/Jan/2024 22:07:50] \"POST /train HTTP/1.1\" 200 -\n",
      "127.0.0.1 - - [25/Jan/2024 22:07:52] \"POST /train HTTP/1.1\" 200 -\n",
      "127.0.0.1 - - [25/Jan/2024 22:07:52] \"GET /get_weights HTTP/1.1\" 200 -\n"
     ]
    },
    {
     "name": "stdout",
     "output_type": "stream",
     "text": [
      "----------Performe fed avg----------\n"
     ]
    },
    {
     "name": "stderr",
     "output_type": "stream",
     "text": [
      "127.0.0.1 - - [25/Jan/2024 22:07:53] \"POST /train HTTP/1.1\" 200 -\n",
      "127.0.0.1 - - [25/Jan/2024 22:07:53] \"POST /train HTTP/1.1\" 200 -\n",
      "127.0.0.1 - - [25/Jan/2024 22:07:54] \"POST /train HTTP/1.1\" 200 -\n",
      "127.0.0.1 - - [25/Jan/2024 22:07:55] \"POST /train HTTP/1.1\" 200 -\n",
      "127.0.0.1 - - [25/Jan/2024 22:07:56] \"POST /train HTTP/1.1\" 200 -\n",
      "127.0.0.1 - - [25/Jan/2024 22:07:56] \"GET /get_weights HTTP/1.1\" 200 -\n"
     ]
    },
    {
     "name": "stdout",
     "output_type": "stream",
     "text": [
      "----------Performe fed avg----------\n"
     ]
    }
   ],
   "source": [
    "from flask import Flask, request\n",
    "from flask import Flask, send_file\n",
    "import torch\n",
    "import pickle\n",
    "import collections\n",
    "import copy\n",
    "import io\n",
    "\n",
    "\n",
    "from torch.nn import functional as F\n",
    "from typing import Optional, Tuple\n",
    "from torch import Tensor\n",
    "import torch\n",
    "\n",
    "from typing import List, Tuple\n",
    "import pandas as pd\n",
    "import scipy as sp\n",
    "import numpy as np\n",
    "import sys\n",
    "import os\n",
    "\n",
    "THRESHOLD = 3\n",
    "\n",
    "def load_csv_parts(dataset):\n",
    "    # Load each part\n",
    "    columns = ['user_id', 'item_id', 'rating']\n",
    "    df_part1 = pd.read_csv(os.path.join('data', dataset + '-train_1.csv'), header=None, names=columns)\n",
    "    df_part2 = pd.read_csv(os.path.join('data', dataset + '-train_2.csv'), header=None, names=columns)\n",
    "\n",
    "    return pd.concat([df_part1, df_part2], ignore_index=True)\n",
    "\n",
    "class Dataset:\n",
    "\n",
    "    def __init__(self, dataset: str):\n",
    "        columns = ['user_id', 'item_id', 'rating']\n",
    "\n",
    "        self.train_df = load_csv_parts(dataset).head(80000)\n",
    "        self.test_df = pd.read_csv(os.path.join('data', dataset + '-test.csv'), names=columns).head(20000)\n",
    "        self.neg_path = os.path.join('data', dataset + '-neg.csv')\n",
    "        self.num_users, self.num_items = self.get_matrix_dim()\n",
    "        print(f'Loaded `{dataset}` dataset: \\nNumber of users - {self.num_users}, Number of items - {self.num_items}')\n",
    "\n",
    "    def get_matrix_dim(self) -> Tuple[int, int]:\n",
    "        \n",
    "        num_users = max(self.train_df['user_id']) + 1\n",
    "        num_items = max(self.train_df['item_id']) + 1\n",
    "        return num_users, num_items\n",
    "\n",
    "    def load_client_train_data(self) -> List[List]:\n",
    "        \n",
    "        mat = sp.sparse.dok_matrix((self.num_users+1, self.num_items+1), dtype=np.float32)\n",
    "\n",
    "        for user, item, rating in self.train_df.values:\n",
    "            if rating >= THRESHOLD:\n",
    "                mat[user, item] = 1.0\n",
    "\n",
    "        client_datas = [[[], [], []] for _ in range(self.num_users)]\n",
    "\n",
    "        for (usr, item) in mat.keys():\n",
    "            client_datas[usr][0].append(usr)\n",
    "            client_datas[usr][1].append(item)\n",
    "            client_datas[usr][2].append(1)\n",
    "            for t in range(NUM_NEGATIVES):\n",
    "                neg = np.random.randint(self.num_items)\n",
    "                while (usr, neg) in mat.keys():\n",
    "                    neg = np.random.randint(self.num_items)\n",
    "                client_datas[usr][0].append(usr)\n",
    "                client_datas[usr][1].append(neg)\n",
    "                client_datas[usr][2].append(0)\n",
    "\n",
    "        return client_datas\n",
    "\n",
    "    def load_test_file(self) -> List[List[int]]:\n",
    "       \n",
    "        return [[user, item] for user, item, _ in self.test_df.values]\n",
    "\n",
    "    def load_negative_file(self) -> List[List[int]]:\n",
    "        \n",
    "        negative_list = []\n",
    "        with open(self.neg_path, \"r\") as f:\n",
    "            line = f.readline()\n",
    "            while line is not None and line != \"\":\n",
    "                arr = line.split(\"\\t\")\n",
    "                negatives = []\n",
    "                for x in arr[1:]:\n",
    "                    negatives.append(int(x))\n",
    "                negative_list.append(negatives)\n",
    "                line = f.readline()\n",
    "        return negative_list\n",
    "\n",
    "class NeuralCollaborativeFiltering(torch.nn.Module):\n",
    "\n",
    "    def __init__(self, num_users: int, num_items: int):\n",
    "        super().__init__()\n",
    "        params = MODEL_PARAMETERS['FedNCF']\n",
    "        layers = params['layers']\n",
    "        mf_dim = params['mf_dim']\n",
    "        mlp_dim = int(layers[0] / 2)\n",
    "\n",
    "        self.mf_embedding_user = torch.nn.Embedding(num_embeddings=num_users, embedding_dim=mf_dim, device=DEVICE)\n",
    "        self.mf_embedding_item = torch.nn.Embedding(num_embeddings=num_items, embedding_dim=mf_dim, device=DEVICE)\n",
    "\n",
    "        self.mlp_embedding_user = torch.nn.Embedding(num_embeddings=num_users, embedding_dim=mlp_dim, device=DEVICE)\n",
    "        self.mlp_embedding_item = torch.nn.Embedding(num_embeddings=num_items, embedding_dim=mlp_dim, device=DEVICE)\n",
    "\n",
    "        self.mlp = torch.nn.ModuleList()\n",
    "        current_dim = 64\n",
    "        for idx in range(1, len(layers)):\n",
    "            self.mlp.append(torch.nn.Linear(current_dim, layers[idx]))\n",
    "            current_dim = layers[idx]\n",
    "            self.mlp.append(torch.nn.ReLU())\n",
    "        self.output_layer = torch.nn.Linear(in_features=24, out_features=1, device=DEVICE)\n",
    "\n",
    "    def forward(self, user_input: Tensor,\n",
    "                item_input: Tensor,\n",
    "                target: Optional[Tensor] = None) -> Tuple[Tensor, Optional[float]]:\n",
    "        # matrix factorization\n",
    "        mf_user_latent = torch.nn.Flatten()(self.mf_embedding_user(user_input))\n",
    "        mf_item_latent = torch.nn.Flatten()(self.mf_embedding_item(item_input))\n",
    "        mf_vector = torch.mul(mf_user_latent, mf_item_latent)\n",
    "        # mlp\n",
    "        mlp_user_latent = torch.nn.Flatten()(self.mlp_embedding_user(user_input))\n",
    "        mlp_item_latent = torch.nn.Flatten()(self.mlp_embedding_item(item_input))\n",
    "        mlp_vector = torch.cat([mlp_user_latent, mlp_item_latent], dim=1)\n",
    "\n",
    "        for layer in self.mlp:\n",
    "            mlp_vector = layer(mlp_vector)\n",
    "\n",
    "        predict_vector = torch.cat([mf_vector, mlp_vector], dim=1)\n",
    "        logits = self.output_layer(predict_vector)\n",
    "\n",
    "        loss = None\n",
    "        if target is not None:\n",
    "            target = target.view(target.shape[0], 1).to(torch.float32)\n",
    "            loss = F.binary_cross_entropy_with_logits(logits, target)\n",
    "\n",
    "        logits = torch.nn.Sigmoid()(logits)\n",
    "\n",
    "        return logits, loss\n",
    "\n",
    "\n",
    "app = Flask(__name__)\n",
    "\n",
    "\n",
    "dataset = Dataset(\"yelp\")\n",
    "server_model = NeuralCollaborativeFiltering(dataset.num_users, dataset.num_items)\n",
    "server_model.to(DEVICE)\n",
    "\n",
    "# List to store weights received from clients\n",
    "client_weights_list = []\n",
    "\n",
    "def federated_averaging(client_weights: List[collections.OrderedDict]) -> collections.OrderedDict:\n",
    "    \"\"\"\n",
    "    calculates the average of client weights\n",
    "    \"\"\"\n",
    "    print(\"----------Performe fed avg----------\")\n",
    "    keys = client_weights[0].keys()\n",
    "    averages = copy.deepcopy(client_weights[0])\n",
    "\n",
    "    for w in client_weights[1:]:\n",
    "        for key in keys:\n",
    "            averages[key] += w[key]\n",
    "\n",
    "    for key in keys:\n",
    "        averages[key] /= len(client_weights)\n",
    "    return averages\n",
    "\n",
    "\n",
    "@app.route('/train', methods=['POST'])\n",
    "def receive_weights_and_train():\n",
    "    if 'file' not in request.files:\n",
    "        return 'No file part', 400\n",
    "\n",
    "    file = request.files['file']\n",
    "    if file.filename == '':\n",
    "        return 'No selected file', 400\n",
    "\n",
    "    if file:\n",
    "        # Deserialize the received weights\n",
    "        received_weights = pickle.loads(file.read())\n",
    "\n",
    "        # Add to client weights list\n",
    "        client_weights_list.append(received_weights)\n",
    "\n",
    "        if len(client_weights_list) == 5: \n",
    "            # Perform federated averaging\n",
    "            averaged_weights = federated_averaging(client_weights_list)\n",
    "\n",
    "            # Update server model with averaged weights\n",
    "            server_model.load_state_dict(averaged_weights)\n",
    "\n",
    "            # Clear the list for next round\n",
    "            client_weights_list.clear()\n",
    "\n",
    "            return 'Weights averaged and model updated', 200\n",
    "        else:\n",
    "            return 'Weights received and waiting for more clients', 200\n",
    "\n",
    "    return 'Error in processing request', 500\n",
    "\n",
    "@app.route('/get_weights', methods=['GET'])\n",
    "def get_weights():\n",
    "    \"\"\"\n",
    "    Endpoint to get the latest model weights.\n",
    "    \"\"\"\n",
    "    # Create an in-memory buffer\n",
    "    buffer = io.BytesIO()\n",
    "\n",
    "    # Save your model state to this buffer\n",
    "    torch.save(server_model.state_dict(), buffer)\n",
    "    buffer.seek(0)\n",
    "\n",
    "    # Send this buffer as a file\n",
    "    return send_file(buffer, as_attachment=True, download_name=\"model_weights.pth\", mimetype='application/octet-stream')\n",
    "\n",
    "if __name__ == '__main__':\n",
    "    app.run(\"0.0.0.0\", port=8080)\n"
   ]
  }
 ],
 "metadata": {
  "kernelspec": {
   "display_name": "base",
   "language": "python",
   "name": "python3"
  },
  "language_info": {
   "codemirror_mode": {
    "name": "ipython",
    "version": 3
   },
   "file_extension": ".py",
   "mimetype": "text/x-python",
   "name": "python",
   "nbconvert_exporter": "python",
   "pygments_lexer": "ipython3",
   "version": "3.9.6"
  }
 },
 "nbformat": 4,
 "nbformat_minor": 2
}
