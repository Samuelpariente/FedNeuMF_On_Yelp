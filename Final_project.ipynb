{
 "cells": [
  {
   "cell_type": "code",
   "execution_count": 1,
   "metadata": {},
   "outputs": [],
   "source": [
    "import warnings\n",
    "import cornac\n",
    "from cornac.eval_methods import RatioSplit\n",
    "from cornac.data import Reader\n",
    "from cornac.metrics import Precision, Recall, NDCG, MAP\n",
    "import tempfile\n",
    "import pandas as pd\n",
    "from plotly.subplots import make_subplots\n",
    "import plotly.graph_objects as go\n",
    "import torch\n",
    "import torch.nn as nn\n",
    "import torch.nn.functional as F\n",
    "import numpy as np\n",
    "from sklearn.metrics import average_precision_score\n",
    "import torch\n",
    "import matplotlib.pyplot as plt\n",
    "import collections\n",
    "import random\n",
    "import torch\n",
    "import copy\n",
    "from typing import List, Tuple\n",
    "import pandas as pd\n",
    "import scipy as sp\n",
    "import numpy as np\n",
    "import os\n",
    "import tqdm \n",
    "\n",
    "warnings.filterwarnings(\"ignore\")"
   ]
  },
  {
   "cell_type": "markdown",
   "metadata": {},
   "source": [
    "## Dataset exploration"
   ]
  },
  {
   "cell_type": "code",
   "execution_count": 2,
   "metadata": {},
   "outputs": [
    {
     "name": "stdout",
     "output_type": "stream",
     "text": [
      "   user_id  business_id  stars\n",
      "0   827556        88673      5\n",
      "1   827556        36288      5\n",
      "2   827556        30490      4\n",
      "3  1202231        28754      4\n",
      "4  1202231       122144      4\n"
     ]
    }
   ],
   "source": [
    "# Load the Parquet files (column names are read automatically)\n",
    "train_df = pd.read_parquet(\"data/yelp-train.parquet\")\n",
    "test_df = pd.read_parquet(\"data/yelp-test.parquet\")\n",
    "\n",
    "train_df.columns = ['user_id', 'business_id', 'stars']\n",
    "test_df.columns = ['user_id', 'business_id', 'stars']\n",
    "\n",
    "# Concatenate train and test DataFrames\n",
    "df = pd.concat([train_df, test_df], ignore_index=True)\n",
    "\n",
    "# Display the first few rows of the DataFrame\n",
    "print(df.head())"
   ]
  },
  {
   "cell_type": "code",
   "execution_count": 3,
   "metadata": {},
   "outputs": [],
   "source": [
    "def calculate_dataset_stats(df):\n",
    "    dataset_stats = {\n",
    "        'Categories': ['#Interactions', '#Users', '#Items'],\n",
    "        'Values': [len(df), df['user_id'].nunique(), df['business_id'].nunique()],\n",
    "        'Colors': ['#7600FF', '#FF7800', '#009D00']\n",
    "    }\n",
    "    return pd.DataFrame(dataset_stats)\n",
    "\n",
    "def calculate_data_quantity_heterogeneity(df):\n",
    "    # Count the number of interactions (reviews/ratings) per business\n",
    "    interactions_per_business = df.groupby('business_id').size()\n",
    "\n",
    "    # Calculate the required statistics\n",
    "    min_interactions = interactions_per_business.min()\n",
    "    max_interactions = interactions_per_business.max()\n",
    "    avg_interactions = interactions_per_business.mean()\n",
    "    std_dev_interactions = interactions_per_business.std()\n",
    "    variance_interactions = std_dev_interactions ** 2\n",
    "\n",
    "    # Round the values\n",
    "    min_interactions = round(min_interactions, 2)  # round to 2 decimal places\n",
    "    max_interactions = round(max_interactions, 2)\n",
    "    avg_interactions = round(avg_interactions, 2)\n",
    "    std_dev_interactions = round(std_dev_interactions, 2)\n",
    "    variance_interactions = round(variance_interactions, 2)\n",
    "\n",
    "    data_quantity_heterogeneity = {\n",
    "        'Metrics': ['#Min', '#Max', 'Average', 'St. Dev.', 'Variance'],\n",
    "        'Values': [min_interactions, max_interactions, avg_interactions, std_dev_interactions, variance_interactions],\n",
    "        'Colors': ['#00A3E8', '#B1001E', '#7600FF', '#FF7800', '#009D00']\n",
    "    }\n",
    "    \n",
    "    return pd.DataFrame(data_quantity_heterogeneity)\n"
   ]
  },
  {
   "cell_type": "code",
   "execution_count": 4,
   "metadata": {},
   "outputs": [
    {
     "data": {
      "application/vnd.plotly.v1+json": {
       "config": {
        "plotlyServerURL": "https://plot.ly"
       },
       "data": [
        {
         "marker": {
          "color": [
           "#7600FF",
           "#FF7800",
           "#009D00"
          ]
         },
         "text": [
          5261666,
          1326101,
          174567
         ],
         "textposition": "auto",
         "type": "bar",
         "x": [
          "#Interactions",
          "#Users",
          "#Items"
         ],
         "xaxis": "x",
         "y": [
          5261666,
          1326101,
          174567
         ],
         "yaxis": "y"
        },
        {
         "marker": {
          "color": [
           "#00A3E8",
           "#B1001E",
           "#7600FF",
           "#FF7800",
           "#009D00"
          ]
         },
         "text": [
          1,
          7362,
          30.14,
          98.22,
          9646.52
         ],
         "textposition": "auto",
         "type": "bar",
         "x": [
          "#Min",
          "#Max",
          "Average",
          "St. Dev.",
          "Variance"
         ],
         "xaxis": "x2",
         "y": [
          1,
          7362,
          30.14,
          98.22,
          9646.52
         ],
         "yaxis": "y2"
        }
       ],
       "layout": {
        "annotations": [
         {
          "font": {
           "size": 16
          },
          "showarrow": false,
          "text": "Evaluation Dataset Statistics",
          "x": 0.225,
          "xanchor": "center",
          "xref": "paper",
          "y": 1,
          "yanchor": "bottom",
          "yref": "paper"
         },
         {
          "font": {
           "size": 16
          },
          "showarrow": false,
          "text": "Data Quantity Heterogeneity",
          "x": 0.775,
          "xanchor": "center",
          "xref": "paper",
          "y": 1,
          "yanchor": "bottom",
          "yref": "paper"
         }
        ],
        "height": 600,
        "showlegend": false,
        "template": {
         "data": {
          "bar": [
           {
            "error_x": {
             "color": "#2a3f5f"
            },
            "error_y": {
             "color": "#2a3f5f"
            },
            "marker": {
             "line": {
              "color": "#E5ECF6",
              "width": 0.5
             },
             "pattern": {
              "fillmode": "overlay",
              "size": 10,
              "solidity": 0.2
             }
            },
            "type": "bar"
           }
          ],
          "barpolar": [
           {
            "marker": {
             "line": {
              "color": "#E5ECF6",
              "width": 0.5
             },
             "pattern": {
              "fillmode": "overlay",
              "size": 10,
              "solidity": 0.2
             }
            },
            "type": "barpolar"
           }
          ],
          "carpet": [
           {
            "aaxis": {
             "endlinecolor": "#2a3f5f",
             "gridcolor": "white",
             "linecolor": "white",
             "minorgridcolor": "white",
             "startlinecolor": "#2a3f5f"
            },
            "baxis": {
             "endlinecolor": "#2a3f5f",
             "gridcolor": "white",
             "linecolor": "white",
             "minorgridcolor": "white",
             "startlinecolor": "#2a3f5f"
            },
            "type": "carpet"
           }
          ],
          "choropleth": [
           {
            "colorbar": {
             "outlinewidth": 0,
             "ticks": ""
            },
            "type": "choropleth"
           }
          ],
          "contour": [
           {
            "colorbar": {
             "outlinewidth": 0,
             "ticks": ""
            },
            "colorscale": [
             [
              0,
              "#0d0887"
             ],
             [
              0.1111111111111111,
              "#46039f"
             ],
             [
              0.2222222222222222,
              "#7201a8"
             ],
             [
              0.3333333333333333,
              "#9c179e"
             ],
             [
              0.4444444444444444,
              "#bd3786"
             ],
             [
              0.5555555555555556,
              "#d8576b"
             ],
             [
              0.6666666666666666,
              "#ed7953"
             ],
             [
              0.7777777777777778,
              "#fb9f3a"
             ],
             [
              0.8888888888888888,
              "#fdca26"
             ],
             [
              1,
              "#f0f921"
             ]
            ],
            "type": "contour"
           }
          ],
          "contourcarpet": [
           {
            "colorbar": {
             "outlinewidth": 0,
             "ticks": ""
            },
            "type": "contourcarpet"
           }
          ],
          "heatmap": [
           {
            "colorbar": {
             "outlinewidth": 0,
             "ticks": ""
            },
            "colorscale": [
             [
              0,
              "#0d0887"
             ],
             [
              0.1111111111111111,
              "#46039f"
             ],
             [
              0.2222222222222222,
              "#7201a8"
             ],
             [
              0.3333333333333333,
              "#9c179e"
             ],
             [
              0.4444444444444444,
              "#bd3786"
             ],
             [
              0.5555555555555556,
              "#d8576b"
             ],
             [
              0.6666666666666666,
              "#ed7953"
             ],
             [
              0.7777777777777778,
              "#fb9f3a"
             ],
             [
              0.8888888888888888,
              "#fdca26"
             ],
             [
              1,
              "#f0f921"
             ]
            ],
            "type": "heatmap"
           }
          ],
          "heatmapgl": [
           {
            "colorbar": {
             "outlinewidth": 0,
             "ticks": ""
            },
            "colorscale": [
             [
              0,
              "#0d0887"
             ],
             [
              0.1111111111111111,
              "#46039f"
             ],
             [
              0.2222222222222222,
              "#7201a8"
             ],
             [
              0.3333333333333333,
              "#9c179e"
             ],
             [
              0.4444444444444444,
              "#bd3786"
             ],
             [
              0.5555555555555556,
              "#d8576b"
             ],
             [
              0.6666666666666666,
              "#ed7953"
             ],
             [
              0.7777777777777778,
              "#fb9f3a"
             ],
             [
              0.8888888888888888,
              "#fdca26"
             ],
             [
              1,
              "#f0f921"
             ]
            ],
            "type": "heatmapgl"
           }
          ],
          "histogram": [
           {
            "marker": {
             "pattern": {
              "fillmode": "overlay",
              "size": 10,
              "solidity": 0.2
             }
            },
            "type": "histogram"
           }
          ],
          "histogram2d": [
           {
            "colorbar": {
             "outlinewidth": 0,
             "ticks": ""
            },
            "colorscale": [
             [
              0,
              "#0d0887"
             ],
             [
              0.1111111111111111,
              "#46039f"
             ],
             [
              0.2222222222222222,
              "#7201a8"
             ],
             [
              0.3333333333333333,
              "#9c179e"
             ],
             [
              0.4444444444444444,
              "#bd3786"
             ],
             [
              0.5555555555555556,
              "#d8576b"
             ],
             [
              0.6666666666666666,
              "#ed7953"
             ],
             [
              0.7777777777777778,
              "#fb9f3a"
             ],
             [
              0.8888888888888888,
              "#fdca26"
             ],
             [
              1,
              "#f0f921"
             ]
            ],
            "type": "histogram2d"
           }
          ],
          "histogram2dcontour": [
           {
            "colorbar": {
             "outlinewidth": 0,
             "ticks": ""
            },
            "colorscale": [
             [
              0,
              "#0d0887"
             ],
             [
              0.1111111111111111,
              "#46039f"
             ],
             [
              0.2222222222222222,
              "#7201a8"
             ],
             [
              0.3333333333333333,
              "#9c179e"
             ],
             [
              0.4444444444444444,
              "#bd3786"
             ],
             [
              0.5555555555555556,
              "#d8576b"
             ],
             [
              0.6666666666666666,
              "#ed7953"
             ],
             [
              0.7777777777777778,
              "#fb9f3a"
             ],
             [
              0.8888888888888888,
              "#fdca26"
             ],
             [
              1,
              "#f0f921"
             ]
            ],
            "type": "histogram2dcontour"
           }
          ],
          "mesh3d": [
           {
            "colorbar": {
             "outlinewidth": 0,
             "ticks": ""
            },
            "type": "mesh3d"
           }
          ],
          "parcoords": [
           {
            "line": {
             "colorbar": {
              "outlinewidth": 0,
              "ticks": ""
             }
            },
            "type": "parcoords"
           }
          ],
          "pie": [
           {
            "automargin": true,
            "type": "pie"
           }
          ],
          "scatter": [
           {
            "fillpattern": {
             "fillmode": "overlay",
             "size": 10,
             "solidity": 0.2
            },
            "type": "scatter"
           }
          ],
          "scatter3d": [
           {
            "line": {
             "colorbar": {
              "outlinewidth": 0,
              "ticks": ""
             }
            },
            "marker": {
             "colorbar": {
              "outlinewidth": 0,
              "ticks": ""
             }
            },
            "type": "scatter3d"
           }
          ],
          "scattercarpet": [
           {
            "marker": {
             "colorbar": {
              "outlinewidth": 0,
              "ticks": ""
             }
            },
            "type": "scattercarpet"
           }
          ],
          "scattergeo": [
           {
            "marker": {
             "colorbar": {
              "outlinewidth": 0,
              "ticks": ""
             }
            },
            "type": "scattergeo"
           }
          ],
          "scattergl": [
           {
            "marker": {
             "colorbar": {
              "outlinewidth": 0,
              "ticks": ""
             }
            },
            "type": "scattergl"
           }
          ],
          "scattermapbox": [
           {
            "marker": {
             "colorbar": {
              "outlinewidth": 0,
              "ticks": ""
             }
            },
            "type": "scattermapbox"
           }
          ],
          "scatterpolar": [
           {
            "marker": {
             "colorbar": {
              "outlinewidth": 0,
              "ticks": ""
             }
            },
            "type": "scatterpolar"
           }
          ],
          "scatterpolargl": [
           {
            "marker": {
             "colorbar": {
              "outlinewidth": 0,
              "ticks": ""
             }
            },
            "type": "scatterpolargl"
           }
          ],
          "scatterternary": [
           {
            "marker": {
             "colorbar": {
              "outlinewidth": 0,
              "ticks": ""
             }
            },
            "type": "scatterternary"
           }
          ],
          "surface": [
           {
            "colorbar": {
             "outlinewidth": 0,
             "ticks": ""
            },
            "colorscale": [
             [
              0,
              "#0d0887"
             ],
             [
              0.1111111111111111,
              "#46039f"
             ],
             [
              0.2222222222222222,
              "#7201a8"
             ],
             [
              0.3333333333333333,
              "#9c179e"
             ],
             [
              0.4444444444444444,
              "#bd3786"
             ],
             [
              0.5555555555555556,
              "#d8576b"
             ],
             [
              0.6666666666666666,
              "#ed7953"
             ],
             [
              0.7777777777777778,
              "#fb9f3a"
             ],
             [
              0.8888888888888888,
              "#fdca26"
             ],
             [
              1,
              "#f0f921"
             ]
            ],
            "type": "surface"
           }
          ],
          "table": [
           {
            "cells": {
             "fill": {
              "color": "#EBF0F8"
             },
             "line": {
              "color": "white"
             }
            },
            "header": {
             "fill": {
              "color": "#C8D4E3"
             },
             "line": {
              "color": "white"
             }
            },
            "type": "table"
           }
          ]
         },
         "layout": {
          "annotationdefaults": {
           "arrowcolor": "#2a3f5f",
           "arrowhead": 0,
           "arrowwidth": 1
          },
          "autotypenumbers": "strict",
          "coloraxis": {
           "colorbar": {
            "outlinewidth": 0,
            "ticks": ""
           }
          },
          "colorscale": {
           "diverging": [
            [
             0,
             "#8e0152"
            ],
            [
             0.1,
             "#c51b7d"
            ],
            [
             0.2,
             "#de77ae"
            ],
            [
             0.3,
             "#f1b6da"
            ],
            [
             0.4,
             "#fde0ef"
            ],
            [
             0.5,
             "#f7f7f7"
            ],
            [
             0.6,
             "#e6f5d0"
            ],
            [
             0.7,
             "#b8e186"
            ],
            [
             0.8,
             "#7fbc41"
            ],
            [
             0.9,
             "#4d9221"
            ],
            [
             1,
             "#276419"
            ]
           ],
           "sequential": [
            [
             0,
             "#0d0887"
            ],
            [
             0.1111111111111111,
             "#46039f"
            ],
            [
             0.2222222222222222,
             "#7201a8"
            ],
            [
             0.3333333333333333,
             "#9c179e"
            ],
            [
             0.4444444444444444,
             "#bd3786"
            ],
            [
             0.5555555555555556,
             "#d8576b"
            ],
            [
             0.6666666666666666,
             "#ed7953"
            ],
            [
             0.7777777777777778,
             "#fb9f3a"
            ],
            [
             0.8888888888888888,
             "#fdca26"
            ],
            [
             1,
             "#f0f921"
            ]
           ],
           "sequentialminus": [
            [
             0,
             "#0d0887"
            ],
            [
             0.1111111111111111,
             "#46039f"
            ],
            [
             0.2222222222222222,
             "#7201a8"
            ],
            [
             0.3333333333333333,
             "#9c179e"
            ],
            [
             0.4444444444444444,
             "#bd3786"
            ],
            [
             0.5555555555555556,
             "#d8576b"
            ],
            [
             0.6666666666666666,
             "#ed7953"
            ],
            [
             0.7777777777777778,
             "#fb9f3a"
            ],
            [
             0.8888888888888888,
             "#fdca26"
            ],
            [
             1,
             "#f0f921"
            ]
           ]
          },
          "colorway": [
           "#636efa",
           "#EF553B",
           "#00cc96",
           "#ab63fa",
           "#FFA15A",
           "#19d3f3",
           "#FF6692",
           "#B6E880",
           "#FF97FF",
           "#FECB52"
          ],
          "font": {
           "color": "#2a3f5f"
          },
          "geo": {
           "bgcolor": "white",
           "lakecolor": "white",
           "landcolor": "#E5ECF6",
           "showlakes": true,
           "showland": true,
           "subunitcolor": "white"
          },
          "hoverlabel": {
           "align": "left"
          },
          "hovermode": "closest",
          "mapbox": {
           "style": "light"
          },
          "paper_bgcolor": "white",
          "plot_bgcolor": "#E5ECF6",
          "polar": {
           "angularaxis": {
            "gridcolor": "white",
            "linecolor": "white",
            "ticks": ""
           },
           "bgcolor": "#E5ECF6",
           "radialaxis": {
            "gridcolor": "white",
            "linecolor": "white",
            "ticks": ""
           }
          },
          "scene": {
           "xaxis": {
            "backgroundcolor": "#E5ECF6",
            "gridcolor": "white",
            "gridwidth": 2,
            "linecolor": "white",
            "showbackground": true,
            "ticks": "",
            "zerolinecolor": "white"
           },
           "yaxis": {
            "backgroundcolor": "#E5ECF6",
            "gridcolor": "white",
            "gridwidth": 2,
            "linecolor": "white",
            "showbackground": true,
            "ticks": "",
            "zerolinecolor": "white"
           },
           "zaxis": {
            "backgroundcolor": "#E5ECF6",
            "gridcolor": "white",
            "gridwidth": 2,
            "linecolor": "white",
            "showbackground": true,
            "ticks": "",
            "zerolinecolor": "white"
           }
          },
          "shapedefaults": {
           "line": {
            "color": "#2a3f5f"
           }
          },
          "ternary": {
           "aaxis": {
            "gridcolor": "white",
            "linecolor": "white",
            "ticks": ""
           },
           "baxis": {
            "gridcolor": "white",
            "linecolor": "white",
            "ticks": ""
           },
           "bgcolor": "#E5ECF6",
           "caxis": {
            "gridcolor": "white",
            "linecolor": "white",
            "ticks": ""
           }
          },
          "title": {
           "x": 0.05
          },
          "xaxis": {
           "automargin": true,
           "gridcolor": "white",
           "linecolor": "white",
           "ticks": "",
           "title": {
            "standoff": 15
           },
           "zerolinecolor": "white",
           "zerolinewidth": 2
          },
          "yaxis": {
           "automargin": true,
           "gridcolor": "white",
           "linecolor": "white",
           "ticks": "",
           "title": {
            "standoff": 15
           },
           "zerolinecolor": "white",
           "zerolinewidth": 2
          }
         }
        },
        "width": 1200,
        "xaxis": {
         "anchor": "y",
         "domain": [
          0,
          0.45
         ]
        },
        "xaxis2": {
         "anchor": "y2",
         "domain": [
          0.55,
          1
         ]
        },
        "yaxis": {
         "anchor": "x",
         "domain": [
          0,
          1
         ],
         "type": "log"
        },
        "yaxis2": {
         "anchor": "x2",
         "domain": [
          0,
          1
         ]
        }
       }
      }
     },
     "metadata": {},
     "output_type": "display_data"
    }
   ],
   "source": [
    "# Define the data for the plots\n",
    "dataset_stats = calculate_dataset_stats(df)\n",
    "\n",
    "data_quantity_heterogeneity = calculate_data_quantity_heterogeneity(df)\n",
    "\n",
    "# Create the subplots\n",
    "fig = make_subplots(rows=1, cols=2, subplot_titles=(\"Evaluation Dataset Statistics\", \"Data Quantity Heterogeneity\"))\n",
    "\n",
    "# Add the dataset statistics bar chart\n",
    "fig.add_trace(\n",
    "    go.Bar(x=dataset_stats['Categories'], \n",
    "           y=dataset_stats['Values'], \n",
    "           marker_color=dataset_stats['Colors'],\n",
    "           text=dataset_stats['Values'],\n",
    "           textposition='auto'),\n",
    "    row=1, col=1\n",
    ")\n",
    "\n",
    "# Add the data quantity heterogeneity bar chart\n",
    "fig.add_trace(\n",
    "    go.Bar(x=data_quantity_heterogeneity['Metrics'], \n",
    "           y=data_quantity_heterogeneity['Values'], \n",
    "           marker_color=data_quantity_heterogeneity['Colors'],\n",
    "           text=data_quantity_heterogeneity['Values'],\n",
    "           textposition='auto'),\n",
    "    row=1, col=2\n",
    ")\n",
    "\n",
    "# Update y-axis to log scale for the first subplot\n",
    "fig.update_yaxes(type=\"log\", row=1, col=1)\n",
    "\n",
    "# Update layout for better visibility\n",
    "fig.update_layout(showlegend=False, height=600, width=1200)\n",
    "\n",
    "# Show the plots\n",
    "fig.show()"
   ]
  },
  {
   "cell_type": "markdown",
   "metadata": {},
   "source": [
    "## Neuronal Colaborative Filtering implementation with Cornac "
   ]
  },
  {
   "cell_type": "markdown",
   "metadata": {},
   "source": [
    "Let's implement the cornac method to see comportement of GMF, MLP, NeuMF on yelp Dataset. We keep the parameters quoted in the report. "
   ]
  },
  {
   "cell_type": "code",
   "execution_count": 5,
   "metadata": {},
   "outputs": [],
   "source": [
    "# Load the Parquet files (column names are read automatically)\n",
    "#train_df = pd.read_parquet(\"data/yelp-train.parquet\").head(50000)\n",
    "#test_df = pd.read_parquet(\"data/yelp-test.parquet\").head(50000)\n",
    "\n",
    "\n",
    "train_df = pd.read_csv(\"data/train_exp_200.csv\")\n",
    "test_df = pd.read_csv(\"data/test_exp_200.csv\")\n",
    "\n",
    "\n",
    "#train_df.columns = ['user_id', 'business_id', 'stars']\n",
    "#test_df.columns = ['user_id', 'business_id', 'stars']\n",
    "\n",
    "# Concatenate train and test DataFrames\n",
    "df = pd.concat([train_df, test_df], ignore_index=True)"
   ]
  },
  {
   "cell_type": "code",
   "execution_count": 6,
   "metadata": {},
   "outputs": [
    {
     "name": "stdout",
     "output_type": "stream",
     "text": [
      "rating_threshold = 3.0\n",
      "exclude_unknowns = False\n",
      "---\n",
      "Training data:\n",
      "Number of users = 200\n",
      "Number of items = 3390\n",
      "Number of ratings = 3767\n",
      "Max rating = 5.0\n",
      "Min rating = 1.0\n",
      "Global mean = 3.8\n",
      "---\n",
      "Test data:\n",
      "Number of users = 200\n",
      "Number of items = 4157\n",
      "Number of ratings = 942\n",
      "Number of unknown users = 0\n",
      "Number of unknown items = 767\n",
      "---\n",
      "Total users = 200\n",
      "Total items = 4157\n",
      "\n",
      "[GMF] Training started!\n"
     ]
    },
    {
     "data": {
      "application/vnd.jupyter.widget-view+json": {
       "model_id": "09be3bb889634884a885b8e952310baa",
       "version_major": 2,
       "version_minor": 0
      },
      "text/plain": [
       "  0%|          | 0/10 [00:00<?, ?it/s]"
      ]
     },
     "metadata": {},
     "output_type": "display_data"
    },
    {
     "name": "stdout",
     "output_type": "stream",
     "text": [
      "\n",
      "[GMF] Evaluation started!\n"
     ]
    },
    {
     "data": {
      "application/vnd.jupyter.widget-view+json": {
       "model_id": "567cd081700a48bc8531bce158607dac",
       "version_major": 2,
       "version_minor": 0
      },
      "text/plain": [
       "Ranking:   0%|          | 0/196 [00:00<?, ?it/s]"
      ]
     },
     "metadata": {},
     "output_type": "display_data"
    },
    {
     "name": "stdout",
     "output_type": "stream",
     "text": [
      "\n",
      "[MLP] Training started!\n"
     ]
    },
    {
     "data": {
      "application/vnd.jupyter.widget-view+json": {
       "model_id": "658c91ec495149aba121893d7938478b",
       "version_major": 2,
       "version_minor": 0
      },
      "text/plain": [
       "  0%|          | 0/10 [00:00<?, ?it/s]"
      ]
     },
     "metadata": {},
     "output_type": "display_data"
    },
    {
     "name": "stdout",
     "output_type": "stream",
     "text": [
      "\n",
      "[MLP] Evaluation started!\n"
     ]
    },
    {
     "data": {
      "application/vnd.jupyter.widget-view+json": {
       "model_id": "a2f7abc3aa3e45d4b3b56e10e366e93f",
       "version_major": 2,
       "version_minor": 0
      },
      "text/plain": [
       "Ranking:   0%|          | 0/196 [00:00<?, ?it/s]"
      ]
     },
     "metadata": {},
     "output_type": "display_data"
    },
    {
     "name": "stdout",
     "output_type": "stream",
     "text": [
      "\n",
      "[NeuMF] Training started!\n"
     ]
    },
    {
     "data": {
      "application/vnd.jupyter.widget-view+json": {
       "model_id": "1aadf31b21ea41bfba852ee5cccd5fa9",
       "version_major": 2,
       "version_minor": 0
      },
      "text/plain": [
       "  0%|          | 0/10 [00:00<?, ?it/s]"
      ]
     },
     "metadata": {},
     "output_type": "display_data"
    },
    {
     "name": "stdout",
     "output_type": "stream",
     "text": [
      "\n",
      "[NeuMF] Evaluation started!\n"
     ]
    },
    {
     "data": {
      "application/vnd.jupyter.widget-view+json": {
       "model_id": "d8377e6eb87e4ed4981df2cdd935d4d0",
       "version_major": 2,
       "version_minor": 0
      },
      "text/plain": [
       "Ranking:   0%|          | 0/196 [00:00<?, ?it/s]"
      ]
     },
     "metadata": {},
     "output_type": "display_data"
    },
    {
     "name": "stdout",
     "output_type": "stream",
     "text": [
      "\n",
      "[NeuMF_pretrained] Training started!\n"
     ]
    },
    {
     "data": {
      "application/vnd.jupyter.widget-view+json": {
       "model_id": "43410bbad1bb4b208dbffb7bc89bafe6",
       "version_major": 2,
       "version_minor": 0
      },
      "text/plain": [
       "  0%|          | 0/10 [00:00<?, ?it/s]"
      ]
     },
     "metadata": {},
     "output_type": "display_data"
    },
    {
     "name": "stdout",
     "output_type": "stream",
     "text": [
      "\n",
      "[NeuMF_pretrained] Evaluation started!\n"
     ]
    },
    {
     "data": {
      "application/vnd.jupyter.widget-view+json": {
       "model_id": "9842a348b36744ef9b68d7a0ea0dd037",
       "version_major": 2,
       "version_minor": 0
      },
      "text/plain": [
       "Ranking:   0%|          | 0/196 [00:00<?, ?it/s]"
      ]
     },
     "metadata": {},
     "output_type": "display_data"
    },
    {
     "name": "stdout",
     "output_type": "stream",
     "text": [
      "\n",
      "TEST:\n",
      "...\n",
      "                 |    MAP | NDCG@10 | Precision@10 | Recall@10 | Train (s) | Test (s)\n",
      "---------------- + ------ + ------- + ------------ + --------- + --------- + --------\n",
      "GMF              | 0.0022 |  0.0023 |       0.0011 |    0.0041 |   12.1999 |   0.1384\n",
      "MLP              | 0.0020 |  0.0021 |       0.0016 |    0.0042 |    9.7456 |   0.2079\n",
      "NeuMF            | 0.0023 |  0.0019 |       0.0011 |    0.0041 |    9.8657 |   0.2241\n",
      "NeuMF_pretrained | 0.0023 |  0.0021 |       0.0011 |    0.0041 |    9.8465 |   0.2327\n",
      "\n"
     ]
    }
   ],
   "source": [
    "with tempfile.NamedTemporaryFile(delete=False, suffix='.csv') as tmp_file:\n",
    "    df.to_csv(tmp_file.name, index=False, header=False, sep='\\t')\n",
    "\n",
    "# Read the data using Cornac's Reader\n",
    "reader = Reader()\n",
    "feedback = reader.read(tmp_file.name, fmt='UIR')\n",
    "\n",
    "# Define an evaluation method to split feedback into train and test sets\n",
    "ratio_split = RatioSplit(\n",
    "    data=feedback,\n",
    "    test_size=0.2,\n",
    "    rating_threshold=3.0,\n",
    "    seed=123,\n",
    "    exclude_unknowns=False,\n",
    "    verbose=True,\n",
    ")\n",
    "\n",
    "backend = \"tensorflow\"  # or 'pytorch'\n",
    "\n",
    "# Instantiate the recommender models to be compared\n",
    "gmf = cornac.models.GMF(\n",
    "    num_factors=8,\n",
    "    num_epochs=10,\n",
    "    learner=\"adam\",\n",
    "    backend=backend,\n",
    "    batch_size=256,\n",
    "    lr=0.001,\n",
    "    num_neg=50,\n",
    "    seed=123,\n",
    ")\n",
    "mlp = cornac.models.MLP(\n",
    "    layers=[64, 32, 16, 8],\n",
    "    act_fn=\"tanh\",\n",
    "    learner=\"adam\",\n",
    "    backend=backend,\n",
    "    num_epochs=10,\n",
    "    batch_size=256,\n",
    "    lr=0.001,\n",
    "    num_neg=50,\n",
    "    seed=123,\n",
    ")\n",
    "neumf1 = cornac.models.NeuMF(\n",
    "    num_factors=8,\n",
    "    layers=[64, 32, 16, 8],\n",
    "    act_fn=\"tanh\",\n",
    "    learner=\"adam\",\n",
    "    backend=backend,\n",
    "    num_epochs=10,\n",
    "    batch_size=256,\n",
    "    lr=0.001,\n",
    "    num_neg=50,\n",
    "    seed=123,\n",
    ")\n",
    "neumf2 = cornac.models.NeuMF(\n",
    "    name=\"NeuMF_pretrained\",\n",
    "    learner=\"sgd\",\n",
    "    backend=backend,\n",
    "    num_epochs=10,\n",
    "    batch_size=256,\n",
    "    lr=0.001,\n",
    "    num_neg=50,\n",
    "    seed=123,\n",
    "    num_factors=gmf.num_factors,\n",
    "    layers=mlp.layers,\n",
    "    act_fn=mlp.act_fn,\n",
    ").from_pretrained(gmf, mlp, alpha=0.5)\n",
    "\n",
    "\n",
    "# Specify the metrics to evaluate the model\n",
    "metrics = [\n",
    "    Precision(k=10),\n",
    "    Recall(k=10),\n",
    "    NDCG(k=10),\n",
    "    MAP(),\n",
    "    Precision(k=10),\n",
    "    Recall(k=10),\n",
    "]\n",
    "\n",
    "# Put everything together into an experiment and run it\n",
    "cornac.Experiment(\n",
    "    eval_method=ratio_split,\n",
    "    models=[\n",
    "        gmf,\n",
    "        mlp,\n",
    "        neumf1,\n",
    "        neumf2,\n",
    "    ],\n",
    "    metrics=metrics,\n",
    ").run()"
   ]
  },
  {
   "cell_type": "markdown",
   "metadata": {},
   "source": [
    "## NeuMF from scratch "
   ]
  },
  {
   "cell_type": "markdown",
   "metadata": {},
   "source": [
    "In order to understand more the structure of NeuMF let's implement it from scratch with pytorch :"
   ]
  },
  {
   "cell_type": "markdown",
   "metadata": {},
   "source": [
    "### Implicit vs. Explicit Datasets\n",
    "In the context of recommender systems and user behavior analysis, datasets can be categorized into two types based on the nature of user feedback: implicit and explicit.\n",
    "\n",
    "### Explicit Dataset\n",
    "\n",
    "Explicit datasets contain direct feedback from users regarding their preferences. This feedback is usually in a structured form, such as ratings, reviews, or likes/dislikes. Key characteristics include:\n",
    "\n",
    "- Ratings: Users provide a numerical rating (e.g., on a scale of 1 to 5) to an item.\n",
    "- Reviews: Written feedback that often accompanies ratings.\n",
    "- Likes/Dislikes: Binary feedback indicating preference or aversion.\n",
    "Explicit feedback is clear and direct but requires active user participation to collect.\n",
    "\n",
    "### Implicit Dataset\n",
    "\n",
    "Implicit datasets are based on indirect feedback inferred from user actions. These actions are not direct indications of preference but can be interpreted as signals of interest or disinterest. Characteristics include:\n",
    "\n",
    "- Page Views: The number of times a user views a page or item.\n",
    "- Purchase History: Records of items a user has purchased.\n",
    "- Time Spent: The duration a user spends on a particular item or page.\n",
    "- Click-Throughs: Whether a user clicks on a recommendation or not.\n",
    "Implicit feedback is more abundant and easier to collect but less definitive in expressing user preferences.\n",
    "\n",
    "### The Role of Threshold in Implicit Datasets\n",
    "In implicit datasets, feedback is inferred from user actions, which are ambiguous. A threshold is often set to distinguish between positive and negative feedback:\n",
    "\n",
    "- Positive Interaction: If a user's interaction with an item exceeds a certain threshold, it can be interpreted as a positive signal.\n",
    "- Negative Interaction: Interactions below the threshold might be considered negative or neutral.\n",
    "- Quantifying Interest: The threshold helps in quantifying interest levels. Different thresholds can be experimented with to capture user behavior nuances.\n",
    "\n",
    "### Importance of Thresholding\n",
    "- Model Training: Distinguishing between positive and negative samples is crucial for machine learning models in recommender systems.\n",
    "- Personalization: Accurate thresholding ensures better interpretations of user preferences, leading to improved personalization.\n",
    "- Evaluation Metrics: It affects how evaluation metrics are calculated, defining what is considered 'relevant'.\n",
    "- Bias and Noise Reduction: Proper thresholding can reduce noise and bias in the dataset.\n",
    "\n",
    "In conclusion, the distinction between implicit and explicit datasets lies in how user preferences are expressed and collected. Thresholding in implicit datasets is vital for translating user behavior into actionable insights for personalized recommendations."
   ]
  },
  {
   "cell_type": "code",
   "execution_count": 7,
   "metadata": {},
   "outputs": [
    {
     "data": {
      "text/html": [
       "<div>\n",
       "<style scoped>\n",
       "    .dataframe tbody tr th:only-of-type {\n",
       "        vertical-align: middle;\n",
       "    }\n",
       "\n",
       "    .dataframe tbody tr th {\n",
       "        vertical-align: top;\n",
       "    }\n",
       "\n",
       "    .dataframe thead th {\n",
       "        text-align: right;\n",
       "    }\n",
       "</style>\n",
       "<table border=\"1\" class=\"dataframe\">\n",
       "  <thead>\n",
       "    <tr style=\"text-align: right;\">\n",
       "      <th></th>\n",
       "      <th>user_id</th>\n",
       "      <th>business_id</th>\n",
       "      <th>stars</th>\n",
       "    </tr>\n",
       "  </thead>\n",
       "  <tbody>\n",
       "    <tr>\n",
       "      <th>0</th>\n",
       "      <td>827556</td>\n",
       "      <td>88673</td>\n",
       "      <td>5</td>\n",
       "    </tr>\n",
       "    <tr>\n",
       "      <th>1</th>\n",
       "      <td>827556</td>\n",
       "      <td>36288</td>\n",
       "      <td>5</td>\n",
       "    </tr>\n",
       "    <tr>\n",
       "      <th>2</th>\n",
       "      <td>827556</td>\n",
       "      <td>30490</td>\n",
       "      <td>4</td>\n",
       "    </tr>\n",
       "    <tr>\n",
       "      <th>3</th>\n",
       "      <td>1202231</td>\n",
       "      <td>28754</td>\n",
       "      <td>4</td>\n",
       "    </tr>\n",
       "    <tr>\n",
       "      <th>4</th>\n",
       "      <td>1202231</td>\n",
       "      <td>122144</td>\n",
       "      <td>4</td>\n",
       "    </tr>\n",
       "  </tbody>\n",
       "</table>\n",
       "</div>"
      ],
      "text/plain": [
       "   user_id  business_id  stars\n",
       "0   827556        88673      5\n",
       "1   827556        36288      5\n",
       "2   827556        30490      4\n",
       "3  1202231        28754      4\n",
       "4  1202231       122144      4"
      ]
     },
     "execution_count": 7,
     "metadata": {},
     "output_type": "execute_result"
    }
   ],
   "source": [
    "# Load the Parquet files (column names are read automatically)\n",
    "train_df = pd.read_parquet(\"data/yelp-train.parquet\")\n",
    "test_df = pd.read_parquet(\"data/yelp-test.parquet\")\n",
    "\n",
    "train_df.columns = ['user_id', 'business_id', 'stars']\n",
    "test_df.columns = ['user_id', 'business_id', 'stars']\n",
    "\n",
    "# Concatenate train and test DataFrames\n",
    "df = pd.concat([train_df, test_df], ignore_index=True)\n",
    "\n",
    "# Display the firt few rows of the DataFrame\n",
    "df.head()"
   ]
  },
  {
   "cell_type": "code",
   "execution_count": 8,
   "metadata": {},
   "outputs": [],
   "source": [
    "def filter_num_user(df,n):\n",
    "    user_interactions = df.groupby('user_id').size()\n",
    "    users_with_min_interactions = user_interactions[user_interactions >= 10]\n",
    "    selected_users = pd.Series(users_with_min_interactions.index).sample(n=200, random_state=1) \n",
    "    selected_df = df[df['user_id'].isin(selected_users)]\n",
    "    return selected_df"
   ]
  },
  {
   "cell_type": "code",
   "execution_count": 9,
   "metadata": {},
   "outputs": [],
   "source": [
    "df = filter_num_user(df,200)\n",
    "threshold = 3\n",
    "df['feedback'] = (df['stars'] >= threshold).astype(int)\n"
   ]
  },
  {
   "cell_type": "code",
   "execution_count": 10,
   "metadata": {},
   "outputs": [],
   "source": [
    "class NeuMF(nn.Module):\n",
    "    def __init__(self, num_factors, num_users, num_items, layers):\n",
    "        super(NeuMF, self).__init__()\n",
    "        self.P = nn.Embedding(num_users, num_factors)\n",
    "        self.Q = nn.Embedding(num_items, num_factors)\n",
    "        self.U = nn.Embedding(num_users, num_factors)\n",
    "        self.V = nn.Embedding(num_items, num_factors)\n",
    "\n",
    "        # MLP layers\n",
    "        mlp_layers = []\n",
    "        input_size = 2 * num_factors\n",
    "        for layer_size in layers:\n",
    "            mlp_layers.append(nn.Linear(input_size, layer_size))\n",
    "            mlp_layers.append(nn.Tanh())\n",
    "            input_size = layer_size\n",
    "        self.mlp = nn.Sequential(*mlp_layers)\n",
    "\n",
    "        # Prediction layer\n",
    "        self.prediction_layer = nn.Linear(input_size + num_factors, 1)\n",
    "\n",
    "    def forward(self, user_id, item_id):\n",
    "        p_mf = self.P(user_id)\n",
    "        q_mf = self.Q(item_id)\n",
    "        gmf = p_mf * q_mf\n",
    "\n",
    "        p_mlp = self.U(user_id)\n",
    "        q_mlp = self.V(item_id)\n",
    "        mlp = torch.cat((p_mlp, q_mlp), dim=1)\n",
    "        mlp = self.mlp(mlp)\n",
    "\n",
    "        con_res = torch.cat((gmf, mlp), dim=1)\n",
    "        output = self.prediction_layer(con_res)\n",
    "        return output\n"
   ]
  },
  {
   "cell_type": "code",
   "execution_count": 11,
   "metadata": {},
   "outputs": [],
   "source": [
    "import pandas as pd\n",
    "from sklearn.model_selection import train_test_split\n",
    "from sklearn.preprocessing import LabelEncoder\n",
    "\n",
    "df['feedback'] = df['stars'].apply(lambda x: 1 if x >= 3 else 0)\n",
    "\n",
    "# Encoding user_id and business_id\n",
    "user_encoder = LabelEncoder()\n",
    "business_encoder = LabelEncoder()\n",
    "\n",
    "df['user_id'] = user_encoder.fit_transform(df['user_id'])\n",
    "df['business_id'] = business_encoder.fit_transform(df['business_id'])\n",
    "\n",
    "# Splitting the dataset\n",
    "train_df, test_df = train_test_split(df, test_size=0.2, random_state=42)\n",
    "\n",
    "# Number of unique users and businesses\n",
    "num_users = df['user_id'].nunique()\n",
    "num_items = df['business_id'].nunique()"
   ]
  },
  {
   "cell_type": "code",
   "execution_count": 12,
   "metadata": {},
   "outputs": [],
   "source": [
    "positive_df = train_df[train_df['feedback'] == 1]\n",
    "negative_df = train_df[train_df['feedback'] == 0]\n",
    "\n",
    "# Sample negative instances\n",
    "sampled_negative_df = negative_df.sample(n=len(positive_df) * 50, replace=True, random_state=42)\n",
    "\n",
    "# Combine positive and sampled negative instances\n",
    "combined_df = pd.concat([positive_df, sampled_negative_df]).reset_index(drop=True)"
   ]
  },
  {
   "cell_type": "code",
   "execution_count": 13,
   "metadata": {},
   "outputs": [
    {
     "data": {
      "text/plain": [
       "200"
      ]
     },
     "execution_count": 13,
     "metadata": {},
     "output_type": "execute_result"
    }
   ],
   "source": [
    "len(train_df[\"user_id\"].unique())"
   ]
  },
  {
   "cell_type": "code",
   "execution_count": 14,
   "metadata": {},
   "outputs": [],
   "source": [
    "positive_df = test_df[test_df['feedback'] == 1]\n",
    "negative_df = test_df[test_df['feedback'] == 0]\n",
    "\n",
    "# Sample negative instances\n",
    "sampled_negative_df_test = negative_df.sample(n=len(positive_df) * 50, replace=True, random_state=42)\n",
    "\n",
    "# Combine positive and sampled negative instances\n",
    "combined_df_test = pd.concat([positive_df, sampled_negative_df]).reset_index(drop=True)"
   ]
  },
  {
   "cell_type": "code",
   "execution_count": 15,
   "metadata": {},
   "outputs": [
    {
     "data": {
      "text/plain": [
       "199"
      ]
     },
     "execution_count": 15,
     "metadata": {},
     "output_type": "execute_result"
    }
   ],
   "source": [
    "len(combined_df_test[\"user_id\"].unique())"
   ]
  },
  {
   "cell_type": "code",
   "execution_count": 16,
   "metadata": {},
   "outputs": [],
   "source": [
    "import torch\n",
    "from torch.utils.data import Dataset, DataLoader\n",
    "\n",
    "class ImplicitDataset(Dataset):\n",
    "    def __init__(self, users, items, feedback):\n",
    "        self.users = torch.tensor(users, dtype=torch.long)\n",
    "        self.items = torch.tensor(items, dtype=torch.long)\n",
    "        self.feedback = torch.tensor(feedback, dtype=torch.float)\n",
    "\n",
    "    def __len__(self):\n",
    "        return len(self.users)\n",
    "\n",
    "    def __getitem__(self, idx):\n",
    "        return self.users[idx], self.items[idx], self.feedback[idx]\n",
    "\n",
    "# Create datasets\n",
    "combined_dataset_train = ImplicitDataset(combined_df['user_id'].values, combined_df['business_id'].values, combined_df['feedback'].values)\n",
    "combined_dataset_test = ImplicitDataset(combined_df_test['user_id'].values, combined_df_test['business_id'].values, combined_df_test['feedback'].values)"
   ]
  },
  {
   "cell_type": "code",
   "execution_count": 17,
   "metadata": {},
   "outputs": [
    {
     "name": "stderr",
     "output_type": "stream",
     "text": [
      "Epoch [1/10]: 100%|██████████| 610/610 [00:01<00:00, 375.17it/s, loss=0.031] \n"
     ]
    },
    {
     "name": "stdout",
     "output_type": "stream",
     "text": [
      "Epoch 1, Average Loss: 0.17895645576483402, Time per epoch: 1.63 seconds\n"
     ]
    },
    {
     "name": "stderr",
     "output_type": "stream",
     "text": [
      "Epoch [2/10]: 100%|██████████| 610/610 [00:01<00:00, 377.06it/s, loss=0.0807]\n"
     ]
    },
    {
     "name": "stdout",
     "output_type": "stream",
     "text": [
      "Epoch 2, Average Loss: 0.08155318052187317, Time per epoch: 1.62 seconds\n"
     ]
    },
    {
     "name": "stderr",
     "output_type": "stream",
     "text": [
      "Epoch [3/10]: 100%|██████████| 610/610 [00:01<00:00, 357.18it/s, loss=0.00899]\n"
     ]
    },
    {
     "name": "stdout",
     "output_type": "stream",
     "text": [
      "Epoch 3, Average Loss: 0.05701489753746351, Time per epoch: 1.71 seconds\n"
     ]
    },
    {
     "name": "stderr",
     "output_type": "stream",
     "text": [
      "Epoch [4/10]: 100%|██████████| 610/610 [00:01<00:00, 376.34it/s, loss=0.079]  \n"
     ]
    },
    {
     "name": "stdout",
     "output_type": "stream",
     "text": [
      "Epoch 4, Average Loss: 0.034906752351060756, Time per epoch: 1.62 seconds\n"
     ]
    },
    {
     "name": "stderr",
     "output_type": "stream",
     "text": [
      "Epoch [5/10]: 100%|██████████| 610/610 [00:01<00:00, 377.03it/s, loss=0.0351] \n"
     ]
    },
    {
     "name": "stdout",
     "output_type": "stream",
     "text": [
      "Epoch 5, Average Loss: 0.019314375898388567, Time per epoch: 1.62 seconds\n"
     ]
    },
    {
     "name": "stderr",
     "output_type": "stream",
     "text": [
      "Epoch [6/10]: 100%|██████████| 610/610 [00:01<00:00, 358.65it/s, loss=0.00214]\n"
     ]
    },
    {
     "name": "stdout",
     "output_type": "stream",
     "text": [
      "Epoch 6, Average Loss: 0.009344257887063518, Time per epoch: 1.70 seconds\n"
     ]
    },
    {
     "name": "stderr",
     "output_type": "stream",
     "text": [
      "Epoch [7/10]: 100%|██████████| 610/610 [00:01<00:00, 374.08it/s, loss=0.00062] \n"
     ]
    },
    {
     "name": "stdout",
     "output_type": "stream",
     "text": [
      "Epoch 7, Average Loss: 0.004894849737212978, Time per epoch: 1.63 seconds\n"
     ]
    },
    {
     "name": "stderr",
     "output_type": "stream",
     "text": [
      "Epoch [8/10]: 100%|██████████| 610/610 [00:01<00:00, 356.49it/s, loss=0.000684]\n"
     ]
    },
    {
     "name": "stdout",
     "output_type": "stream",
     "text": [
      "Epoch 8, Average Loss: 0.0028209465017664383, Time per epoch: 1.71 seconds\n"
     ]
    },
    {
     "name": "stderr",
     "output_type": "stream",
     "text": [
      "Epoch [9/10]: 100%|██████████| 610/610 [00:01<00:00, 376.28it/s, loss=0.000824]\n"
     ]
    },
    {
     "name": "stdout",
     "output_type": "stream",
     "text": [
      "Epoch 9, Average Loss: 0.0016960133481618079, Time per epoch: 1.62 seconds\n"
     ]
    },
    {
     "name": "stderr",
     "output_type": "stream",
     "text": [
      "Epoch [10/10]: 100%|██████████| 610/610 [00:01<00:00, 375.56it/s, loss=0.000169]"
     ]
    },
    {
     "name": "stdout",
     "output_type": "stream",
     "text": [
      "Epoch 10, Average Loss: 0.0010637005188475653, Time per epoch: 1.62 seconds\n"
     ]
    },
    {
     "name": "stderr",
     "output_type": "stream",
     "text": [
      "\n"
     ]
    }
   ],
   "source": [
    "from tqdm import tqdm\n",
    "import time\n",
    "\n",
    "device = torch.device('cuda' if torch.cuda.is_available() else 'cpu')\n",
    "# Set seed for reproducibility\n",
    "torch.manual_seed(123)\n",
    "\n",
    "# Instantiate the model\n",
    "model = NeuMF(8, num_users, num_items, layers=[64, 32, 16, 8]).to(device)\n",
    "\n",
    "# Optimizer\n",
    "optimizer = torch.optim.Adam(model.parameters(), lr=0.001)\n",
    "\n",
    "# Criterion\n",
    "criterion = torch.nn.BCEWithLogitsLoss()\n",
    "epochs = 10\n",
    "# Training loop\n",
    "for epoch in range(epochs):\n",
    "    start_time = time.time() \n",
    "    model.train()\n",
    "    total_loss = 0\n",
    "    train_loader = DataLoader(combined_dataset_train, batch_size=256, shuffle=True)\n",
    "\n",
    "    # Using tqdm for progress tracking\n",
    "    loop = tqdm(train_loader, leave=True)\n",
    "    for user_ids, item_ids, feedback in loop:\n",
    "        user_ids, item_ids, feedback = user_ids.to(device), item_ids.to(device), feedback.to(device)\n",
    "        optimizer.zero_grad()\n",
    "        predictions = model(user_ids, item_ids).squeeze()\n",
    "        loss = criterion(predictions, feedback)\n",
    "        loss.backward()\n",
    "        optimizer.step()\n",
    "        total_loss += loss.item()\n",
    "\n",
    "        # Update tqdm loop display\n",
    "        loop.set_description(f'Epoch [{epoch + 1}/{epochs}]')\n",
    "        loop.set_postfix(loss=loss.item())\n",
    "        epoch_duration = time.time() - start_time  \n",
    "    print(f\"Epoch {epoch+1}, Average Loss: {total_loss / len(train_loader)}, Time per epoch: {epoch_duration:.2f} seconds\")"
   ]
  },
  {
   "cell_type": "markdown",
   "metadata": {},
   "source": [
    "## Metrics Calculation for Recommender Systems\n",
    "\n",
    "\n",
    "\n",
    "### Function Definitions\n",
    "#### dcg_at_k(scores, k)\n",
    "Calculates the Discounted Cumulative Gain (DCG) at rank `k`. DCG is a measure of ranking quality that considers the position of correct recommendations, giving higher importance to items at the top of the recommendation list.\n",
    "\n",
    "**Formula**: \n",
    "$$ \\text{DCG@k} = \\sum_{i=1}^{k} \\frac{2^{scores_i} - 1}{\\log_2(i+1)} $$\n",
    "\n",
    "#### ndcg_at_k(true_scores, pred_scores, k)\n",
    "Calculates the Normalized Discounted Cumulative Gain (NDCG) at rank `k`. NDCG is the normalized version of DCG, where the DCG value is divided by the Ideal DCG (IDCG), ensuring a range from 0 to 1.\n",
    "\n",
    "**Formula**: \n",
    "$$ \\text{NDCG@k} = \\frac{\\text{DCG@k (pred\\_scores)}}{\\text{DCG@k (true\\_scores)}} $$\n",
    "\n",
    "#### compute_metrics(model, data_loader, k=10)\n",
    "Evaluates the model's performance using the provided `data_loader`. The metrics calculated are Mean Average Precision (MAP), NDCG@10, Precision@10, and Recall@10.\n",
    "\n",
    "- **MAP**: A metric for evaluating ranked retrieval results. The average precision is computed for each query and then averaged over all queries.\n",
    "- **NDCG@10**: Measures the quality of the recommended items in the top-10 of the ranked list.\n",
    "- **Precision@10**: The fraction of relevant items among the top-10 recommended items.\n",
    "- **Recall@10**: The fraction of the total amount of relevant items that are recommended in the top-10.\n",
    "\n",
    "**Formulas**:\n",
    "- MAP: \n",
    "$$ \\text{MAP} = \\frac{1}{Q} \\sum_{q=1}^{Q} \\text{Average Precision (q)} $$\n",
    "- Precision@k: \n",
    "$$ \\text{Precision@k} = \\frac{\\text{Number of relevant items in top-k}}{k} $$\n",
    "- Recall@k: \n",
    "$$ \\text{Recall@k} = \\frac{\\text{Number of relevant items in top-k}}{\\text{Total number of relevant items}} $$\n",
    "\n",
    "\n"
   ]
  },
  {
   "cell_type": "code",
   "execution_count": 29,
   "metadata": {},
   "outputs": [
    {
     "name": "stderr",
     "output_type": "stream",
     "text": [
      "100%|██████████| 601/601 [00:00<00:00, 751.25it/s]"
     ]
    },
    {
     "name": "stdout",
     "output_type": "stream",
     "text": [
      "{'MAP': 0.7170846869642608, 'NDCG@10': 0.7174876246991848, 'Precision@10': 0.12995009, 'Recall@10': 0.7174154187795921}\n"
     ]
    },
    {
     "name": "stderr",
     "output_type": "stream",
     "text": [
      "\n"
     ]
    }
   ],
   "source": [
    "from tqdm import tqdm\n",
    "def dcg_at_k(scores, k):\n",
    "    \"\"\"Compute DCG at rank k.\"\"\"\n",
    "    scores = scores[:k]  # Consider only top-k scores\n",
    "    return np.sum((np.power(2, scores) - 1) / np.log2(np.arange(2, k + 2)), dtype=np.float32)\n",
    "\n",
    "def ndcg_at_k(true_scores, pred_scores, k):\n",
    "    \"\"\"Compute NDCG at rank k.\"\"\"\n",
    "    if len(pred_scores) < k:\n",
    "        k = len(pred_scores)  \n",
    "\n",
    "    # Get the indices of the scores, sorted by predicted score in descending order\n",
    "    order = np.argsort(pred_scores)[::-1]\n",
    "    true_scores_sorted = true_scores[order]\n",
    "\n",
    "    # Compute DCG for the top k predicted scores\n",
    "    dcg_k = dcg_at_k(true_scores_sorted, k)\n",
    "\n",
    "    # Compute IDCG for the top k true scores\n",
    "    ideal_order = np.argsort(true_scores)[::-1]\n",
    "    ideal_scores_sorted = true_scores[ideal_order]\n",
    "    idcg_k = dcg_at_k(ideal_scores_sorted, k)\n",
    "\n",
    "    if idcg_k == 0:\n",
    "        return 0.0  # Return 0 if there are no relevant items\n",
    "\n",
    "    return dcg_k / idcg_k\n",
    "\n",
    "\n",
    "def compute_metrics(model, data_loader, k=10):\n",
    "    model.eval()\n",
    "    AP_scores = []\n",
    "    NDCG_scores = []\n",
    "    precision_scores = []\n",
    "    recall_scores = []\n",
    "\n",
    "    with torch.no_grad():\n",
    "        loop = tqdm(data_loader, leave=True)\n",
    "        for user_ids, item_ids, actuals in loop:\n",
    "            user_ids, item_ids, actuals = user_ids.to(device), item_ids.to(device), actuals.to(device)\n",
    "            predictions = model(user_ids, item_ids).squeeze()\n",
    "            \n",
    "            # Converting predictions to CPU for metric calculation\n",
    "            predictions = predictions.cpu().numpy()\n",
    "            actuals = actuals.cpu().numpy()\n",
    "            \n",
    "            # Rank items and select top-k\n",
    "            topk_indices = np.argsort(predictions)[::-1][:k]\n",
    "            topk_preds = predictions[topk_indices]\n",
    "            topk_actuals = actuals[topk_indices]\n",
    "\n",
    "            # Calculate metrics\n",
    "            AP_scores.append(average_precision_score(actuals, predictions))\n",
    "            NDCG_scores.append(ndcg_at_k(actuals, predictions, k=k)) \n",
    "            precision_scores.append(np.mean(topk_actuals))\n",
    "            if np.sum(actuals) == 0:\n",
    "                recall = 0.0  \n",
    "            else:\n",
    "                recall = np.sum(topk_actuals) / np.sum(actuals)\n",
    "\n",
    "            recall_scores.append(recall)\n",
    "\n",
    "    return {\n",
    "        \"MAP\": np.mean(AP_scores),\n",
    "        \"NDCG@10\": np.mean(NDCG_scores),\n",
    "        \"Precision@10\": np.mean(precision_scores),\n",
    "        \"Recall@10\": np.mean(recall_scores)\n",
    "    }\n",
    "\n",
    "\n",
    "# Example usage after training\n",
    "test_loader = DataLoader(combined_dataset_test, batch_size=256, shuffle=True) \n",
    "metrics = compute_metrics(model, test_loader)\n",
    "print(metrics)"
   ]
  },
  {
   "cell_type": "code",
   "execution_count": 19,
   "metadata": {},
   "outputs": [],
   "source": [
    "df.rename(columns={'business_id': 'item_id'}, inplace=True)\n",
    "df.rename(columns={'stars': 'rating'}, inplace=True)\n",
    "df = df.drop(columns=\"feedback\")\n",
    "train_df, test_df = train_test_split(df, test_size=0.2, random_state=42)\n",
    "df\n",
    "train_df.to_csv(\"data/train_exp_200.csv\",index=False)\n",
    "test_df.to_csv(\"data/test_exp_200.csv\",index=False)"
   ]
  },
  {
   "cell_type": "markdown",
   "metadata": {},
   "source": [
    "## FedNeuMF"
   ]
  },
  {
   "cell_type": "markdown",
   "metadata": {},
   "source": [
    "Now let's implement the FedNeuMF local experiment by taking inspiration from https://github.com/AmanPriyanshu/Federated-Recommendation-Neural-Collaborative-Filtering/tree/main and https://github.com/Ach113/federeco/tree/main "
   ]
  },
  {
   "cell_type": "markdown",
   "metadata": {},
   "source": [
    "### Dataset"
   ]
  },
  {
   "cell_type": "code",
   "execution_count": 20,
   "metadata": {},
   "outputs": [],
   "source": [
    "import torch\n",
    "\n",
    "DEVICE = torch.device('cuda' if torch.cuda.is_available() else 'cpu')\n",
    "\n",
    "MODEL_PARAMETERS = {\n",
    "    'default_model': {\n",
    "        'mf_dim': 8,\n",
    "        'layers': [64, 32, 16, 8],\n",
    "        'reg_layers': [0, 0, 0, 0],\n",
    "        'reg_mf': 0\n",
    "    },\n",
    "    'FedNCF': {\n",
    "        'mf_dim': 16,\n",
    "        'layers': [64, 32, 16, 8],\n",
    "        'reg_layers': [0, 0, 0, 0],\n",
    "        'reg_mf': 0\n",
    "    },\n",
    "}\n",
    "\n",
    "BATCH_SIZE = 64\n",
    "NUM_NEGATIVES = 50\n",
    "THRESHOLD = 3"
   ]
  },
  {
   "cell_type": "code",
   "execution_count": 21,
   "metadata": {},
   "outputs": [],
   "source": [
    "def load_csv_parts(dataset):\n",
    "    # Load each part\n",
    "    columns = ['user_id', 'item_id', 'rating']\n",
    "    df_part1 = pd.read_csv(os.path.join('data', dataset + '-train_1.csv'), header=None, names=columns)\n",
    "    df_part2 = pd.read_csv(os.path.join('data', dataset + '-train_2.csv'), header=None, names=columns)\n",
    "\n",
    "    return pd.concat([df_part1, df_part2], ignore_index=True)\n",
    "\n",
    "\n",
    "class Dataset:\n",
    "\n",
    "    def __init__(self, dataset: str):\n",
    "        columns = ['user_id', 'item_id', 'rating']\n",
    "        self.train_df = train_df\n",
    "        self.test_df = test_df\n",
    "        #self.train_df = load_csv_parts(dataset).head(80000)\n",
    "        #self.test_df = pd.read_csv(os.path.join('data', dataset + '-test.csv'), names=columns).head(20000)\n",
    "        self.neg_path = os.path.join('data', dataset + '-neg.csv')\n",
    "        self.num_users, self.num_items = self.get_matrix_dim()\n",
    "        print(f'Loaded `{dataset}` dataset: \\nNumber of users - {self.num_users}, Number of items - {self.num_items}')\n",
    "\n",
    "    def get_matrix_dim(self) -> Tuple[int, int]:\n",
    "        \n",
    "        num_users = max(self.train_df['user_id']) + 1\n",
    "        num_items = max(self.train_df['item_id']) + 1\n",
    "        return num_users, num_items\n",
    "\n",
    "    def load_client_train_data(self) -> List[List]:\n",
    "        \n",
    "        mat = sp.sparse.dok_matrix((self.num_users+1, self.num_items+1), dtype=np.float32)\n",
    "\n",
    "        for user, item, rating in self.train_df.values:\n",
    "            if rating >= THRESHOLD:\n",
    "                mat[user, item] = 1.0\n",
    "\n",
    "        client_datas = [[[], [], []] for _ in range(self.num_users)]\n",
    "\n",
    "        for (usr, item) in mat.keys():\n",
    "            client_datas[usr][0].append(usr)\n",
    "            client_datas[usr][1].append(item)\n",
    "            client_datas[usr][2].append(1)\n",
    "            for t in range(NUM_NEGATIVES):\n",
    "                neg = np.random.randint(self.num_items)\n",
    "                while (usr, neg) in mat.keys():\n",
    "                    neg = np.random.randint(self.num_items)\n",
    "                client_datas[usr][0].append(usr)\n",
    "                client_datas[usr][1].append(neg)\n",
    "                client_datas[usr][2].append(0)\n",
    "\n",
    "        return client_datas\n",
    "\n",
    "    def load_test_file(self) -> List[List[int]]:\n",
    "       \n",
    "        return [[user, item] for user, item, _ in self.test_df.values]\n",
    "\n",
    "    def load_negative_file(self) -> List[List[int]]:\n",
    "        \n",
    "        negative_list = []\n",
    "        with open(self.neg_path, \"r\") as f:\n",
    "            line = f.readline()\n",
    "            while line is not None and line != \"\":\n",
    "                arr = line.split(\"\\t\")\n",
    "                negatives = []\n",
    "                for x in arr[1:]:\n",
    "                    negatives.append(int(x))\n",
    "                negative_list.append(negatives)\n",
    "                line = f.readline()\n",
    "        return negative_list\n"
   ]
  },
  {
   "cell_type": "markdown",
   "metadata": {},
   "source": [
    "### Client"
   ]
  },
  {
   "cell_type": "code",
   "execution_count": 22,
   "metadata": {},
   "outputs": [],
   "source": [
    "from typing import List, Optional, Any, Tuple\n",
    "from torch import Tensor\n",
    "import pandas as pd\n",
    "import numpy as np\n",
    "import torch\n",
    "from typing import Tuple, Any, Optional, List\n",
    "from abc import ABC, abstractmethod\n",
    "\n",
    "\n",
    "class Client2(ABC):\n",
    "\n",
    "    @abstractmethod\n",
    "    def __init__(self, client_id: int):\n",
    "        self.client_id = client_id\n",
    "\n",
    "    @abstractmethod\n",
    "    def train(self,\n",
    "              server_model: torch.nn.Module,\n",
    "              local_epochs: int,\n",
    "              learning_rate: float) -> Tuple[dict[str, Any], Tensor]:\n",
    "        \n",
    "        pass\n",
    "\n",
    "    @abstractmethod\n",
    "    def generate_recommendation(self, server_model: torch.nn.Module,\n",
    "                                num_items: int,  k: Optional[int] = 5) -> List[int]:\n",
    "        \n",
    "        pass\n",
    "\n",
    "\n",
    "class Client(Client2):\n",
    "\n",
    "    def __init__(self, client_id: int):\n",
    "        super().__init__(client_id)\n",
    "        self.client_id = client_id\n",
    "        self.client_data = None\n",
    "\n",
    "    def set_client_data(self, data_array: List[np.ndarray]):\n",
    "        self.client_data = pd.DataFrame({\n",
    "            'user_id': data_array[0],\n",
    "            'item_id': data_array[1],\n",
    "            'label': data_array[2]\n",
    "        })\n",
    "\n",
    "    def train(self, server_model: torch.nn.Module, local_epochs: int, learning_rate: float) -> Tuple[dict[str, Any], Tensor]:\n",
    "     \n",
    "        user_input, item_input = self.client_data['user_id'], self.client_data['item_id']\n",
    "        labels = self.client_data['label']\n",
    "\n",
    "        user_input = torch.tensor(user_input, dtype=torch.int, device=DEVICE)\n",
    "        item_input = torch.tensor(item_input, dtype=torch.int, device=DEVICE)\n",
    "        labels = torch.tensor(labels, dtype=torch.int, device=DEVICE)\n",
    "\n",
    "        # utilize dataloader to train in batches\n",
    "        dataset = torch.utils.data.TensorDataset(user_input, item_input, labels)\n",
    "        dataloader = torch.utils.data.DataLoader(dataset, batch_size=BATCH_SIZE, shuffle=True)\n",
    "        # perturb the learning rate\n",
    "        # learning_rate = abs(learning_rate + np.random.normal(0, .01, 1).squeeze())\n",
    "        optimizer = torch.optim.AdamW(server_model.parameters(), lr=learning_rate)\n",
    "        loss = None\n",
    "        for _ in range(local_epochs):\n",
    "            for _, (u, i, l) in enumerate(dataloader):\n",
    "                logits, loss = server_model(u, i, l)\n",
    "                optimizer.zero_grad(set_to_none=True)\n",
    "                loss.backward()\n",
    "\n",
    "                torch.nn.utils.clip_grad_norm_(server_model.parameters(), 0.5)\n",
    "                optimizer.step()\n",
    "\n",
    "        return server_model.state_dict(), loss\n",
    "\n",
    "    def generate_recommendation(self, server_model: torch.nn.Module,\n",
    "                                num_items: int,  k: Optional[int] = 5) -> List[int]:\n",
    "        \"\"\"\n",
    "        :param server_model: server model which will be used to generate predictions\n",
    "        :param num_items: total number of unique items in dataset\n",
    "        :param k: number of recommendations to generate\n",
    "        :return: list of `k` movie recommendations\n",
    "        \"\"\"\n",
    "        # get movies that user has not yet interacted with\n",
    "        buisness = set(range(num_items)).difference(set(self.client_data['item_id'].tolist()))\n",
    "        buisness = torch.tensor(list(buisness), dtype=torch.int, device=DEVICE)\n",
    "        client_id = torch.tensor([self.client_id for _ in range(len(buisness))], dtype=torch.int, device=DEVICE)\n",
    "        # obtain predictions in terms of logit per movie\n",
    "        with torch.no_grad():\n",
    "            logits, _ = server_model(client_id, buisness)\n",
    "\n",
    "        rec_dict = {movie: p for movie, p in zip(buisness.tolist(), logits.squeeze().tolist())}\n",
    "        # select top k recommendations\n",
    "        top_k = sorted(rec_dict.items(), key=lambda x: -x[1])[:k]\n",
    "        rec, _ = zip(*top_k)\n",
    "\n",
    "        return rec\n",
    "    \n",
    "\n",
    "    \n",
    "def initialize_clients(dataset: Dataset) -> List[Client2]:\n",
    "    \n",
    "    clients = list()\n",
    "    client_dataset = dataset.load_client_train_data()\n",
    "\n",
    "    for client_id in range(dataset.num_users):\n",
    "        if not client_dataset[client_id][0]:\n",
    "            continue\n",
    "        c = Client(client_id)\n",
    "        c.set_client_data(client_dataset[client_id])\n",
    "        clients.append(c)\n",
    "    return clients\n",
    "\n"
   ]
  },
  {
   "cell_type": "markdown",
   "metadata": {},
   "source": [
    "### Serveur"
   ]
  },
  {
   "cell_type": "code",
   "execution_count": 23,
   "metadata": {},
   "outputs": [],
   "source": [
    "\n",
    "def plot_loss(epochs: int, loss: List[float], num_clients: int):\n",
    "    \n",
    "    plt.plot(list(range(epochs)), loss)\n",
    "    plt.xlabel('Epochs')\n",
    "    plt.ylabel('BCE Loss')\n",
    "    plt.title(f'Mean loss across {num_clients} clients per epoch')\n",
    "    plt.show()\n",
    "\n",
    "\n",
    "def sample_clients(clients: List[Client2], num_clients: int) -> Tuple[List[Client2], List[Client2]]:\n",
    "    \n",
    "    sample = clients[:num_clients]\n",
    "    # rotate the list by `num_clients`\n",
    "    clients = clients[num_clients:] + sample\n",
    "\n",
    "    return sample, clients\n",
    "\n",
    "\n",
    "def training_process(server_model: torch.nn.Module,\n",
    "                     all_clients: List[Client2],\n",
    "                     num_clients: int,\n",
    "                     epochs: int,\n",
    "                     local_epochs: int,\n",
    "                     learning_rate: float,\n",
    "                     plot: Optional[bool] = True) -> dict[str, Any]:\n",
    "    \n",
    "    random.shuffle(all_clients)\n",
    "    total_loss = list()\n",
    "    pbar = tqdm.tqdm(range(epochs))\n",
    "    for epoch in pbar:\n",
    "        # sample `num_clients` clients for training\n",
    "        clients, all_clients = sample_clients(all_clients, num_clients)\n",
    "        # apply single round of training\n",
    "        w, loss = single_train_round(server_model, clients, local_epochs, learning_rate)\n",
    "        total_loss.append(loss)\n",
    "        # aggregate weights\n",
    "\n",
    "        updated_server_weights = federated_averaging(w)\n",
    "        # set aggregated weights to server model\n",
    "        server_model.load_state_dict(updated_server_weights)\n",
    "        # display progress bar with epochs & mean loss of single training round\n",
    "        pbar.set_description(f'epoch: {epoch+1}, loss: {loss:.2f}')\n",
    "\n",
    "    if plot:\n",
    "        plot_loss(epochs, total_loss, num_clients)\n",
    "\n",
    "    return server_model.state_dict()\n",
    "\n",
    "\n",
    "def single_train_round(server_model: torch.nn.Module,\n",
    "                       clients: List[Client],\n",
    "                       local_epochs: int,\n",
    "                       learning_rate: float) -> Tuple[List[collections.OrderedDict], float]:\n",
    "    \n",
    "    client_weights = list()\n",
    "    mean_loss = 0\n",
    "    for client in clients:\n",
    "        server_model_copy = copy.deepcopy(server_model)\n",
    "        weights, loss = client.train(server_model_copy, local_epochs, learning_rate)\n",
    "        mean_loss += float(loss.cpu().detach().numpy())\n",
    "        client_weights.append(weights)\n",
    "    return client_weights, mean_loss / len(client_weights)\n",
    "\n",
    "\n",
    "def federated_averaging(client_weights: List[collections.OrderedDict]) -> collections.OrderedDict:\n",
    "    \n",
    "    keys = client_weights[0].keys()\n",
    "    averages = copy.deepcopy(client_weights[0])\n",
    "\n",
    "    for w in client_weights[1:]:\n",
    "        for key in keys:\n",
    "            averages[key] += w[key]\n",
    "\n",
    "    for key in keys:\n",
    "        averages[key] /= len(client_weights)\n",
    "    return averages\n"
   ]
  },
  {
   "cell_type": "markdown",
   "metadata": {},
   "source": [
    "## Model"
   ]
  },
  {
   "cell_type": "code",
   "execution_count": 24,
   "metadata": {},
   "outputs": [],
   "source": [
    "from torch.nn import functional as F\n",
    "from typing import Optional, Tuple\n",
    "from torch import Tensor\n",
    "import torch\n",
    "\n",
    "\n",
    "class NeuralCollaborativeFiltering(torch.nn.Module):\n",
    "\n",
    "    def __init__(self, num_users: int, num_items: int):\n",
    "        super().__init__()\n",
    "        params = MODEL_PARAMETERS['FedNCF']\n",
    "        layers = params['layers']\n",
    "        mf_dim = params['mf_dim']\n",
    "        mlp_dim = int(layers[0] / 2)\n",
    "\n",
    "        self.mf_embedding_user = torch.nn.Embedding(num_embeddings=num_users, embedding_dim=mf_dim, device=DEVICE)\n",
    "        self.mf_embedding_item = torch.nn.Embedding(num_embeddings=num_items, embedding_dim=mf_dim, device=DEVICE)\n",
    "\n",
    "        self.mlp_embedding_user = torch.nn.Embedding(num_embeddings=num_users, embedding_dim=mlp_dim, device=DEVICE)\n",
    "        self.mlp_embedding_item = torch.nn.Embedding(num_embeddings=num_items, embedding_dim=mlp_dim, device=DEVICE)\n",
    "\n",
    "        self.mlp = torch.nn.ModuleList()\n",
    "        current_dim = 64\n",
    "        for idx in range(1, len(layers)):\n",
    "            self.mlp.append(torch.nn.Linear(current_dim, layers[idx]))\n",
    "            current_dim = layers[idx]\n",
    "            self.mlp.append(torch.nn.ReLU())\n",
    "        self.output_layer = torch.nn.Linear(in_features=24, out_features=1, device=DEVICE)\n",
    "\n",
    "    def forward(self, user_input: Tensor,\n",
    "                item_input: Tensor,\n",
    "                target: Optional[Tensor] = None) -> Tuple[Tensor, Optional[float]]:\n",
    "        # matrix factorization\n",
    "        mf_user_latent = torch.nn.Flatten()(self.mf_embedding_user(user_input))\n",
    "        mf_item_latent = torch.nn.Flatten()(self.mf_embedding_item(item_input))\n",
    "        mf_vector = torch.mul(mf_user_latent, mf_item_latent)\n",
    "        # mlp\n",
    "        mlp_user_latent = torch.nn.Flatten()(self.mlp_embedding_user(user_input))\n",
    "        mlp_item_latent = torch.nn.Flatten()(self.mlp_embedding_item(item_input))\n",
    "        mlp_vector = torch.cat([mlp_user_latent, mlp_item_latent], dim=1)\n",
    "\n",
    "        for layer in self.mlp:\n",
    "            mlp_vector = layer(mlp_vector)\n",
    "\n",
    "        predict_vector = torch.cat([mf_vector, mlp_vector], dim=1)\n",
    "        logits = self.output_layer(predict_vector)\n",
    "\n",
    "        loss = None\n",
    "        if target is not None:\n",
    "            target = target.view(target.shape[0], 1).to(torch.float32)\n",
    "            loss = F.binary_cross_entropy_with_logits(logits, target)\n",
    "\n",
    "        logits = torch.nn.Sigmoid()(logits)\n",
    "\n",
    "        return logits, loss\n"
   ]
  },
  {
   "cell_type": "markdown",
   "metadata": {},
   "source": [
    "## Metrics"
   ]
  },
  {
   "cell_type": "code",
   "execution_count": 25,
   "metadata": {},
   "outputs": [],
   "source": [
    "from typing import List\n",
    "import torch.nn\n",
    "import os\n",
    "from collections import defaultdict\n",
    "from typing import Tuple, List\n",
    "import numpy as np\n",
    "import heapq\n",
    "import torch\n",
    "import math\n",
    "from sklearn.metrics import average_precision_score\n",
    "\n",
    "def dcg_at_k(scores, k):\n",
    "    \"\"\"Compute DCG at rank k.\"\"\"\n",
    "    scores = scores[:k]  # Consider only top-k scores\n",
    "    return np.sum((np.power(2, scores) - 1) / np.log2(np.arange(2, k + 2)), dtype=np.float32)\n",
    "\n",
    "def ndcg_at_k(true_scores, pred_scores, k):\n",
    "    \"\"\"Compute NDCG at rank k.\"\"\"\n",
    "    order = np.argsort(pred_scores)[::-1]\n",
    "    \n",
    "    # Ensure true_scores and pred_scores are numpy arrays\n",
    "    true_scores = np.array(true_scores)\n",
    "    pred_scores = np.array(pred_scores)\n",
    "\n",
    "    true_scores_sorted = true_scores[order[:k]]\n",
    "\n",
    "    # Compute DCG for the sorted true scores\n",
    "    idcg = dcg_at_k(true_scores_sorted, k)\n",
    "    if not idcg:\n",
    "        return 0.0\n",
    "\n",
    "    # Compute DCG for the predicted scores\n",
    "    dcg = dcg_at_k(pred_scores[order[:k]], k)\n",
    "    return dcg / idcg\n",
    "\n",
    "\n",
    "\n",
    "def compute_metrics(model: torch.nn.Module, dataset: Dataset, k: int):\n",
    "    model.eval()\n",
    "    AP_scores = []\n",
    "    NDCG_scores = []\n",
    "    precision_scores = []\n",
    "    recall_scores = []\n",
    "\n",
    "    # Load test data and negative samples\n",
    "    test_data = dataset.load_test_file()\n",
    "    negative_samples = dataset.load_negative_file()\n",
    "\n",
    "    with torch.no_grad():\n",
    "        for test_instance, negatives in zip(test_data, negative_samples):\n",
    "            try:\n",
    "                user_id = test_instance[0]\n",
    "                item_id = test_instance[1]\n",
    "                \n",
    "                # Combine positive and negative items for this user\n",
    "                all_items = [item_id] + negatives\n",
    "\n",
    "                # Create tensors for all items and the user\n",
    "                item_input_dev = torch.tensor(all_items, dtype=torch.int, device=DEVICE)\n",
    "                user_input = torch.tensor(np.full(len(item_input_dev), user_id, dtype='int32'), dtype=torch.int, device=DEVICE)\n",
    "\n",
    "                pred, _ = model(user_input, item_input_dev)\n",
    "                predictions = pred.squeeze()\n",
    "\n",
    "                # Check if predictions is a 1-dimensional array\n",
    "                if predictions.ndim == 0:\n",
    "                    predictions = np.array([predictions.cpu().numpy()])\n",
    "                else:\n",
    "                    predictions = predictions.cpu().numpy()\n",
    "\n",
    "                # Actual labels: 1 for the test item, 0 for negatives\n",
    "                actuals = [1] + [0] * len(negatives)\n",
    "                \n",
    "                # Rank items and select top-k\n",
    "                topk_indices = np.argsort(predictions)[::-1][:k]\n",
    "                topk_preds = predictions[topk_indices]\n",
    "                topk_actuals = [actuals[i] for i in topk_indices]\n",
    "                \n",
    "                # Calculate metrics\n",
    "                AP_scores.append(average_precision_score(topk_actuals, topk_preds))\n",
    "                NDCG_scores.append(ndcg_at_k(topk_actuals, topk_preds, k=k))\n",
    "                precision_scores.append(np.mean(topk_actuals))\n",
    "                recall = np.sum(topk_actuals) / np.sum(actuals) if np.sum(actuals) > 0 else 0.0\n",
    "                recall_scores.append(recall)\n",
    "            \n",
    "        \n",
    "            except IndexError as e:\n",
    "                print(\"User not in train\")\n",
    "                # Handle the error or pass\n",
    "                pass\n",
    "\n",
    "    return {\n",
    "        \"MAP\": np.mean(AP_scores),\n",
    "        \"NDCG@10\": np.mean(NDCG_scores),\n",
    "        \"Precision@10\": np.mean(precision_scores),\n",
    "        \"Recall@10\": np.mean(recall_scores)\n",
    "    }\n",
    "\n",
    "\n",
    "def run_server(dataset: Dataset,\n",
    "               num_clients: int,\n",
    "               epochs: int,\n",
    "               local_epochs: int,\n",
    "               learning_rate: float) -> torch.nn.Module:\n",
    "    \n",
    "    # define server side model\n",
    "    server_model = NeuralCollaborativeFiltering(dataset.num_users, dataset.num_items)\n",
    "    server_model.to(DEVICE)\n",
    "\n",
    "    clients = initialize_clients(dataset)\n",
    "    \n",
    "    trained_weights = training_process(server_model, clients, num_clients, epochs, local_epochs, learning_rate)\n",
    "\n",
    "    server_model.load_state_dict(trained_weights)\n",
    "\n",
    "    \n",
    "\n",
    "    # Call the updated compute_metrics function\n",
    "    metrics = compute_metrics(server_model, dataset, 10)\n",
    "    return server_model\n"
   ]
  },
  {
   "cell_type": "markdown",
   "metadata": {},
   "source": [
    "### Main"
   ]
  },
  {
   "cell_type": "code",
   "execution_count": 27,
   "metadata": {},
   "outputs": [
    {
     "name": "stdout",
     "output_type": "stream",
     "text": [
      "Loaded `yelp` dataset: \n",
      "Number of users - 200, Number of items - 4157\n"
     ]
    },
    {
     "name": "stderr",
     "output_type": "stream",
     "text": [
      "epoch: 10, loss: 0.08: 100%|██████████| 10/10 [01:31<00:00,  9.13s/it]\n"
     ]
    },
    {
     "data": {
      "image/png": "[encoded data removed]",
      "text/plain": [
       "<Figure size 640x480 with 1 Axes>"
      ]
     },
     "metadata": {},
     "output_type": "display_data"
    }
   ],
   "source": [
    "import tqdm\n",
    "def main():\n",
    "\n",
    "    # instantiate the dataset based on passed argument\n",
    "    dataset = Dataset(\"yelp\")\n",
    "    # run the server to load the existing model or train & save a new one\n",
    "    model = run_server(\n",
    "        dataset=dataset,\n",
    "        num_clients=200,\n",
    "        epochs=10,\n",
    "        local_epochs=3,\n",
    "        learning_rate=0.001\n",
    "    )\n",
    "    \n",
    "main()"
   ]
  },
  {
   "cell_type": "markdown",
   "metadata": {},
   "source": [
    "## fask API Experiment"
   ]
  },
  {
   "cell_type": "markdown",
   "metadata": {},
   "source": [
    "Now let's adapt the fonctions to transforme fedNeuMF to its API equivalent"
   ]
  },
  {
   "cell_type": "code",
   "execution_count": null,
   "metadata": {},
   "outputs": [],
   "source": [
    "import requests\n",
    "import pickle\n",
    "\n",
    "def get_updated_weights_from_server(url, model):\n",
    "    \"\"\"\n",
    "    Fetches updated model weights from the server and loads them into the provided model.\n",
    "\n",
    "    :param url: URL of the server endpoint to get updated weights.\n",
    "    :param model: The PyTorch model to update.\n",
    "    \"\"\"\n",
    "    try:\n",
    "        response = requests.get(url)\n",
    "        if response.status_code == 200:\n",
    "            # Assuming the server sends a file, we save it temporarily\n",
    "            with open(\"temp_model_weights.pth\", \"wb\") as file:\n",
    "                file.write(response.content)\n",
    "\n",
    "            # Load the downloaded weights into the model\n",
    "            model.load_state_dict(torch.load(\"temp_model_weights.pth\"))\n",
    "            print(\"Model weights updated successfully.\")\n",
    "\n",
    "            # Optionally, delete the temporary file after updating the model\n",
    "            import os\n",
    "            os.remove(\"temp_model_weights.pth\")\n",
    "        else:\n",
    "            print(f\"Failed to download weights. Status code: {response.status_code}\")\n",
    "    except Exception as e:\n",
    "        print(f\"An error occurred: {e}\")\n",
    "\n"
   ]
  },
  {
   "cell_type": "code",
   "execution_count": null,
   "metadata": {},
   "outputs": [],
   "source": [
    "def send_weights_to_server(url, model_weights):\n",
    "    \"\"\"\n",
    "    Send model weights to the server.\n",
    "\n",
    "    :param url: URL of the server endpoint expecting the model weights.\n",
    "    :param model_weights: Weights of the model to be sent.\n",
    "    \"\"\"\n",
    "    # Serialize the model weights. You might use pickle or another method depending on your requirements.\n",
    "    serialized_weights = pickle.dumps(model_weights)\n",
    "\n",
    "    # Send the POST request with the serialized weights\n",
    "    response = requests.post(url, files={'file': ('weights.pkl', serialized_weights, 'application/octet-stream')})\n",
    "\n",
    "    # Check if the request was successful\n",
    "    if response.status_code == 200:\n",
    "        print(\"Weights successfully sent to the server.\")\n",
    "        return None\n",
    "    else:\n",
    "        print(f\"Failed to send weights. Status code: {response.status_code}\")\n",
    "        return None\n"
   ]
  },
  {
   "cell_type": "code",
   "execution_count": null,
   "metadata": {},
   "outputs": [],
   "source": [
    "from typing import List, Any, Tuple, Optional\n",
    "import matplotlib.pyplot as plt\n",
    "import pickle\n",
    "import collections\n",
    "import random\n",
    "import torch\n",
    "import copy\n",
    "import tqdm\n",
    "\n",
    "def training_process(server_model: torch.nn.Module,\n",
    "                     all_clients: List[Client2],\n",
    "                     num_clients: int,\n",
    "                     epochs: int,\n",
    "                     local_epochs: int,\n",
    "                     learning_rate: float,\n",
    "                     plot: Optional[bool] = True) -> dict[str, Any]:\n",
    "    \n",
    "\n",
    "    random.shuffle(all_clients)\n",
    "    total_loss = list()\n",
    "    pbar = tqdm.tqdm(range(epochs))\n",
    "    for epoch in pbar:\n",
    "        # sample `num_clients` clients for training\n",
    "        clients, all_clients = sample_clients(all_clients, num_clients)\n",
    "        # apply single round of training\n",
    "        loss = single_train_round(server_model, clients, local_epochs, learning_rate)\n",
    "        total_loss.append(loss)\n",
    "        get_updated_weights_from_server(\"http://127.0.0.1:8080/get_weights\",server_model)\n",
    "        \n",
    "        # display progress bar with epochs & mean loss of single training round\n",
    "        pbar.set_description(f'epoch: {epoch+1}, loss: {loss:.2f}')\n",
    "\n",
    "    if plot:\n",
    "        plot_loss(epochs, total_loss, num_clients)\n",
    "\n",
    "    with open('loss.pkl', 'wb') as f:\n",
    "        pickle.dump(total_loss, f)\n",
    "\n",
    "    return server_model.state_dict()\n",
    "\n",
    "\n",
    "def single_train_round(server_model: torch.nn.Module,\n",
    "                       clients: List[Client],\n",
    "                       local_epochs: int,\n",
    "                       learning_rate: float) -> Tuple[List[collections.OrderedDict], float]:\n",
    "    \n",
    "    mean_loss = 0\n",
    "    for client in clients:\n",
    "        server_model_copy = copy.deepcopy(server_model)\n",
    "        # Calculate the size of the model weights before training\n",
    "        #model_size_before = sum(param.numel() * param.element_size() for param in server_model_copy.parameters())\n",
    "        #model_size_before_mb = model_size_before / (1024 ** 2)\n",
    "\n",
    "        weights, loss = client.train(server_model_copy, local_epochs, learning_rate)\n",
    "\n",
    "        # Calculate the size of the model weights after training\n",
    "        #model_size_after = sum(param.numel() * param.element_size() for param in server_model_copy.parameters())\n",
    "        #model_size_after_mb = model_size_after / (1024 ** 2)\n",
    "\n",
    "        #print(f\"Size of model weights before training: {model_size_before_mb:.2f} MB\")\n",
    "        #print(f\"Size of model weights after training: {model_size_after_mb:.2f} MB\")\n",
    "        # Calculate the size of the model in bytes\n",
    "        #model_size_bytes = sum(param.numel() * param.element_size() for param in server_model.parameters())\n",
    "\n",
    "        # Convert the size to megabytes\n",
    "        #model_size_mb = model_size_bytes / (1024 ** 2)\n",
    "\n",
    "        #print(f\"Model size: {model_size_mb:.2f} MB\")\n",
    "\n",
    "        weights, loss = client.train(server_model_copy, local_epochs, learning_rate)\n",
    "        mean_loss += float(loss.cpu().detach().numpy())\n",
    "        send_weights_to_server(\"http://127.0.0.1:8080/train\",weights)\n",
    "    return  mean_loss / len(clients)\n",
    "\n",
    "\n",
    "\n",
    "def federated_averaging(client_weights: List[collections.OrderedDict]) -> collections.OrderedDict:\n",
    "    \"\"\"\n",
    "    calculates the average of client weights\n",
    "    \"\"\"\n",
    "    keys = client_weights[0].keys()\n",
    "    averages = copy.deepcopy(client_weights[0])\n",
    "\n",
    "    for w in client_weights[1:]:\n",
    "        for key in keys:\n",
    "            averages[key] += w[key]\n",
    "\n",
    "    for key in keys:\n",
    "        averages[key] /= len(client_weights)\n",
    "    return averages\n"
   ]
  },
  {
   "cell_type": "markdown",
   "metadata": {},
   "source": [
    "See Final_project_server.ipynb to lunch the simulation"
   ]
  },
  {
   "cell_type": "code",
   "execution_count": null,
   "metadata": {},
   "outputs": [
    {
     "name": "stdout",
     "output_type": "stream",
     "text": [
      "Loaded `yelp` dataset: \n",
      "Number of users - 200, Number of items - 3082\n"
     ]
    },
    {
     "name": "stderr",
     "output_type": "stream",
     "text": [
      "  0%|          | 0/10 [00:00<?, ?it/s]"
     ]
    },
    {
     "name": "stdout",
     "output_type": "stream",
     "text": [
      "Model size: 0.61 MB\n",
      "Weights successfully sent to the server.\n",
      "Model size: 0.61 MB\n",
      "Weights successfully sent to the server.\n",
      "Model size: 0.61 MB\n",
      "Weights successfully sent to the server.\n",
      "Model size: 0.61 MB\n",
      "Weights successfully sent to the server.\n",
      "Model size: 0.61 MB\n",
      "Weights successfully sent to the server.\n",
      "Model size: 0.61 MB\n",
      "Weights successfully sent to the server.\n",
      "Model size: 0.61 MB\n",
      "Weights successfully sent to the server.\n",
      "Model size: 0.61 MB\n",
      "Weights successfully sent to the server.\n",
      "Model size: 0.61 MB\n",
      "Weights successfully sent to the server.\n",
      "Model size: 0.61 MB\n",
      "Weights successfully sent to the server.\n",
      "Model size: 0.61 MB\n",
      "Weights successfully sent to the server.\n",
      "Model size: 0.61 MB\n",
      "Weights successfully sent to the server.\n",
      "Model size: 0.61 MB\n",
      "Weights successfully sent to the server.\n",
      "Model size: 0.61 MB\n",
      "Weights successfully sent to the server.\n",
      "Model size: 0.61 MB\n",
      "Weights successfully sent to the server.\n",
      "Model size: 0.61 MB\n",
      "Weights successfully sent to the server.\n",
      "Model size: 0.61 MB\n",
      "Weights successfully sent to the server.\n",
      "Model size: 0.61 MB\n",
      "Weights successfully sent to the server.\n",
      "Model size: 0.61 MB\n",
      "Weights successfully sent to the server.\n",
      "Model size: 0.61 MB\n",
      "Weights successfully sent to the server.\n",
      "Model size: 0.61 MB\n",
      "Weights successfully sent to the server.\n",
      "Model size: 0.61 MB\n",
      "Weights successfully sent to the server.\n",
      "Model size: 0.61 MB\n",
      "Weights successfully sent to the server.\n",
      "Model size: 0.61 MB\n",
      "Weights successfully sent to the server.\n",
      "Model size: 0.61 MB\n",
      "Weights successfully sent to the server.\n",
      "Model size: 0.61 MB\n",
      "Weights successfully sent to the server.\n",
      "Model size: 0.61 MB\n",
      "Weights successfully sent to the server.\n",
      "Model size: 0.61 MB\n",
      "Weights successfully sent to the server.\n",
      "Model size: 0.61 MB\n",
      "Weights successfully sent to the server.\n",
      "Model size: 0.61 MB\n",
      "Weights successfully sent to the server.\n",
      "Model size: 0.61 MB\n",
      "Weights successfully sent to the server.\n",
      "Model size: 0.61 MB\n",
      "Weights successfully sent to the server.\n",
      "Model size: 0.61 MB\n",
      "Weights successfully sent to the server.\n",
      "Model size: 0.61 MB\n",
      "Weights successfully sent to the server.\n",
      "Model size: 0.61 MB\n",
      "Weights successfully sent to the server.\n",
      "Model size: 0.61 MB\n",
      "Weights successfully sent to the server.\n",
      "Model size: 0.61 MB\n",
      "Weights successfully sent to the server.\n",
      "Model size: 0.61 MB\n",
      "Weights successfully sent to the server.\n",
      "Model size: 0.61 MB\n",
      "Weights successfully sent to the server.\n",
      "Model size: 0.61 MB\n",
      "Weights successfully sent to the server.\n",
      "Model size: 0.61 MB\n",
      "Weights successfully sent to the server.\n",
      "Model size: 0.61 MB\n",
      "Weights successfully sent to the server.\n",
      "Model size: 0.61 MB\n",
      "Weights successfully sent to the server.\n",
      "Model size: 0.61 MB\n",
      "Weights successfully sent to the server.\n",
      "Model size: 0.61 MB\n",
      "Weights successfully sent to the server.\n",
      "Model size: 0.61 MB\n"
     ]
    },
    {
     "name": "stderr",
     "output_type": "stream",
     "text": [
      "epoch: 1, loss: 0.56:  10%|█         | 1/10 [00:03<00:33,  3.70s/it]"
     ]
    },
    {
     "name": "stdout",
     "output_type": "stream",
     "text": [
      "Weights successfully sent to the server.\n",
      "Model size: 0.61 MB\n",
      "Weights successfully sent to the server.\n",
      "Model size: 0.61 MB\n",
      "Weights successfully sent to the server.\n",
      "Model size: 0.61 MB\n",
      "Weights successfully sent to the server.\n",
      "Model size: 0.61 MB\n",
      "Weights successfully sent to the server.\n",
      "Model weights updated successfully.\n",
      "Model size: 0.61 MB\n",
      "Weights successfully sent to the server.\n",
      "Model size: 0.61 MB\n",
      "Weights successfully sent to the server.\n",
      "Model size: 0.61 MB\n",
      "Weights successfully sent to the server.\n",
      "Model size: 0.61 MB\n",
      "Weights successfully sent to the server.\n",
      "Model size: 0.61 MB\n",
      "Weights successfully sent to the server.\n",
      "Model size: 0.61 MB\n",
      "Weights successfully sent to the server.\n",
      "Model size: 0.61 MB\n",
      "Weights successfully sent to the server.\n",
      "Model size: 0.61 MB\n",
      "Weights successfully sent to the server.\n",
      "Model size: 0.61 MB\n",
      "Weights successfully sent to the server.\n",
      "Model size: 0.61 MB\n",
      "Weights successfully sent to the server.\n",
      "Model size: 0.61 MB\n",
      "Weights successfully sent to the server.\n",
      "Model size: 0.61 MB\n",
      "Weights successfully sent to the server.\n",
      "Model size: 0.61 MB\n",
      "Weights successfully sent to the server.\n",
      "Model size: 0.61 MB\n",
      "Weights successfully sent to the server.\n",
      "Model size: 0.61 MB\n",
      "Weights successfully sent to the server.\n",
      "Model size: 0.61 MB\n",
      "Weights successfully sent to the server.\n",
      "Model size: 0.61 MB\n",
      "Weights successfully sent to the server.\n",
      "Model size: 0.61 MB\n",
      "Weights successfully sent to the server.\n",
      "Model size: 0.61 MB\n",
      "Weights successfully sent to the server.\n",
      "Model size: 0.61 MB\n",
      "Weights successfully sent to the server.\n",
      "Model size: 0.61 MB\n",
      "Weights successfully sent to the server.\n",
      "Model size: 0.61 MB\n",
      "Weights successfully sent to the server.\n",
      "Model size: 0.61 MB\n",
      "Weights successfully sent to the server.\n",
      "Model size: 0.61 MB\n",
      "Weights successfully sent to the server.\n",
      "Model size: 0.61 MB\n",
      "Weights successfully sent to the server.\n",
      "Model size: 0.61 MB\n",
      "Weights successfully sent to the server.\n",
      "Model size: 0.61 MB\n",
      "Weights successfully sent to the server.\n",
      "Model size: 0.61 MB\n",
      "Weights successfully sent to the server.\n",
      "Model size: 0.61 MB\n",
      "Weights successfully sent to the server.\n",
      "Model size: 0.61 MB\n",
      "Weights successfully sent to the server.\n",
      "Model size: 0.61 MB\n",
      "Weights successfully sent to the server.\n",
      "Model size: 0.61 MB\n",
      "Weights successfully sent to the server.\n",
      "Model size: 0.61 MB\n",
      "Weights successfully sent to the server.\n",
      "Model size: 0.61 MB\n",
      "Weights successfully sent to the server.\n",
      "Model size: 0.61 MB\n",
      "Weights successfully sent to the server.\n",
      "Model size: 0.61 MB\n",
      "Weights successfully sent to the server.\n",
      "Model size: 0.61 MB\n",
      "Weights successfully sent to the server.\n",
      "Model size: 0.61 MB\n",
      "Weights successfully sent to the server.\n",
      "Model size: 0.61 MB\n",
      "Weights successfully sent to the server.\n",
      "Model size: 0.61 MB\n",
      "Weights successfully sent to the server.\n",
      "Model size: 0.61 MB\n",
      "Weights successfully sent to the server.\n",
      "Model size: 0.61 MB\n",
      "Weights successfully sent to the server.\n",
      "Model size: 0.61 MB\n",
      "Weights successfully sent to the server.\n",
      "Model size: 0.61 MB\n",
      "Weights successfully sent to the server.\n",
      "Model size: 0.61 MB\n",
      "Weights successfully sent to the server.\n",
      "Model size: 0.61 MB\n",
      "Weights successfully sent to the server.\n",
      "Model size: 0.61 MB\n",
      "Weights successfully sent to the server.\n",
      "Model size: 0.61 MB\n",
      "Weights successfully sent to the server.\n",
      "Model size: 0.61 MB\n"
     ]
    },
    {
     "name": "stderr",
     "output_type": "stream",
     "text": [
      "epoch: 2, loss: 0.38:  20%|██        | 2/10 [00:07<00:28,  3.58s/it]"
     ]
    },
    {
     "name": "stdout",
     "output_type": "stream",
     "text": [
      "Weights successfully sent to the server.\n",
      "Model size: 0.61 MB\n",
      "Weights successfully sent to the server.\n",
      "Model weights updated successfully.\n",
      "Model size: 0.61 MB\n",
      "Weights successfully sent to the server.\n",
      "Model size: 0.61 MB\n",
      "Weights successfully sent to the server.\n",
      "Model size: 0.61 MB\n",
      "Weights successfully sent to the server.\n",
      "Model size: 0.61 MB\n",
      "Weights successfully sent to the server.\n",
      "Model size: 0.61 MB\n",
      "Weights successfully sent to the server.\n",
      "Model size: 0.61 MB\n",
      "Weights successfully sent to the server.\n",
      "Model size: 0.61 MB\n",
      "Weights successfully sent to the server.\n",
      "Model size: 0.61 MB\n",
      "Weights successfully sent to the server.\n",
      "Model size: 0.61 MB\n",
      "Weights successfully sent to the server.\n",
      "Model size: 0.61 MB\n",
      "Weights successfully sent to the server.\n",
      "Model size: 0.61 MB\n",
      "Weights successfully sent to the server.\n",
      "Model size: 0.61 MB\n",
      "Weights successfully sent to the server.\n",
      "Model size: 0.61 MB\n",
      "Weights successfully sent to the server.\n",
      "Model size: 0.61 MB\n",
      "Weights successfully sent to the server.\n",
      "Model size: 0.61 MB\n",
      "Weights successfully sent to the server.\n",
      "Model size: 0.61 MB\n",
      "Weights successfully sent to the server.\n",
      "Model size: 0.61 MB\n",
      "Weights successfully sent to the server.\n",
      "Model size: 0.61 MB\n",
      "Weights successfully sent to the server.\n",
      "Model size: 0.61 MB\n",
      "Weights successfully sent to the server.\n",
      "Model size: 0.61 MB\n",
      "Weights successfully sent to the server.\n",
      "Model size: 0.61 MB\n",
      "Weights successfully sent to the server.\n",
      "Model size: 0.61 MB\n",
      "Weights successfully sent to the server.\n",
      "Model size: 0.61 MB\n",
      "Weights successfully sent to the server.\n",
      "Model size: 0.61 MB\n",
      "Weights successfully sent to the server.\n",
      "Model size: 0.61 MB\n",
      "Weights successfully sent to the server.\n",
      "Model size: 0.61 MB\n",
      "Weights successfully sent to the server.\n",
      "Model size: 0.61 MB\n",
      "Weights successfully sent to the server.\n",
      "Model size: 0.61 MB\n",
      "Weights successfully sent to the server.\n",
      "Model size: 0.61 MB\n",
      "Weights successfully sent to the server.\n",
      "Model size: 0.61 MB\n",
      "Weights successfully sent to the server.\n",
      "Model size: 0.61 MB\n",
      "Weights successfully sent to the server.\n",
      "Model size: 0.61 MB\n",
      "Weights successfully sent to the server.\n",
      "Model size: 0.61 MB\n",
      "Weights successfully sent to the server.\n",
      "Model size: 0.61 MB\n",
      "Weights successfully sent to the server.\n",
      "Model size: 0.61 MB\n",
      "Weights successfully sent to the server.\n",
      "Model size: 0.61 MB\n",
      "Weights successfully sent to the server.\n",
      "Model size: 0.61 MB\n",
      "Weights successfully sent to the server.\n",
      "Model size: 0.61 MB\n",
      "Weights successfully sent to the server.\n",
      "Model size: 0.61 MB\n",
      "Weights successfully sent to the server.\n",
      "Model size: 0.61 MB\n",
      "Weights successfully sent to the server.\n",
      "Model size: 0.61 MB\n",
      "Weights successfully sent to the server.\n",
      "Model size: 0.61 MB\n",
      "Weights successfully sent to the server.\n",
      "Model size: 0.61 MB\n",
      "Weights successfully sent to the server.\n",
      "Model size: 0.61 MB\n",
      "Weights successfully sent to the server.\n",
      "Model size: 0.61 MB\n",
      "Weights successfully sent to the server.\n",
      "Model size: 0.61 MB\n",
      "Weights successfully sent to the server.\n",
      "Model size: 0.61 MB\n",
      "Weights successfully sent to the server.\n",
      "Model size: 0.61 MB\n",
      "Weights successfully sent to the server.\n",
      "Model size: 0.61 MB\n"
     ]
    },
    {
     "name": "stderr",
     "output_type": "stream",
     "text": [
      "epoch: 3, loss: 0.42:  30%|███       | 3/10 [00:10<00:23,  3.38s/it]"
     ]
    },
    {
     "name": "stdout",
     "output_type": "stream",
     "text": [
      "Weights successfully sent to the server.\n",
      "Model size: 0.61 MB\n",
      "Weights successfully sent to the server.\n",
      "Model weights updated successfully.\n",
      "Model size: 0.61 MB\n",
      "Weights successfully sent to the server.\n",
      "Model size: 0.61 MB\n",
      "Weights successfully sent to the server.\n",
      "Model size: 0.61 MB\n",
      "Weights successfully sent to the server.\n",
      "Model size: 0.61 MB\n",
      "Weights successfully sent to the server.\n",
      "Model size: 0.61 MB\n",
      "Weights successfully sent to the server.\n",
      "Model size: 0.61 MB\n",
      "Weights successfully sent to the server.\n",
      "Model size: 0.61 MB\n",
      "Weights successfully sent to the server.\n",
      "Model size: 0.61 MB\n",
      "Weights successfully sent to the server.\n",
      "Model size: 0.61 MB\n",
      "Weights successfully sent to the server.\n",
      "Model size: 0.61 MB\n",
      "Weights successfully sent to the server.\n",
      "Model size: 0.61 MB\n",
      "Weights successfully sent to the server.\n",
      "Model size: 0.61 MB\n",
      "Weights successfully sent to the server.\n",
      "Model size: 0.61 MB\n",
      "Weights successfully sent to the server.\n",
      "Model size: 0.61 MB\n",
      "Weights successfully sent to the server.\n",
      "Model size: 0.61 MB\n",
      "Weights successfully sent to the server.\n",
      "Model size: 0.61 MB\n",
      "Weights successfully sent to the server.\n",
      "Model size: 0.61 MB\n",
      "Weights successfully sent to the server.\n",
      "Model size: 0.61 MB\n",
      "Weights successfully sent to the server.\n",
      "Model size: 0.61 MB\n",
      "Weights successfully sent to the server.\n",
      "Model size: 0.61 MB\n",
      "Weights successfully sent to the server.\n",
      "Model size: 0.61 MB\n",
      "Weights successfully sent to the server.\n",
      "Model size: 0.61 MB\n",
      "Weights successfully sent to the server.\n",
      "Model size: 0.61 MB\n",
      "Weights successfully sent to the server.\n",
      "Model size: 0.61 MB\n",
      "Weights successfully sent to the server.\n",
      "Model size: 0.61 MB\n",
      "Weights successfully sent to the server.\n",
      "Model size: 0.61 MB\n",
      "Weights successfully sent to the server.\n",
      "Model size: 0.61 MB\n",
      "Weights successfully sent to the server.\n",
      "Model size: 0.61 MB\n",
      "Weights successfully sent to the server.\n",
      "Model size: 0.61 MB\n",
      "Weights successfully sent to the server.\n",
      "Model size: 0.61 MB\n",
      "Weights successfully sent to the server.\n",
      "Model size: 0.61 MB\n",
      "Weights successfully sent to the server.\n",
      "Model size: 0.61 MB\n",
      "Weights successfully sent to the server.\n",
      "Model size: 0.61 MB\n",
      "Weights successfully sent to the server.\n",
      "Model size: 0.61 MB\n",
      "Weights successfully sent to the server.\n",
      "Model size: 0.61 MB\n",
      "Weights successfully sent to the server.\n",
      "Model size: 0.61 MB\n",
      "Weights successfully sent to the server.\n",
      "Model size: 0.61 MB\n",
      "Weights successfully sent to the server.\n",
      "Model size: 0.61 MB\n",
      "Weights successfully sent to the server.\n",
      "Model size: 0.61 MB\n",
      "Weights successfully sent to the server.\n",
      "Model size: 0.61 MB\n",
      "Weights successfully sent to the server.\n",
      "Model size: 0.61 MB\n",
      "Weights successfully sent to the server.\n",
      "Model size: 0.61 MB\n",
      "Weights successfully sent to the server.\n",
      "Model size: 0.61 MB\n",
      "Weights successfully sent to the server.\n",
      "Model size: 0.61 MB\n",
      "Weights successfully sent to the server.\n",
      "Model size: 0.61 MB\n",
      "Weights successfully sent to the server.\n",
      "Model size: 0.61 MB\n",
      "Weights successfully sent to the server.\n",
      "Model size: 0.61 MB\n",
      "Weights successfully sent to the server.\n",
      "Model size: 0.61 MB\n",
      "Weights successfully sent to the server.\n",
      "Model size: 0.61 MB\n"
     ]
    },
    {
     "name": "stderr",
     "output_type": "stream",
     "text": [
      "epoch: 4, loss: 0.34:  40%|████      | 4/10 [00:15<00:24,  4.01s/it]"
     ]
    },
    {
     "name": "stdout",
     "output_type": "stream",
     "text": [
      "Weights successfully sent to the server.\n",
      "Model size: 0.61 MB\n",
      "Weights successfully sent to the server.\n",
      "Model weights updated successfully.\n",
      "Model size: 0.61 MB\n",
      "Weights successfully sent to the server.\n",
      "Model size: 0.61 MB\n",
      "Weights successfully sent to the server.\n",
      "Model size: 0.61 MB\n",
      "Weights successfully sent to the server.\n",
      "Model size: 0.61 MB\n",
      "Weights successfully sent to the server.\n",
      "Model size: 0.61 MB\n",
      "Weights successfully sent to the server.\n",
      "Model size: 0.61 MB\n",
      "Weights successfully sent to the server.\n",
      "Model size: 0.61 MB\n",
      "Weights successfully sent to the server.\n",
      "Model size: 0.61 MB\n",
      "Weights successfully sent to the server.\n",
      "Model size: 0.61 MB\n",
      "Weights successfully sent to the server.\n",
      "Model size: 0.61 MB\n",
      "Weights successfully sent to the server.\n",
      "Model size: 0.61 MB\n",
      "Weights successfully sent to the server.\n",
      "Model size: 0.61 MB\n",
      "Weights successfully sent to the server.\n",
      "Model size: 0.61 MB\n",
      "Weights successfully sent to the server.\n",
      "Model size: 0.61 MB\n",
      "Weights successfully sent to the server.\n",
      "Model size: 0.61 MB\n",
      "Weights successfully sent to the server.\n",
      "Model size: 0.61 MB\n",
      "Weights successfully sent to the server.\n",
      "Model size: 0.61 MB\n",
      "Weights successfully sent to the server.\n",
      "Model size: 0.61 MB\n",
      "Weights successfully sent to the server.\n",
      "Model size: 0.61 MB\n",
      "Weights successfully sent to the server.\n",
      "Model size: 0.61 MB\n",
      "Weights successfully sent to the server.\n",
      "Model size: 0.61 MB\n",
      "Weights successfully sent to the server.\n",
      "Model size: 0.61 MB\n",
      "Weights successfully sent to the server.\n",
      "Model size: 0.61 MB\n",
      "Weights successfully sent to the server.\n",
      "Model size: 0.61 MB\n",
      "Weights successfully sent to the server.\n",
      "Model size: 0.61 MB\n",
      "Weights successfully sent to the server.\n",
      "Model size: 0.61 MB\n",
      "Weights successfully sent to the server.\n",
      "Model size: 0.61 MB\n",
      "Weights successfully sent to the server.\n",
      "Model size: 0.61 MB\n",
      "Weights successfully sent to the server.\n",
      "Model size: 0.61 MB\n",
      "Weights successfully sent to the server.\n",
      "Model size: 0.61 MB\n",
      "Weights successfully sent to the server.\n",
      "Model size: 0.61 MB\n",
      "Weights successfully sent to the server.\n",
      "Model size: 0.61 MB\n",
      "Weights successfully sent to the server.\n",
      "Model size: 0.61 MB\n",
      "Weights successfully sent to the server.\n",
      "Model size: 0.61 MB\n",
      "Weights successfully sent to the server.\n",
      "Model size: 0.61 MB\n",
      "Weights successfully sent to the server.\n",
      "Model size: 0.61 MB\n",
      "Weights successfully sent to the server.\n",
      "Model size: 0.61 MB\n",
      "Weights successfully sent to the server.\n",
      "Model size: 0.61 MB\n",
      "Weights successfully sent to the server.\n",
      "Model size: 0.61 MB\n",
      "Weights successfully sent to the server.\n",
      "Model size: 0.61 MB\n",
      "Weights successfully sent to the server.\n",
      "Model size: 0.61 MB\n",
      "Weights successfully sent to the server.\n",
      "Model size: 0.61 MB\n",
      "Weights successfully sent to the server.\n",
      "Model size: 0.61 MB\n",
      "Weights successfully sent to the server.\n",
      "Model size: 0.61 MB\n",
      "Weights successfully sent to the server.\n",
      "Model size: 0.61 MB\n",
      "Weights successfully sent to the server.\n",
      "Model size: 0.61 MB\n",
      "Weights successfully sent to the server.\n",
      "Model size: 0.61 MB\n",
      "Weights successfully sent to the server.\n",
      "Model size: 0.61 MB\n",
      "Weights successfully sent to the server.\n",
      "Model size: 0.61 MB\n"
     ]
    },
    {
     "name": "stderr",
     "output_type": "stream",
     "text": [
      "epoch: 5, loss: 0.35:  50%|█████     | 5/10 [00:18<00:19,  3.85s/it]"
     ]
    },
    {
     "name": "stdout",
     "output_type": "stream",
     "text": [
      "Weights successfully sent to the server.\n",
      "Model size: 0.61 MB\n",
      "Weights successfully sent to the server.\n",
      "Model weights updated successfully.\n",
      "Model size: 0.61 MB\n",
      "Weights successfully sent to the server.\n",
      "Model size: 0.61 MB\n",
      "Weights successfully sent to the server.\n",
      "Model size: 0.61 MB\n",
      "Weights successfully sent to the server.\n",
      "Model size: 0.61 MB\n",
      "Weights successfully sent to the server.\n",
      "Model size: 0.61 MB\n",
      "Weights successfully sent to the server.\n",
      "Model size: 0.61 MB\n",
      "Weights successfully sent to the server.\n",
      "Model size: 0.61 MB\n",
      "Weights successfully sent to the server.\n",
      "Model size: 0.61 MB\n",
      "Weights successfully sent to the server.\n",
      "Model size: 0.61 MB\n",
      "Weights successfully sent to the server.\n",
      "Model size: 0.61 MB\n",
      "Weights successfully sent to the server.\n",
      "Model size: 0.61 MB\n",
      "Weights successfully sent to the server.\n",
      "Model size: 0.61 MB\n",
      "Weights successfully sent to the server.\n",
      "Model size: 0.61 MB\n",
      "Weights successfully sent to the server.\n",
      "Model size: 0.61 MB\n",
      "Weights successfully sent to the server.\n",
      "Model size: 0.61 MB\n",
      "Weights successfully sent to the server.\n",
      "Model size: 0.61 MB\n",
      "Weights successfully sent to the server.\n",
      "Model size: 0.61 MB\n",
      "Weights successfully sent to the server.\n",
      "Model size: 0.61 MB\n",
      "Weights successfully sent to the server.\n",
      "Model size: 0.61 MB\n",
      "Weights successfully sent to the server.\n",
      "Model size: 0.61 MB\n",
      "Weights successfully sent to the server.\n",
      "Model size: 0.61 MB\n",
      "Weights successfully sent to the server.\n",
      "Model size: 0.61 MB\n",
      "Weights successfully sent to the server.\n",
      "Model size: 0.61 MB\n",
      "Weights successfully sent to the server.\n",
      "Model size: 0.61 MB\n",
      "Weights successfully sent to the server.\n",
      "Model size: 0.61 MB\n",
      "Weights successfully sent to the server.\n",
      "Model size: 0.61 MB\n",
      "Weights successfully sent to the server.\n",
      "Model size: 0.61 MB\n",
      "Weights successfully sent to the server.\n",
      "Model size: 0.61 MB\n",
      "Weights successfully sent to the server.\n",
      "Model size: 0.61 MB\n",
      "Weights successfully sent to the server.\n",
      "Model size: 0.61 MB\n",
      "Weights successfully sent to the server.\n",
      "Model size: 0.61 MB\n",
      "Weights successfully sent to the server.\n",
      "Model size: 0.61 MB\n",
      "Weights successfully sent to the server.\n",
      "Model size: 0.61 MB\n",
      "Weights successfully sent to the server.\n",
      "Model size: 0.61 MB\n",
      "Weights successfully sent to the server.\n",
      "Model size: 0.61 MB\n",
      "Weights successfully sent to the server.\n",
      "Model size: 0.61 MB\n",
      "Weights successfully sent to the server.\n",
      "Model size: 0.61 MB\n",
      "Weights successfully sent to the server.\n",
      "Model size: 0.61 MB\n",
      "Weights successfully sent to the server.\n",
      "Model size: 0.61 MB\n",
      "Weights successfully sent to the server.\n",
      "Model size: 0.61 MB\n",
      "Weights successfully sent to the server.\n",
      "Model size: 0.61 MB\n",
      "Weights successfully sent to the server.\n",
      "Model size: 0.61 MB\n",
      "Weights successfully sent to the server.\n",
      "Model size: 0.61 MB\n",
      "Weights successfully sent to the server.\n",
      "Model size: 0.61 MB\n",
      "Weights successfully sent to the server.\n",
      "Model size: 0.61 MB\n",
      "Weights successfully sent to the server.\n",
      "Model size: 0.61 MB\n",
      "Weights successfully sent to the server.\n",
      "Model size: 0.61 MB\n",
      "Weights successfully sent to the server.\n",
      "Model size: 0.61 MB\n",
      "Weights successfully sent to the server.\n",
      "Model size: 0.61 MB\n",
      "Weights successfully sent to the server.\n",
      "Model size: 0.61 MB\n",
      "Weights successfully sent to the server.\n"
     ]
    },
    {
     "name": "stderr",
     "output_type": "stream",
     "text": [
      "epoch: 6, loss: 0.33:  60%|██████    | 6/10 [00:22<00:14,  3.71s/it]"
     ]
    },
    {
     "name": "stdout",
     "output_type": "stream",
     "text": [
      "Model weights updated successfully.\n",
      "Model size: 0.61 MB\n",
      "Weights successfully sent to the server.\n",
      "Model size: 0.61 MB\n",
      "Weights successfully sent to the server.\n",
      "Model size: 0.61 MB\n",
      "Weights successfully sent to the server.\n",
      "Model size: 0.61 MB\n",
      "Weights successfully sent to the server.\n",
      "Model size: 0.61 MB\n",
      "Weights successfully sent to the server.\n",
      "Model size: 0.61 MB\n",
      "Weights successfully sent to the server.\n",
      "Model size: 0.61 MB\n",
      "Weights successfully sent to the server.\n",
      "Model size: 0.61 MB\n",
      "Weights successfully sent to the server.\n",
      "Model size: 0.61 MB\n",
      "Weights successfully sent to the server.\n",
      "Model size: 0.61 MB\n",
      "Weights successfully sent to the server.\n",
      "Model size: 0.61 MB\n",
      "Weights successfully sent to the server.\n",
      "Model size: 0.61 MB\n",
      "Weights successfully sent to the server.\n",
      "Model size: 0.61 MB\n",
      "Weights successfully sent to the server.\n",
      "Model size: 0.61 MB\n",
      "Weights successfully sent to the server.\n",
      "Model size: 0.61 MB\n",
      "Weights successfully sent to the server.\n",
      "Model size: 0.61 MB\n",
      "Weights successfully sent to the server.\n",
      "Model size: 0.61 MB\n",
      "Weights successfully sent to the server.\n",
      "Model size: 0.61 MB\n",
      "Weights successfully sent to the server.\n",
      "Model size: 0.61 MB\n",
      "Weights successfully sent to the server.\n",
      "Model size: 0.61 MB\n",
      "Weights successfully sent to the server.\n",
      "Model size: 0.61 MB\n",
      "Weights successfully sent to the server.\n",
      "Model size: 0.61 MB\n",
      "Weights successfully sent to the server.\n",
      "Model size: 0.61 MB\n",
      "Weights successfully sent to the server.\n",
      "Model size: 0.61 MB\n",
      "Weights successfully sent to the server.\n",
      "Model size: 0.61 MB\n",
      "Weights successfully sent to the server.\n",
      "Model size: 0.61 MB\n",
      "Weights successfully sent to the server.\n",
      "Model size: 0.61 MB\n",
      "Weights successfully sent to the server.\n",
      "Model size: 0.61 MB\n",
      "Weights successfully sent to the server.\n",
      "Model size: 0.61 MB\n",
      "Weights successfully sent to the server.\n",
      "Model size: 0.61 MB\n",
      "Weights successfully sent to the server.\n",
      "Model size: 0.61 MB\n",
      "Weights successfully sent to the server.\n",
      "Model size: 0.61 MB\n",
      "Weights successfully sent to the server.\n",
      "Model size: 0.61 MB\n",
      "Weights successfully sent to the server.\n",
      "Model size: 0.61 MB\n",
      "Weights successfully sent to the server.\n",
      "Model size: 0.61 MB\n",
      "Weights successfully sent to the server.\n",
      "Model size: 0.61 MB\n",
      "Weights successfully sent to the server.\n",
      "Model size: 0.61 MB\n",
      "Weights successfully sent to the server.\n",
      "Model size: 0.61 MB\n",
      "Weights successfully sent to the server.\n",
      "Model size: 0.61 MB\n",
      "Weights successfully sent to the server.\n",
      "Model size: 0.61 MB\n",
      "Weights successfully sent to the server.\n",
      "Model size: 0.61 MB\n",
      "Weights successfully sent to the server.\n",
      "Model size: 0.61 MB\n",
      "Weights successfully sent to the server.\n",
      "Model size: 0.61 MB\n",
      "Weights successfully sent to the server.\n",
      "Model size: 0.61 MB\n",
      "Weights successfully sent to the server.\n",
      "Model size: 0.61 MB\n",
      "Weights successfully sent to the server.\n",
      "Model size: 0.61 MB\n",
      "Weights successfully sent to the server.\n",
      "Model size: 0.61 MB\n"
     ]
    },
    {
     "name": "stderr",
     "output_type": "stream",
     "text": [
      "epoch: 7, loss: 0.34:  70%|███████   | 7/10 [00:25<00:10,  3.51s/it]"
     ]
    },
    {
     "name": "stdout",
     "output_type": "stream",
     "text": [
      "Weights successfully sent to the server.\n",
      "Model size: 0.61 MB\n",
      "Weights successfully sent to the server.\n",
      "Model size: 0.61 MB\n",
      "Weights successfully sent to the server.\n",
      "Model size: 0.61 MB\n",
      "Weights successfully sent to the server.\n",
      "Model weights updated successfully.\n",
      "Model size: 0.61 MB\n",
      "Weights successfully sent to the server.\n",
      "Model size: 0.61 MB\n",
      "Weights successfully sent to the server.\n",
      "Model size: 0.61 MB\n",
      "Weights successfully sent to the server.\n",
      "Model size: 0.61 MB\n",
      "Weights successfully sent to the server.\n",
      "Model size: 0.61 MB\n",
      "Weights successfully sent to the server.\n",
      "Model size: 0.61 MB\n",
      "Weights successfully sent to the server.\n",
      "Model size: 0.61 MB\n",
      "Weights successfully sent to the server.\n",
      "Model size: 0.61 MB\n",
      "Weights successfully sent to the server.\n",
      "Model size: 0.61 MB\n",
      "Weights successfully sent to the server.\n",
      "Model size: 0.61 MB\n",
      "Weights successfully sent to the server.\n",
      "Model size: 0.61 MB\n",
      "Weights successfully sent to the server.\n",
      "Model size: 0.61 MB\n",
      "Weights successfully sent to the server.\n",
      "Model size: 0.61 MB\n",
      "Weights successfully sent to the server.\n",
      "Model size: 0.61 MB\n",
      "Weights successfully sent to the server.\n",
      "Model size: 0.61 MB\n",
      "Weights successfully sent to the server.\n",
      "Model size: 0.61 MB\n",
      "Weights successfully sent to the server.\n",
      "Model size: 0.61 MB\n",
      "Weights successfully sent to the server.\n",
      "Model size: 0.61 MB\n",
      "Weights successfully sent to the server.\n",
      "Model size: 0.61 MB\n",
      "Weights successfully sent to the server.\n",
      "Model size: 0.61 MB\n",
      "Weights successfully sent to the server.\n",
      "Model size: 0.61 MB\n",
      "Weights successfully sent to the server.\n",
      "Model size: 0.61 MB\n",
      "Weights successfully sent to the server.\n",
      "Model size: 0.61 MB\n",
      "Weights successfully sent to the server.\n",
      "Model size: 0.61 MB\n",
      "Weights successfully sent to the server.\n",
      "Model size: 0.61 MB\n",
      "Weights successfully sent to the server.\n",
      "Model size: 0.61 MB\n",
      "Weights successfully sent to the server.\n",
      "Model size: 0.61 MB\n",
      "Weights successfully sent to the server.\n",
      "Model size: 0.61 MB\n",
      "Weights successfully sent to the server.\n",
      "Model size: 0.61 MB\n",
      "Weights successfully sent to the server.\n",
      "Model size: 0.61 MB\n",
      "Weights successfully sent to the server.\n",
      "Model size: 0.61 MB\n",
      "Weights successfully sent to the server.\n",
      "Model size: 0.61 MB\n",
      "Weights successfully sent to the server.\n",
      "Model size: 0.61 MB\n",
      "Weights successfully sent to the server.\n",
      "Model size: 0.61 MB\n",
      "Weights successfully sent to the server.\n",
      "Model size: 0.61 MB\n",
      "Weights successfully sent to the server.\n",
      "Model size: 0.61 MB\n",
      "Weights successfully sent to the server.\n",
      "Model size: 0.61 MB\n",
      "Weights successfully sent to the server.\n",
      "Model size: 0.61 MB\n",
      "Weights successfully sent to the server.\n",
      "Model size: 0.61 MB\n",
      "Weights successfully sent to the server.\n",
      "Model size: 0.61 MB\n",
      "Weights successfully sent to the server.\n",
      "Model size: 0.61 MB\n",
      "Weights successfully sent to the server.\n",
      "Model size: 0.61 MB\n",
      "Weights successfully sent to the server.\n",
      "Model size: 0.61 MB\n",
      "Weights successfully sent to the server.\n",
      "Model size: 0.61 MB\n",
      "Weights successfully sent to the server.\n",
      "Model size: 0.61 MB\n",
      "Weights successfully sent to the server.\n",
      "Model size: 0.61 MB\n",
      "Weights successfully sent to the server.\n",
      "Model size: 0.61 MB\n"
     ]
    },
    {
     "name": "stderr",
     "output_type": "stream",
     "text": [
      "epoch: 8, loss: 0.30:  80%|████████  | 8/10 [00:30<00:07,  3.92s/it]"
     ]
    },
    {
     "name": "stdout",
     "output_type": "stream",
     "text": [
      "Weights successfully sent to the server.\n",
      "Model size: 0.61 MB\n",
      "Weights successfully sent to the server.\n",
      "Model size: 0.61 MB\n",
      "Weights successfully sent to the server.\n",
      "Model size: 0.61 MB\n",
      "Weights successfully sent to the server.\n",
      "Model weights updated successfully.\n",
      "Model size: 0.61 MB\n",
      "Weights successfully sent to the server.\n",
      "Model size: 0.61 MB\n",
      "Weights successfully sent to the server.\n",
      "Model size: 0.61 MB\n",
      "Weights successfully sent to the server.\n",
      "Model size: 0.61 MB\n",
      "Weights successfully sent to the server.\n",
      "Model size: 0.61 MB\n",
      "Weights successfully sent to the server.\n",
      "Model size: 0.61 MB\n",
      "Weights successfully sent to the server.\n",
      "Model size: 0.61 MB\n",
      "Weights successfully sent to the server.\n",
      "Model size: 0.61 MB\n",
      "Weights successfully sent to the server.\n",
      "Model size: 0.61 MB\n",
      "Weights successfully sent to the server.\n",
      "Model size: 0.61 MB\n",
      "Weights successfully sent to the server.\n",
      "Model size: 0.61 MB\n",
      "Weights successfully sent to the server.\n",
      "Model size: 0.61 MB\n",
      "Weights successfully sent to the server.\n",
      "Model size: 0.61 MB\n",
      "Weights successfully sent to the server.\n",
      "Model size: 0.61 MB\n",
      "Weights successfully sent to the server.\n",
      "Model size: 0.61 MB\n",
      "Weights successfully sent to the server.\n",
      "Model size: 0.61 MB\n",
      "Weights successfully sent to the server.\n",
      "Model size: 0.61 MB\n",
      "Weights successfully sent to the server.\n",
      "Model size: 0.61 MB\n",
      "Weights successfully sent to the server.\n",
      "Model size: 0.61 MB\n",
      "Weights successfully sent to the server.\n",
      "Model size: 0.61 MB\n",
      "Weights successfully sent to the server.\n",
      "Model size: 0.61 MB\n",
      "Weights successfully sent to the server.\n",
      "Model size: 0.61 MB\n",
      "Weights successfully sent to the server.\n",
      "Model size: 0.61 MB\n",
      "Weights successfully sent to the server.\n",
      "Model size: 0.61 MB\n",
      "Weights successfully sent to the server.\n",
      "Model size: 0.61 MB\n",
      "Weights successfully sent to the server.\n",
      "Model size: 0.61 MB\n",
      "Weights successfully sent to the server.\n",
      "Model size: 0.61 MB\n",
      "Weights successfully sent to the server.\n",
      "Model size: 0.61 MB\n",
      "Weights successfully sent to the server.\n",
      "Model size: 0.61 MB\n",
      "Weights successfully sent to the server.\n",
      "Model size: 0.61 MB\n",
      "Weights successfully sent to the server.\n",
      "Model size: 0.61 MB\n",
      "Weights successfully sent to the server.\n",
      "Model size: 0.61 MB\n",
      "Weights successfully sent to the server.\n",
      "Model size: 0.61 MB\n",
      "Weights successfully sent to the server.\n",
      "Model size: 0.61 MB\n",
      "Weights successfully sent to the server.\n",
      "Model size: 0.61 MB\n",
      "Weights successfully sent to the server.\n",
      "Model size: 0.61 MB\n",
      "Weights successfully sent to the server.\n",
      "Model size: 0.61 MB\n",
      "Weights successfully sent to the server.\n",
      "Model size: 0.61 MB\n",
      "Weights successfully sent to the server.\n",
      "Model size: 0.61 MB\n",
      "Weights successfully sent to the server.\n",
      "Model size: 0.61 MB\n",
      "Weights successfully sent to the server.\n",
      "Model size: 0.61 MB\n",
      "Weights successfully sent to the server.\n",
      "Model size: 0.61 MB\n",
      "Weights successfully sent to the server.\n",
      "Model size: 0.61 MB\n",
      "Weights successfully sent to the server.\n",
      "Model size: 0.61 MB\n",
      "Weights successfully sent to the server.\n",
      "Model size: 0.61 MB\n",
      "Weights successfully sent to the server.\n",
      "Model size: 0.61 MB\n",
      "Weights successfully sent to the server.\n",
      "Model size: 0.61 MB\n"
     ]
    },
    {
     "name": "stderr",
     "output_type": "stream",
     "text": [
      "epoch: 9, loss: 0.18:  90%|█████████ | 9/10 [00:33<00:03,  3.77s/it]"
     ]
    },
    {
     "name": "stdout",
     "output_type": "stream",
     "text": [
      "Weights successfully sent to the server.\n",
      "Model size: 0.61 MB\n",
      "Weights successfully sent to the server.\n",
      "Model size: 0.61 MB\n",
      "Weights successfully sent to the server.\n",
      "Model size: 0.61 MB\n",
      "Weights successfully sent to the server.\n",
      "Model weights updated successfully.\n",
      "Model size: 0.61 MB\n",
      "Weights successfully sent to the server.\n",
      "Model size: 0.61 MB\n",
      "Weights successfully sent to the server.\n",
      "Model size: 0.61 MB\n",
      "Weights successfully sent to the server.\n",
      "Model size: 0.61 MB\n",
      "Weights successfully sent to the server.\n",
      "Model size: 0.61 MB\n",
      "Weights successfully sent to the server.\n",
      "Model size: 0.61 MB\n",
      "Weights successfully sent to the server.\n",
      "Model size: 0.61 MB\n",
      "Weights successfully sent to the server.\n",
      "Model size: 0.61 MB\n",
      "Weights successfully sent to the server.\n",
      "Model size: 0.61 MB\n",
      "Weights successfully sent to the server.\n",
      "Model size: 0.61 MB\n",
      "Weights successfully sent to the server.\n",
      "Model size: 0.61 MB\n",
      "Weights successfully sent to the server.\n",
      "Model size: 0.61 MB\n",
      "Weights successfully sent to the server.\n",
      "Model size: 0.61 MB\n",
      "Weights successfully sent to the server.\n",
      "Model size: 0.61 MB\n",
      "Weights successfully sent to the server.\n",
      "Model size: 0.61 MB\n",
      "Weights successfully sent to the server.\n",
      "Model size: 0.61 MB\n",
      "Weights successfully sent to the server.\n",
      "Model size: 0.61 MB\n",
      "Weights successfully sent to the server.\n",
      "Model size: 0.61 MB\n",
      "Weights successfully sent to the server.\n",
      "Model size: 0.61 MB\n",
      "Weights successfully sent to the server.\n",
      "Model size: 0.61 MB\n",
      "Weights successfully sent to the server.\n",
      "Model size: 0.61 MB\n",
      "Weights successfully sent to the server.\n",
      "Model size: 0.61 MB\n",
      "Weights successfully sent to the server.\n",
      "Model size: 0.61 MB\n",
      "Weights successfully sent to the server.\n",
      "Model size: 0.61 MB\n",
      "Weights successfully sent to the server.\n",
      "Model size: 0.61 MB\n",
      "Weights successfully sent to the server.\n",
      "Model size: 0.61 MB\n",
      "Weights successfully sent to the server.\n",
      "Model size: 0.61 MB\n",
      "Weights successfully sent to the server.\n",
      "Model size: 0.61 MB\n",
      "Weights successfully sent to the server.\n",
      "Model size: 0.61 MB\n",
      "Weights successfully sent to the server.\n",
      "Model size: 0.61 MB\n",
      "Weights successfully sent to the server.\n",
      "Model size: 0.61 MB\n",
      "Weights successfully sent to the server.\n",
      "Model size: 0.61 MB\n",
      "Weights successfully sent to the server.\n",
      "Model size: 0.61 MB\n",
      "Weights successfully sent to the server.\n",
      "Model size: 0.61 MB\n",
      "Weights successfully sent to the server.\n",
      "Model size: 0.61 MB\n",
      "Weights successfully sent to the server.\n",
      "Model size: 0.61 MB\n",
      "Weights successfully sent to the server.\n",
      "Model size: 0.61 MB\n",
      "Weights successfully sent to the server.\n",
      "Model size: 0.61 MB\n",
      "Weights successfully sent to the server.\n",
      "Model size: 0.61 MB\n",
      "Weights successfully sent to the server.\n",
      "Model size: 0.61 MB\n",
      "Weights successfully sent to the server.\n",
      "Model size: 0.61 MB\n",
      "Weights successfully sent to the server.\n",
      "Model size: 0.61 MB\n",
      "Weights successfully sent to the server.\n",
      "Model size: 0.61 MB\n",
      "Weights successfully sent to the server.\n",
      "Model size: 0.61 MB\n",
      "Weights successfully sent to the server.\n",
      "Model size: 0.61 MB\n",
      "Weights successfully sent to the server.\n",
      "Model size: 0.61 MB\n",
      "Weights successfully sent to the server.\n",
      "Model size: 0.61 MB\n",
      "Weights successfully sent to the server.\n",
      "Model size: 0.61 MB\n",
      "Weights successfully sent to the server.\n",
      "Model size: 0.61 MB\n",
      "Weights successfully sent to the server.\n",
      "Model size: 0.61 MB\n"
     ]
    },
    {
     "name": "stderr",
     "output_type": "stream",
     "text": [
      "epoch: 10, loss: 0.18: 100%|██████████| 10/10 [00:37<00:00,  3.70s/it]"
     ]
    },
    {
     "name": "stdout",
     "output_type": "stream",
     "text": [
      "Weights successfully sent to the server.\n",
      "Model weights updated successfully.\n"
     ]
    },
    {
     "name": "stderr",
     "output_type": "stream",
     "text": [
      "\n"
     ]
    },
    {
     "data": {
      "image/png": "[encoded data removed]",
      "text/plain": [
       "<Figure size 640x480 with 1 Axes>"
      ]
     },
     "metadata": {},
     "output_type": "display_data"
    },
    {
     "name": "stdout",
     "output_type": "stream",
     "text": [
      "{'MAP': 1.0, 'NDCG@10': 0.2879949, 'Precision@10': 1.0, 'Recall@10': 1.0}\n"
     ]
    }
   ],
   "source": [
    "def API_SIMULATION():\n",
    "\n",
    "    # instantiate the dataset based on passed argument\n",
    "    dataset = Dataset(\"yelp\")\n",
    "  \n",
    "    # run the server to load the existing model or train & save a new one\n",
    "    run_server(\n",
    "        dataset=dataset,\n",
    "        num_clients=50,\n",
    "        epochs=10,\n",
    "        local_epochs=3,\n",
    "        learning_rate=0.001\n",
    "    )\n",
    "\n",
    "API_SIMULATION()"
   ]
  }
 ],
 "metadata": {
  "kernelspec": {
   "display_name": "base",
   "language": "python",
   "name": "python3"
  },
  "language_info": {
   "codemirror_mode": {
    "name": "ipython",
    "version": 3
   },
   "file_extension": ".py",
   "mimetype": "text/x-python",
   "name": "python",
   "nbconvert_exporter": "python",
   "pygments_lexer": "ipython3",
   "version": "3.9.6"
  }
 },
 "nbformat": 4,
 "nbformat_minor": 2
}
